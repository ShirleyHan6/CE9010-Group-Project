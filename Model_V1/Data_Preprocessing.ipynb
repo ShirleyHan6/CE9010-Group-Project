{
 "cells": [
  {
   "cell_type": "code",
   "execution_count": 12,
   "metadata": {},
   "outputs": [],
   "source": [
    "import _pickle as pickle\n",
    "import jsonlines\n",
    "\n",
    "heads = []\n",
    "descs = []\n",
    "keywords = []\n",
    "\n",
    "with jsonlines.open('signalmedia-1m' + '.jsonl','r') as reader:\n",
    "    i = 0\n",
    "    for obj in reader:\n",
    "        if i < 1000000:\n",
    "            i += 1\n",
    "            head = obj[\"title\"]\n",
    "            desc = [s.strip() for s in obj[\"content\"].splitlines()]\n",
    "            heads.append(head)\n",
    "            descs.append(desc)\n",
    "            keywords.append(None)\n",
    "        else:\n",
    "            break\n",
    "\n",
    "descs[2]\n",
    "new_desc = []\n",
    "for i in range(len(descs)):\n",
    "    new_art = \"\".join(descs[i])\n",
    "    new_desc.append(new_art)\n"
   ]
  },
  {
   "cell_type": "code",
   "execution_count": 17,
   "metadata": {},
   "outputs": [
    {
     "data": {
      "text/plain": [
       "['Worcester breakfast club for veterans gives hunger its marching orders',\n",
       " 'Jumpshot Gives Marketers Renewed Visibility Into Paid and Organic Keywords With Launch of Jumpshot Elite',\n",
       " 'The Return Of The Nike Air Max Sensation Has 80’s Babies Hyped!',\n",
       " 'This New Dating App Will Ruin Your Internet Game',\n",
       " 'Pay up or face legal action: DBKL']"
      ]
     },
     "execution_count": 17,
     "metadata": {},
     "output_type": "execute_result"
    }
   ],
   "source": [
    "heads[:5]"
   ]
  },
  {
   "cell_type": "code",
   "execution_count": 22,
   "metadata": {},
   "outputs": [
    {
     "data": {
      "text/plain": [
       "'Mumbai, Sep 11 : Following were the indicative currency notes\\xa0 and travellers’ cheques buying and selling rates per unit\\xa0 today.\\xa0 CURRENCY NAME BUY SALE UAE DIRHAM 16.7276 19.1652 AUSTRALIAN DOLLAR 43.7311 49.3792\\xa0 BANGLADESH TAKA 0.782276 0.921413\\xa0 BAHRAIN DINAR 163.3139 186.6076 CANADIAN DOLLAR 46.2854 53.1733\\xa0 SWISS FRANC 63.3832 72.8305 CHINESE YUAN 7.36 11.96 DANISH KRONE 9.1253 10.6636     EURO 69.8139 79.004\\xa0 STERLING POUND 95.581 108.1744 HONG KONG DOLLAR 7.7277 9.2278\\xa0 JAPANESE YEN 0.5098 0.5795 KUWAITI DINAR 181.7544 225.9568\\xa0\\xa0 SRI LANKA RUPEE 0.4387 0.5162 MALAYSIAN RINGITT 13.6713 16.8179 NORWEGIAN KRONE 7.3399 8.6565 NEPALESE RUPEE 0.5749 0.6251 NEW ZEALAND DOLLAR 38.0173 44.6709 OMANI RIAL 160.016414 182.547573 PAKISTAN RUPEE 0.5835 0.6864 QATARI RIAL 16.8627 19.3201 SAUDI RIAL 16.3564 18.9515 SWEDISH KRONA 7.1261 8.4018 SINGAPORE DOLLAR 42.9001 50.6758 THAI BAHT 1.6894 2.0027 US DOLLAR 61.8807 70.0204 SOUTH AFRICAN RAND 4.2193 5.1954'"
      ]
     },
     "execution_count": 22,
     "metadata": {},
     "output_type": "execute_result"
    }
   ],
   "source": [
    "new_desc[5]"
   ]
  },
  {
   "cell_type": "code",
   "execution_count": 14,
   "metadata": {},
   "outputs": [],
   "source": [
    "from pandas import DataFrame\n",
    "\n",
    "dataset = {}\n",
    "dataset['issue_title'] = heads\n",
    "dataset['body'] = new_desc\n",
    "\n",
    "df = DataFrame(dataset, columns= ['issue_title', 'body'])"
   ]
  },
  {
   "cell_type": "code",
   "execution_count": 15,
   "metadata": {},
   "outputs": [],
   "source": [
    "export_csv = df.to_csv (r'News_headline.csv', index = None, header=True)"
   ]
  },
  {
   "cell_type": "code",
   "execution_count": null,
   "metadata": {},
   "outputs": [],
   "source": []
  }
 ],
 "metadata": {
  "kernelspec": {
   "display_name": "Python 3",
   "language": "python",
   "name": "python3"
  },
  "language_info": {
   "codemirror_mode": {
    "name": "ipython",
    "version": 3
   },
   "file_extension": ".py",
   "mimetype": "text/x-python",
   "name": "python",
   "nbconvert_exporter": "python",
   "pygments_lexer": "ipython3",
   "version": "3.7.1"
  }
 },
 "nbformat": 4,
 "nbformat_minor": 2
}
