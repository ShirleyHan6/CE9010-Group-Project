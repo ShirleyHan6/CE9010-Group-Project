{
 "cells": [
  {
   "cell_type": "code",
   "execution_count": null,
   "metadata": {},
   "outputs": [],
   "source": [
    "import _pickle as pickle\n",
    "import jsonlines\n",
    "\n",
    "heads = []\n",
    "descs = []\n",
    "keywords = []\n",
    "\n",
    "with jsonlines.open('signalmedia-1m' + '.jsonl','r') as reader:\n",
    "    i = 0\n",
    "    for obj in reader:\n",
    "        if i < 1000000:\n",
    "            i += 1\n",
    "            head = obj[\"title\"]\n",
    "            desc = [s.strip() for s in obj[\"content\"].splitlines()]\n",
    "            heads.append(head)\n",
    "            descs.append(desc)\n",
    "            keywords.append(None)\n",
    "        else:\n",
    "            break\n",
    "\n",
    "descs[2]\n",
    "new_desc = []\n",
    "for i in range(len(descs)):\n",
    "    new_art = \"\".join(descs[i])\n",
    "    new_desc.append(new_art)\n"
   ]
  },
  {
   "cell_type": "code",
   "execution_count": null,
   "metadata": {},
   "outputs": [],
   "source": [
    "heads[:5]"
   ]
  },
  {
   "cell_type": "code",
   "execution_count": null,
   "metadata": {},
   "outputs": [],
   "source": [
    "new_desc[5]"
   ]
  },
  {
   "cell_type": "code",
   "execution_count": null,
   "metadata": {},
   "outputs": [],
   "source": [
    "from pandas import DataFrame\n",
    "\n",
    "dataset = {}\n",
    "dataset['issue_title'] = heads\n",
    "dataset['body'] = new_desc\n",
    "\n",
    "df = DataFrame(dataset, columns= ['issue_title', 'body'])"
   ]
  },
  {
   "cell_type": "code",
   "execution_count": null,
   "metadata": {},
   "outputs": [],
   "source": [
    "export_csv = df.to_csv (r'News_headline.csv', index = None, header=True)"
   ]
  },
  {
   "cell_type": "code",
   "execution_count": null,
   "metadata": {},
   "outputs": [],
   "source": [
    "df.head(3)"
   ]
  },
  {
   "cell_type": "code",
   "execution_count": null,
   "metadata": {},
   "outputs": [],
   "source": []
  }
 ],
 "metadata": {
  "kernelspec": {
   "display_name": "Python 3",
   "language": "python",
   "name": "python3"
  },
  "language_info": {
   "codemirror_mode": {
    "name": "ipython",
    "version": 3
   },
   "file_extension": ".py",
   "mimetype": "text/x-python",
   "name": "python",
   "nbconvert_exporter": "python",
   "pygments_lexer": "ipython3",
   "version": "3.6.7"
  }
 },
 "nbformat": 4,
 "nbformat_minor": 2
}
