{
  "nbformat": 4,
  "nbformat_minor": 0,
  "metadata": {
    "colab": {
      "name": "Wordcloud.ipynb",
      "version": "0.3.2",
      "provenance": [],
      "include_colab_link": true
    },
    "kernelspec": {
      "name": "python3",
      "display_name": "Python 3"
    }
  },
  "cells": [
    {
      "cell_type": "markdown",
      "metadata": {
        "id": "view-in-github",
        "colab_type": "text"
      },
      "source": [
        "<a href=\"https://colab.research.google.com/github/ShirleyHan6/CE9010-Group-Project/blob/master/Wordcloud.ipynb\" target=\"_parent\"><img src=\"https://colab.research.google.com/assets/colab-badge.svg\" alt=\"Open In Colab\"/></a>"
      ]
    },
    {
      "metadata": {
        "id": "67yNuG1fReHz",
        "colab_type": "code",
        "colab": {}
      },
      "cell_type": "code",
      "source": [
        "!pip install -U -q PyDrive\n",
        "from pydrive.auth import GoogleAuth\n",
        "from pydrive.drive import GoogleDrive\n",
        "from google.colab import auth\n",
        "from oauth2client.client import GoogleCredentials\n",
        "# Authenticate and create the PyDrive client.\n",
        "auth.authenticate_user()\n",
        "gauth = GoogleAuth()\n",
        "gauth.credentials = GoogleCredentials.get_application_default()\n",
        "drive = GoogleDrive(gauth)"
      ],
      "execution_count": 0,
      "outputs": []
    },
    {
      "metadata": {
        "id": "ouzdqqd5RkM3",
        "colab_type": "code",
        "colab": {
          "base_uri": "https://localhost:8080/",
          "height": 34
        },
        "outputId": "7f3bebf5-bb90-4993-f1cc-124da30d67de"
      },
      "cell_type": "code",
      "source": [
        "link = 'https://drive.google.com/open?id=1FdLlJ1RB77dF4kSzSWF9WXmoDZx5bdPL'\n",
        "fluff, id = link.split('=')\n",
        "print (id) # Verify that you have everything after '='"
      ],
      "execution_count": 4,
      "outputs": [
        {
          "output_type": "stream",
          "text": [
            "1FdLlJ1RB77dF4kSzSWF9WXmoDZx5bdPL\n"
          ],
          "name": "stdout"
        }
      ]
    },
    {
      "metadata": {
        "id": "DpT3Z_KQUWZD",
        "colab_type": "code",
        "colab": {}
      },
      "cell_type": "code",
      "source": [
        "downloaded = drive.CreateFile({'id':id}) \n",
        "downloaded.GetContentFile('github_issues.csv')  \n",
        "\n",
        "# Dataset is now stored in a Pandas Dataframe"
      ],
      "execution_count": 0,
      "outputs": []
    },
    {
      "metadata": {
        "id": "-lTc0dQPUwzP",
        "colab_type": "code",
        "colab": {}
      },
      "cell_type": "code",
      "source": [
        "import pandas as pd\n",
        "import logging\n",
        "import glob\n",
        "pd.set_option('display.max_colwidth', 500)\n",
        "logger = logging.getLogger()\n",
        "logger.setLevel(logging.WARNING)"
      ],
      "execution_count": 0,
      "outputs": []
    },
    {
      "metadata": {
        "id": "t_ZgSWWHUYLQ",
        "colab_type": "code",
        "colab": {}
      },
      "cell_type": "code",
      "source": [
        "df = pd.read_csv('github_issues.csv').sample(n=1000)"
      ],
      "execution_count": 0,
      "outputs": []
    },
    {
      "metadata": {
        "id": "eSs6GmbrVB-A",
        "colab_type": "code",
        "colab": {
          "base_uri": "https://localhost:8080/",
          "height": 476
        },
        "outputId": "17176d03-758a-495c-f526-05874d2baf2a"
      },
      "cell_type": "code",
      "source": [
        "df.head(5)"
      ],
      "execution_count": 10,
      "outputs": [
        {
          "output_type": "execute_result",
          "data": {
            "text/html": [
              "<div>\n",
              "<style scoped>\n",
              "    .dataframe tbody tr th:only-of-type {\n",
              "        vertical-align: middle;\n",
              "    }\n",
              "\n",
              "    .dataframe tbody tr th {\n",
              "        vertical-align: top;\n",
              "    }\n",
              "\n",
              "    .dataframe thead th {\n",
              "        text-align: right;\n",
              "    }\n",
              "</style>\n",
              "<table border=\"1\" class=\"dataframe\">\n",
              "  <thead>\n",
              "    <tr style=\"text-align: right;\">\n",
              "      <th></th>\n",
              "      <th>issue_url</th>\n",
              "      <th>issue_title</th>\n",
              "      <th>body</th>\n",
              "    </tr>\n",
              "  </thead>\n",
              "  <tbody>\n",
              "    <tr>\n",
              "      <th>1058788</th>\n",
              "      <td>\"https://github.com/sydneyseoexpert/SEO/issues/626\"</td>\n",
              "      <td>why linkbuilding is your website's best friend for small business seo via @justincherring https://t.co/uuqh5w9u08</td>\n",
              "      <td>&lt;blockquote class= twitter-tweet &gt;\\n&lt;p lang= en dir= ltr xml:lang= en &gt;why &lt;a href= https://twitter.com/hashtag/linkbuilding?src=hash &gt; linkbuilding&lt;/a&gt; is your website's best friend for small business &lt;a href= https://twitter.com/hashtag/seo?src=hash &gt; seo&lt;/a&gt; via &lt;a href= https://twitter.com/justincherring &gt;@justincherring&lt;/a&gt; &lt;a href= https://t.co/efxhq1uhav &gt;https://t.co/efxhq1uhav&lt;/a&gt; &lt;a href= https://t.co/w84h0mfryu &gt;http://pic.twitter.com/w84h0mfryu&lt;/a&gt;&lt;/p&gt;\\n&amp;mdash; mark bouncy media ...</td>\n",
              "    </tr>\n",
              "    <tr>\n",
              "      <th>2410444</th>\n",
              "      <td>\"https://github.com/GameHackingDotOrg/Project_Artemis/issues/10\"</td>\n",
              "      <td>artemis for android - upload artemis logo</td>\n",
              "      <td>this is necessary for the android skeleton apk.</td>\n",
              "    </tr>\n",
              "    <tr>\n",
              "      <th>335477</th>\n",
              "      <td>\"https://github.com/micheleg/dash-to-dock/issues/594\"</td>\n",
              "      <td>suggestion: on clicking dock item opened apps.</td>\n",
              "      <td>when there is 2 or more app window opened on the dock, then when you click it will switch the apps, active window. i think it nice to have, if there is only single window of the app opened, then when you click it on the dock, the app will just minimize or maximize. because it is faster/easier to reach that instead clicking on the minimize button of the app. thank you</td>\n",
              "    </tr>\n",
              "    <tr>\n",
              "      <th>1440505</th>\n",
              "      <td>\"https://github.com/linfaxin/AndroidUIX/issues/11\"</td>\n",
              "      <td>how to develop androiduix app in kotlin. instuction</td>\n",
              "      <td>1.install ts2kt https://github.com/kotlin/ts2kt 2.converter of android-ui.d.ts to kotlin declarations stubs 3.dev in kotlin your app. 4.build kotlinjs project. wait bug fixed https://github.com/kotlin/ts2kt/issues/53</td>\n",
              "    </tr>\n",
              "    <tr>\n",
              "      <th>4268386</th>\n",
              "      <td>\"https://github.com/artsy/force-merge/issues/5\"</td>\n",
              "      <td>test in eigen</td>\n",
              "      <td>from the top of my head we mainly need to adjust the hostnames in eigen so that the right pages are hijacked correctly.</td>\n",
              "    </tr>\n",
              "  </tbody>\n",
              "</table>\n",
              "</div>"
            ],
            "text/plain": [
              "                                                                issue_url  \\\n",
              "1058788               \"https://github.com/sydneyseoexpert/SEO/issues/626\"   \n",
              "2410444  \"https://github.com/GameHackingDotOrg/Project_Artemis/issues/10\"   \n",
              "335477              \"https://github.com/micheleg/dash-to-dock/issues/594\"   \n",
              "1440505                \"https://github.com/linfaxin/AndroidUIX/issues/11\"   \n",
              "4268386                   \"https://github.com/artsy/force-merge/issues/5\"   \n",
              "\n",
              "                                                                                                               issue_title  \\\n",
              "1058788  why linkbuilding is your website's best friend for small business seo via @justincherring https://t.co/uuqh5w9u08   \n",
              "2410444                                                                          artemis for android - upload artemis logo   \n",
              "335477                                                                      suggestion: on clicking dock item opened apps.   \n",
              "1440505                                                                how to develop androiduix app in kotlin. instuction   \n",
              "4268386                                                                                                      test in eigen   \n",
              "\n",
              "                                                                                                                                                                                                                                                                                                                                                                                                                                                                                                                        body  \n",
              "1058788  <blockquote class= twitter-tweet >\\n<p lang= en dir= ltr xml:lang= en >why <a href= https://twitter.com/hashtag/linkbuilding?src=hash > linkbuilding</a> is your website's best friend for small business <a href= https://twitter.com/hashtag/seo?src=hash > seo</a> via <a href= https://twitter.com/justincherring >@justincherring</a> <a href= https://t.co/efxhq1uhav >https://t.co/efxhq1uhav</a> <a href= https://t.co/w84h0mfryu >http://pic.twitter.com/w84h0mfryu</a></p>\\n&mdash; mark bouncy media ...  \n",
              "2410444                                                                                                                                                                                                                                                                                                                                                                                                                                                                      this is necessary for the android skeleton apk.  \n",
              "335477                                                                                                                                     when there is 2 or more app window opened on the dock, then when you click it will switch the apps, active window. i think it nice to have, if there is only single window of the app opened, then when you click it on the dock, the app will just minimize or maximize. because it is faster/easier to reach that instead clicking on the minimize button of the app. thank you  \n",
              "1440505                                                                                                                                                                                                                                                                                             1.install ts2kt https://github.com/kotlin/ts2kt 2.converter of android-ui.d.ts to kotlin declarations stubs 3.dev in kotlin your app. 4.build kotlinjs project. wait bug fixed https://github.com/kotlin/ts2kt/issues/53  \n",
              "4268386                                                                                                                                                                                                                                                                                                                                                                                              from the top of my head we mainly need to adjust the hostnames in eigen so that the right pages are hijacked correctly.  "
            ]
          },
          "metadata": {
            "tags": []
          },
          "execution_count": 10
        }
      ]
    },
    {
      "metadata": {
        "id": "ufLcHaOcVKG_",
        "colab_type": "code",
        "colab": {
          "base_uri": "https://localhost:8080/",
          "height": 68
        },
        "outputId": "7256e83a-e6d7-4bab-d410-e4976d655a43"
      },
      "cell_type": "code",
      "source": [
        "from keras.preprocessing.text import Tokenizer\n",
        "from keras.preprocessing.sequence import pad_sequences\n",
        "from keras.layers import *\n",
        "from os import listdir\n",
        "import string\n",
        "from keras.models import Model\n",
        "\n",
        "from os import listdir\n",
        "import string\n",
        "\n",
        "from nltk.tokenize import word_tokenize\n",
        "\n",
        "from nltk.stem import PorterStemmer\n",
        "\n",
        "import nltk\n",
        "nltk.download('stopwords')\n",
        "from nltk.corpus import stopwords\n"
      ],
      "execution_count": 11,
      "outputs": [
        {
          "output_type": "stream",
          "text": [
            "Using TensorFlow backend.\n"
          ],
          "name": "stderr"
        },
        {
          "output_type": "stream",
          "text": [
            "[nltk_data] Downloading package stopwords to /root/nltk_data...\n",
            "[nltk_data]   Unzipping corpora/stopwords.zip.\n"
          ],
          "name": "stdout"
        }
      ]
    },
    {
      "metadata": {
        "id": "USGXemrkWCq6",
        "colab_type": "code",
        "colab": {}
      },
      "cell_type": "code",
      "source": [
        "title_raw = df['issue_title'].tolist()\n",
        "body_raw = df['body'].tolist()"
      ],
      "execution_count": 0,
      "outputs": []
    },
    {
      "metadata": {
        "id": "S18Ol0UEXfGl",
        "colab_type": "code",
        "colab": {
          "base_uri": "https://localhost:8080/",
          "height": 91
        },
        "outputId": "988d3fbe-f4a6-46e5-9c5b-d8513597ac98"
      },
      "cell_type": "code",
      "source": [
        "print(title_raw[100])\n",
        "print(body_raw[100])"
      ],
      "execution_count": 59,
      "outputs": [
        {
          "output_type": "stream",
          "text": [
            "action required: greenkeeper could not be activated 🚨\n",
            "🚨 you need to enable continuous integration on all branches of this repository. 🚨 to enable greenkeeper, you need to make sure that a commit status https://help.github.com/articles/about-statuses/ is reported on all branches. this is required by greenkeeper because it uses your ci build statuses to figure out when to notify you about breaking changes. since we didn’t receive a ci status on the greenkeeper/initial https://github.com/node-ffi-napi/weak-napi/commits/greenkeeper/initial branch, it’s possible that you don’t have ci set up yet. we recommend using travis ci https://travis-ci.org , but greenkeeper will work with every other ci service as well. if you _have_ already set up a ci for this repository, you might need to check how it’s configured. make sure it is set to run on all new branches. if you don’t want it to run on absolutely every branch, you can whitelist branches starting with greenkeeper/ . once you have installed and configured ci on this repository correctly, you’ll need to re-trigger greenkeeper’s initial pull request. to do this, please delete the greenkeeper/initial branch in this repository, and then remove and re-add this repository to the greenkeeper app’s white list on github. you'll find this list on your repo or organization’s __settings__ page, under __installed github apps__.\n"
          ],
          "name": "stdout"
        }
      ]
    },
    {
      "metadata": {
        "id": "uv3-kmIWXMr_",
        "colab_type": "code",
        "colab": {
          "base_uri": "https://localhost:8080/",
          "height": 68
        },
        "outputId": "fda20352-dfde-4036-8c00-085bd57bedd7"
      },
      "cell_type": "code",
      "source": [
        "nltk.download('punkt')"
      ],
      "execution_count": 53,
      "outputs": [
        {
          "output_type": "stream",
          "text": [
            "[nltk_data] Downloading package punkt to /root/nltk_data...\n",
            "[nltk_data]   Package punkt is already up-to-date!\n"
          ],
          "name": "stdout"
        },
        {
          "output_type": "execute_result",
          "data": {
            "text/plain": [
              "True"
            ]
          },
          "metadata": {
            "tags": []
          },
          "execution_count": 53
        }
      ]
    },
    {
      "metadata": {
        "id": "33t6e9tbWg5x",
        "colab_type": "code",
        "colab": {}
      },
      "cell_type": "code",
      "source": [
        "#tokenization\n",
        "title_token = [word_tokenize(x) for x in title_raw]\n",
        "body_token = [word_tokenize(x) for x in body_raw]"
      ],
      "execution_count": 0,
      "outputs": []
    },
    {
      "metadata": {
        "id": "BXNLgbF9Wnm9",
        "colab_type": "code",
        "colab": {
          "base_uri": "https://localhost:8080/",
          "height": 91
        },
        "outputId": "86ebc783-23ff-47b6-8fd5-89dab82e05b7"
      },
      "cell_type": "code",
      "source": [
        "print(title_token[100])\n",
        "print(body_token[100])"
      ],
      "execution_count": 55,
      "outputs": [
        {
          "output_type": "stream",
          "text": [
            "['action', 'required', ':', 'greenkeeper', 'could', 'not', 'be', 'activated']\n",
            "['you', 'need', 'to', 'enable', 'continuous', 'integration', 'on', 'all', 'branches', 'of', 'this', 'repository', '.', 'to', 'enable', 'greenkeeper', ',', 'you', 'need', 'to', 'make', 'sure', 'that', 'a', 'commit', 'status', 'https', ':', '//help.github.com/articles/about-statuses/', 'is', 'reported', 'on', 'all', 'branches', '.', 'this', 'is', 'required', 'by', 'greenkeeper', 'because', 'it', 'uses', 'your', 'ci', 'build', 'statuses', 'to', 'figure', 'out', 'when', 'to', 'notify', 'you', 'about', 'breaking', 'changes', '.', 'since', 'we', 'didnt', 'receive', 'a', 'ci', 'status', 'on', 'the', 'greenkeeper/initial', 'https', ':', '//github.com/node-ffi-napi/weak-napi/commits/greenkeeper/initial', 'branch', ',', 'its', 'possible', 'that', 'you', 'dont', 'have', 'ci', 'set', 'up', 'yet', '.', 'we', 'recommend', 'using', 'travis', 'ci', 'https', ':', '//travis-ci.org', ',', 'but', 'greenkeeper', 'will', 'work', 'with', 'every', 'other', 'ci', 'service', 'as', 'well', '.', 'if', 'you', '_have_', 'already', 'set', 'up', 'a', 'ci', 'for', 'this', 'repository', ',', 'you', 'might', 'need', 'to', 'check', 'how', 'its', 'configured', '.', 'make', 'sure', 'it', 'is', 'set', 'to', 'run', 'on', 'all', 'new', 'branches', '.', 'if', 'you', 'dont', 'want', 'it', 'to', 'run', 'on', 'absolutely', 'every', 'branch', ',', 'you', 'can', 'whitelist', 'branches', 'starting', 'with', 'greenkeeper/', '.', 'once', 'you', 'have', 'installed', 'and', 'configured', 'ci', 'on', 'this', 'repository', 'correctly', ',', 'youll', 'need', 'to', 're-trigger', 'greenkeepers', 'initial', 'pull', 'request', '.', 'to', 'do', 'this', ',', 'please', 'delete', 'the', 'greenkeeper/initial', 'branch', 'in', 'this', 'repository', ',', 'and', 'then', 'remove', 'and', 're-add', 'this', 'repository', 'to', 'the', 'greenkeeper', 'apps', 'white', 'list', 'on', 'github', '.', 'you', \"'ll\", 'find', 'this', 'list', 'on', 'your', 'repo', 'or', 'organizations', '__settings__', 'page', ',', 'under', '__installed', 'github', 'apps__', '.']\n"
          ],
          "name": "stdout"
        }
      ]
    },
    {
      "metadata": {
        "id": "rR4-4eu2Yfrb",
        "colab_type": "code",
        "colab": {}
      },
      "cell_type": "code",
      "source": [
        "#clean up \n",
        "i = 0\n",
        "title_clean = [None]*len(title_token)\n",
        "for x in title_token:\n",
        "    title_clean[i] = [y for y in x if y.isalpha()]\n",
        "    i = i+1\n",
        "\n",
        "i = 0    \n",
        "body_clean = [None]*len(body_token)\n",
        "for x in body_token:\n",
        "    body_clean[i] = [y for y in x if y.isalpha()]\n",
        "    i = i+1"
      ],
      "execution_count": 0,
      "outputs": []
    },
    {
      "metadata": {
        "id": "zC-b9E8bYAnP",
        "colab_type": "code",
        "colab": {
          "base_uri": "https://localhost:8080/",
          "height": 91
        },
        "outputId": "2e546c13-fbbf-4665-bf9f-f74322810fd4"
      },
      "cell_type": "code",
      "source": [
        "print(title_clean[100])\n",
        "print(body_clean[100])"
      ],
      "execution_count": 69,
      "outputs": [
        {
          "output_type": "stream",
          "text": [
            "['action', 'required', 'greenkeeper', 'could', 'not', 'be', 'activated']\n",
            "['you', 'need', 'to', 'enable', 'continuous', 'integration', 'on', 'all', 'branches', 'of', 'this', 'repository', 'to', 'enable', 'greenkeeper', 'you', 'need', 'to', 'make', 'sure', 'that', 'a', 'commit', 'status', 'https', 'is', 'reported', 'on', 'all', 'branches', 'this', 'is', 'required', 'by', 'greenkeeper', 'because', 'it', 'uses', 'your', 'ci', 'build', 'statuses', 'to', 'figure', 'out', 'when', 'to', 'notify', 'you', 'about', 'breaking', 'changes', 'since', 'we', 'didnt', 'receive', 'a', 'ci', 'status', 'on', 'the', 'https', 'branch', 'its', 'possible', 'that', 'you', 'dont', 'have', 'ci', 'set', 'up', 'yet', 'we', 'recommend', 'using', 'travis', 'ci', 'https', 'but', 'greenkeeper', 'will', 'work', 'with', 'every', 'other', 'ci', 'service', 'as', 'well', 'if', 'you', 'already', 'set', 'up', 'a', 'ci', 'for', 'this', 'repository', 'you', 'might', 'need', 'to', 'check', 'how', 'its', 'configured', 'make', 'sure', 'it', 'is', 'set', 'to', 'run', 'on', 'all', 'new', 'branches', 'if', 'you', 'dont', 'want', 'it', 'to', 'run', 'on', 'absolutely', 'every', 'branch', 'you', 'can', 'whitelist', 'branches', 'starting', 'with', 'once', 'you', 'have', 'installed', 'and', 'configured', 'ci', 'on', 'this', 'repository', 'correctly', 'youll', 'need', 'to', 'greenkeepers', 'initial', 'pull', 'request', 'to', 'do', 'this', 'please', 'delete', 'the', 'branch', 'in', 'this', 'repository', 'and', 'then', 'remove', 'and', 'this', 'repository', 'to', 'the', 'greenkeeper', 'apps', 'white', 'list', 'on', 'github', 'you', 'find', 'this', 'list', 'on', 'your', 'repo', 'or', 'organizations', 'page', 'under', 'github']\n"
          ],
          "name": "stdout"
        }
      ]
    },
    {
      "metadata": {
        "id": "E_WyM-IWZzz-",
        "colab_type": "code",
        "colab": {}
      },
      "cell_type": "code",
      "source": [
        "#remove stop words\n",
        "i = 0\n",
        "title_filtered = [None]*len(title_token)\n",
        "for x in title_clean:\n",
        "    title_filtered[i] = [y for y in x if y not in stopwords.words()]\n",
        "    i = i+1\n",
        "\n",
        "i = 0    \n",
        "body_filtered = [None]*len(body_token)\n",
        "for x in body_clean:\n",
        "    body_filtered[i] = [y for y in x if y not in stopwords.words()]\n",
        "    i = i+1"
      ],
      "execution_count": 0,
      "outputs": []
    },
    {
      "metadata": {
        "id": "ryocJxV9YHuv",
        "colab_type": "code",
        "colab": {
          "base_uri": "https://localhost:8080/",
          "height": 91
        },
        "outputId": "1530954e-72d5-4bd9-def0-706d11effe1e"
      },
      "cell_type": "code",
      "source": [
        "print(title_filtered[100])\n",
        "print(body_filtered[100])"
      ],
      "execution_count": 74,
      "outputs": [
        {
          "output_type": "stream",
          "text": [
            "['action', 'required', 'greenkeeper', 'could', 'activated']\n",
            "['need', 'enable', 'continuous', 'integration', 'branches', 'repository', 'enable', 'greenkeeper', 'need', 'make', 'sure', 'commit', 'status', 'https', 'reported', 'branches', 'required', 'greenkeeper', 'uses', 'build', 'statuses', 'figure', 'notify', 'breaking', 'changes', 'since', 'didnt', 'receive', 'status', 'https', 'branch', 'possible', 'dont', 'set', 'yet', 'recommend', 'using', 'travis', 'https', 'greenkeeper', 'work', 'every', 'service', 'well', 'already', 'set', 'repository', 'might', 'need', 'check', 'configured', 'make', 'sure', 'set', 'run', 'new', 'branches', 'dont', 'run', 'absolutely', 'every', 'branch', 'whitelist', 'branches', 'starting', 'installed', 'configured', 'repository', 'correctly', 'youll', 'need', 'greenkeepers', 'initial', 'pull', 'request', 'please', 'delete', 'branch', 'repository', 'remove', 'repository', 'greenkeeper', 'apps', 'white', 'list', 'github', 'find', 'list', 'repo', 'organizations', 'page', 'github']\n"
          ],
          "name": "stdout"
        }
      ]
    },
    {
      "metadata": {
        "id": "izWWxIbZXQAI",
        "colab_type": "code",
        "colab": {}
      },
      "cell_type": "code",
      "source": [
        "#stemming\n",
        "stemmer = PorterStemmer()\n",
        "\n",
        "i = 0\n",
        "title_stemmed = [None]*len(title_token)\n",
        "for x in title_filtered:\n",
        "    title_stemmed[i] = [stemmer.stem(y) for y in x]\n",
        "    i = i+1\n",
        "\n",
        "i = 0    \n",
        "body_stemmed = [None]*len(body_token)\n",
        "for x in body_filtered:\n",
        "    body_stemmed[i] = [stemmer.stem(y) for y in x]\n",
        "    i = i+1"
      ],
      "execution_count": 0,
      "outputs": []
    },
    {
      "metadata": {
        "id": "fLoxyQWbd0jM",
        "colab_type": "code",
        "colab": {
          "base_uri": "https://localhost:8080/",
          "height": 91
        },
        "outputId": "ca7397d6-202f-48ba-e686-1e626e95db7b"
      },
      "cell_type": "code",
      "source": [
        "print(title_stemmed[100])\n",
        "print(body_stemmed[100])"
      ],
      "execution_count": 76,
      "outputs": [
        {
          "output_type": "stream",
          "text": [
            "['action', 'requir', 'greenkeep', 'could', 'activ']\n",
            "['need', 'enabl', 'continu', 'integr', 'branch', 'repositori', 'enabl', 'greenkeep', 'need', 'make', 'sure', 'commit', 'statu', 'http', 'report', 'branch', 'requir', 'greenkeep', 'use', 'build', 'status', 'figur', 'notifi', 'break', 'chang', 'sinc', 'didnt', 'receiv', 'statu', 'http', 'branch', 'possibl', 'dont', 'set', 'yet', 'recommend', 'use', 'travi', 'http', 'greenkeep', 'work', 'everi', 'servic', 'well', 'alreadi', 'set', 'repositori', 'might', 'need', 'check', 'configur', 'make', 'sure', 'set', 'run', 'new', 'branch', 'dont', 'run', 'absolut', 'everi', 'branch', 'whitelist', 'branch', 'start', 'instal', 'configur', 'repositori', 'correctli', 'youll', 'need', 'greenkeep', 'initi', 'pull', 'request', 'pleas', 'delet', 'branch', 'repositori', 'remov', 'repositori', 'greenkeep', 'app', 'white', 'list', 'github', 'find', 'list', 'repo', 'organ', 'page', 'github']\n"
          ],
          "name": "stdout"
        }
      ]
    },
    {
      "metadata": {
        "id": "ZXLz-jSqf7Wg",
        "colab_type": "code",
        "colab": {}
      },
      "cell_type": "code",
      "source": [
        "#join sentence\n",
        "i = 0\n",
        "title_final = ['']*len(title_token)\n",
        "for x in title_stemmed:\n",
        "    title_final[i]= title_final[i] + ' ' + ' '.join(x)\n",
        "    i = i+1\n",
        "\n",
        "i = 0    \n",
        "body_final = ['']*len(body_token)\n",
        "for x in body_stemmed:\n",
        "    body_final[i]= body_final[i] + ' ' + ' '.join(x)\n",
        "    i = i+1"
      ],
      "execution_count": 0,
      "outputs": []
    },
    {
      "metadata": {
        "id": "P8Jgoiubg6wc",
        "colab_type": "code",
        "colab": {
          "base_uri": "https://localhost:8080/",
          "height": 91
        },
        "outputId": "a2e20fd2-4398-4c5b-b555-be4c8489460e"
      },
      "cell_type": "code",
      "source": [
        "print(title_final[100])\n",
        "print(body_final[100])"
      ],
      "execution_count": 86,
      "outputs": [
        {
          "output_type": "stream",
          "text": [
            " action requir greenkeep could activ\n",
            " need enabl continu integr branch repositori enabl greenkeep need make sure commit statu http report branch requir greenkeep use build status figur notifi break chang sinc didnt receiv statu http branch possibl dont set yet recommend use travi http greenkeep work everi servic well alreadi set repositori might need check configur make sure set run new branch dont run absolut everi branch whitelist branch start instal configur repositori correctli youll need greenkeep initi pull request pleas delet branch repositori remov repositori greenkeep app white list github find list repo organ page github\n"
          ],
          "name": "stdout"
        }
      ]
    },
    {
      "metadata": {
        "id": "QlfolxM-f3WB",
        "colab_type": "code",
        "colab": {}
      },
      "cell_type": "code",
      "source": [
        "import re\n",
        "from wordcloud import WordCloud\n",
        "import matplotlib.pyplot as plt\n",
        "\n",
        "import random"
      ],
      "execution_count": 0,
      "outputs": []
    },
    {
      "metadata": {
        "id": "C1KZ2wyHd1sk",
        "colab_type": "code",
        "colab": {
          "base_uri": "https://localhost:8080/",
          "height": 34
        },
        "outputId": "cc36c8c0-76b3-45fe-df56-10c7e906bcb0"
      },
      "cell_type": "code",
      "source": [
        "issue_number = random.randint(1,1000)\n",
        "print(issue_number)\n",
        "\n",
        "image_story = WordCloud(width= 800,\n",
        "                  height= 800,\n",
        "                  background_color='white',\n",
        "                  max_words=20).generate(title_final[issue_number])\n",
        "\n",
        "image_highlight = WordCloud(width= 800,\n",
        "                  height= 800,\n",
        "                  background_color='white',\n",
        "                  max_words=20).generate(body_final[issue_number])"
      ],
      "execution_count": 96,
      "outputs": [
        {
          "output_type": "stream",
          "text": [
            "220\n"
          ],
          "name": "stdout"
        }
      ]
    },
    {
      "metadata": {
        "id": "ECKfATcvhIRe",
        "colab_type": "code",
        "colab": {
          "base_uri": "https://localhost:8080/",
          "height": 266
        },
        "outputId": "1162a76c-0821-4928-f73f-64d8668b231e"
      },
      "cell_type": "code",
      "source": [
        "plt.subplot(1, 2, 1).set_title(\"Title\")\n",
        "plt.imshow(image_story)\n",
        "plt.axis(\"off\")\n",
        "\n",
        "plt.subplot(1, 2, 2).set_title(\"Body\")\n",
        "plt.imshow(image_highlight)\n",
        "plt.axis(\"off\")\n",
        "\n",
        "plt.show()"
      ],
      "execution_count": 97,
      "outputs": [
        {
          "output_type": "display_data",
          "data": {
            "image/png": "[encoded data removed]",
            "text/plain": [
              "<Figure size 576x396 with 2 Axes>"
            ]
          },
          "metadata": {
            "tags": []
          }
        }
      ]
    },
    {
      "metadata": {
        "id": "qNYxAAtyhRUT",
        "colab_type": "code",
        "colab": {}
      },
      "cell_type": "code",
      "source": [
        ""
      ],
      "execution_count": 0,
      "outputs": []
    }
  ]
}