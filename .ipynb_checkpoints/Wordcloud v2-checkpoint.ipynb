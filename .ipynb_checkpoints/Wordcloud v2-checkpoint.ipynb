{
 "cells": [
  {
   "cell_type": "markdown",
   "metadata": {
    "colab_type": "text",
    "id": "view-in-github"
   },
   "source": [
    "<a href=\"https://colab.research.google.com/github/ShirleyHan6/CE9010-Group-Project/blob/master/Wordcloud%20v2.ipynb\" target=\"_parent\"><img src=\"https://colab.research.google.com/assets/colab-badge.svg\" alt=\"Open In Colab\"/></a>"
   ]
  },
  {
   "cell_type": "code",
   "execution_count": 1,
   "metadata": {
    "colab": {
     "base_uri": "https://localhost:8080/",
     "height": 180
    },
    "colab_type": "code",
    "id": "67yNuG1fReHz",
    "outputId": "9291ad08-9a9e-4efd-d232-e2a156a8907f"
   },
   "outputs": [
    {
     "name": "stdout",
     "output_type": "stream",
     "text": [
      "\u001b[K    100% |████████████████████████████████| 993kB 5.4MB/s \n",
      "\u001b[?25h  Building wheel for PyDrive (setup.py) ... \u001b[?25ldone\n",
      "\u001b[?25h"
     ]
    }
   ],
   "source": [
    "!pip install -U -q PyDrive\n",
    "from pydrive.auth import GoogleAuth\n",
    "from pydrive.drive import GoogleDrive\n",
    "from google.colab import auth\n",
    "from oauth2client.client import GoogleCredentials\n",
    "# Authenticate and create the PyDrive client.\n",
    "auth.authenticate_user()\n",
    "gauth = GoogleAuth()\n",
    "gauth.credentials = GoogleCredentials.get_application_default()\n",
    "drive = GoogleDrive(gauth)"
   ]
  },
  {
   "cell_type": "code",
   "execution_count": 2,
   "metadata": {
    "colab": {
     "base_uri": "https://localhost:8080/",
     "height": 34
    },
    "colab_type": "code",
    "id": "ouzdqqd5RkM3",
    "outputId": "1a1f4073-1e49-487c-d372-4823d8954ad2"
   },
   "outputs": [
    {
     "name": "stdout",
     "output_type": "stream",
     "text": [
      "1FdLlJ1RB77dF4kSzSWF9WXmoDZx5bdPL\n"
     ]
    }
   ],
   "source": [
    "link = 'https://drive.google.com/open?id=1FdLlJ1RB77dF4kSzSWF9WXmoDZx5bdPL'\n",
    "fluff, id = link.split('=')\n",
    "print (id) # Verify that you have everything after '='"
   ]
  },
  {
   "cell_type": "code",
   "execution_count": 0,
   "metadata": {
    "colab": {},
    "colab_type": "code",
    "id": "DpT3Z_KQUWZD"
   },
   "outputs": [],
   "source": [
    "downloaded = drive.CreateFile({'id':id}) \n",
    "downloaded.GetContentFile('github_issues.csv')  \n",
    "\n",
    "# Dataset is now stored in a Pandas Dataframe"
   ]
  },
  {
   "cell_type": "code",
   "execution_count": 0,
   "metadata": {
    "colab": {},
    "colab_type": "code",
    "id": "-lTc0dQPUwzP"
   },
   "outputs": [],
   "source": [
    "import pandas as pd\n",
    "import logging\n",
    "import glob\n",
    "pd.set_option('display.max_colwidth', 500)\n",
    "logger = logging.getLogger()\n",
    "logger.setLevel(logging.WARNING)"
   ]
  },
  {
   "cell_type": "code",
   "execution_count": 0,
   "metadata": {
    "colab": {},
    "colab_type": "code",
    "id": "t_ZgSWWHUYLQ"
   },
   "outputs": [],
   "source": [
    "df = pd.read_csv('github_issues.csv').sample(n=1000)"
   ]
  },
  {
   "cell_type": "code",
   "execution_count": 6,
   "metadata": {
    "colab": {
     "base_uri": "https://localhost:8080/",
     "height": 743
    },
    "colab_type": "code",
    "id": "eSs6GmbrVB-A",
    "outputId": "880d6abf-7711-4485-ccdd-ee77515a9a1f"
   },
   "outputs": [
    {
     "data": {
      "text/html": [
       "<div>\n",
       "<style scoped>\n",
       "    .dataframe tbody tr th:only-of-type {\n",
       "        vertical-align: middle;\n",
       "    }\n",
       "\n",
       "    .dataframe tbody tr th {\n",
       "        vertical-align: top;\n",
       "    }\n",
       "\n",
       "    .dataframe thead th {\n",
       "        text-align: right;\n",
       "    }\n",
       "</style>\n",
       "<table border=\"1\" class=\"dataframe\">\n",
       "  <thead>\n",
       "    <tr style=\"text-align: right;\">\n",
       "      <th></th>\n",
       "      <th>issue_url</th>\n",
       "      <th>issue_title</th>\n",
       "      <th>body</th>\n",
       "    </tr>\n",
       "  </thead>\n",
       "  <tbody>\n",
       "    <tr>\n",
       "      <th>722809</th>\n",
       "      <td>\"https://github.com/jiggzson/nerdamer/issues/248\"</td>\n",
       "      <td>how to replace builtin functions?</td>\n",
       "      <td>during my custom implementation of 154, i needed custom implementations of sin, cos, tan, asin, acos and atan. i started with js nerdamer.setfunction 'sin', 'x', 'sin x pi/180 ' ; document.writeln nerdamer 'sin pi ' ; //=&gt; 0 then js var _ = nerdamer.getcore .parser; var f = _.functions.sin; _.functions.sin = function sin s {return f _.divide _.multiply s,math.pi ,180 ,1 ;} ; alert nerdamer 'sin pi ' .tostring ; //=&gt; 'allowed_args' is undefined finally js nerdamer.register { name: 'sin', numa...</td>\n",
       "    </tr>\n",
       "    <tr>\n",
       "      <th>3420098</th>\n",
       "      <td>\"https://github.com/Dispader/manifesto/issues/45\"</td>\n",
       "      <td>add coveralls code coverage to build</td>\n",
       "      <td>looks like there's a good example here https://github.com/cjstehno/gradle-webpreview-plugin/blob/master/build.gradle .</td>\n",
       "    </tr>\n",
       "    <tr>\n",
       "      <th>4035097</th>\n",
       "      <td>\"https://github.com/njase/xtperf/issues/5\"</td>\n",
       "      <td>graphically plot the external stats results</td>\n",
       "      <td>support for new command - perf plot</td>\n",
       "    </tr>\n",
       "    <tr>\n",
       "      <th>1612411</th>\n",
       "      <td>\"https://github.com/rdzz6832/ba-1/issues/1\"</td>\n",
       "      <td>add more comments</td>\n",
       "      <td>there is only one comment in these articles, master, we need more...</td>\n",
       "    </tr>\n",
       "    <tr>\n",
       "      <th>235859</th>\n",
       "      <td>\"https://github.com/facebookresearch/faiss/issues/50\"</td>\n",
       "      <td>does anyone have dockerfile for this?</td>\n",
       "      <td>i think a dockerfile is much more convenient for build and utilization for this library.</td>\n",
       "    </tr>\n",
       "  </tbody>\n",
       "</table>\n",
       "</div>"
      ],
      "text/plain": [
       "                                                     issue_url  \\\n",
       "722809       \"https://github.com/jiggzson/nerdamer/issues/248\"   \n",
       "3420098      \"https://github.com/Dispader/manifesto/issues/45\"   \n",
       "4035097             \"https://github.com/njase/xtperf/issues/5\"   \n",
       "1612411            \"https://github.com/rdzz6832/ba-1/issues/1\"   \n",
       "235859   \"https://github.com/facebookresearch/faiss/issues/50\"   \n",
       "\n",
       "                                         issue_title  \\\n",
       "722809             how to replace builtin functions?   \n",
       "3420098         add coveralls code coverage to build   \n",
       "4035097  graphically plot the external stats results   \n",
       "1612411                            add more comments   \n",
       "235859         does anyone have dockerfile for this?   \n",
       "\n",
       "                                                                                                                                                                                                                                                                                                                                                                                                                                                                                                                        body  \n",
       "722809   during my custom implementation of 154, i needed custom implementations of sin, cos, tan, asin, acos and atan. i started with js nerdamer.setfunction 'sin', 'x', 'sin x pi/180 ' ; document.writeln nerdamer 'sin pi ' ; //=> 0 then js var _ = nerdamer.getcore .parser; var f = _.functions.sin; _.functions.sin = function sin s {return f _.divide _.multiply s,math.pi ,180 ,1 ;} ; alert nerdamer 'sin pi ' .tostring ; //=> 'allowed_args' is undefined finally js nerdamer.register { name: 'sin', numa...  \n",
       "3420098                                                                                                                                                                                                                                                                                                                                                                                               looks like there's a good example here https://github.com/cjstehno/gradle-webpreview-plugin/blob/master/build.gradle .  \n",
       "4035097                                                                                                                                                                                                                                                                                                                                                                                                                                                                                  support for new command - perf plot  \n",
       "1612411                                                                                                                                                                                                                                                                                                                                                                                                                                                 there is only one comment in these articles, master, we need more...  \n",
       "235859                                                                                                                                                                                                                                                                                                                                                                                                                              i think a dockerfile is much more convenient for build and utilization for this library.  "
      ]
     },
     "execution_count": 6,
     "metadata": {
      "tags": []
     },
     "output_type": "execute_result"
    }
   ],
   "source": [
    "df.head(5)"
   ]
  },
  {
   "cell_type": "code",
   "execution_count": 7,
   "metadata": {
    "colab": {
     "base_uri": "https://localhost:8080/",
     "height": 68
    },
    "colab_type": "code",
    "id": "ufLcHaOcVKG_",
    "outputId": "5f9030c9-20ce-45a2-d450-cd7edd965e6c"
   },
   "outputs": [
    {
     "name": "stderr",
     "output_type": "stream",
     "text": [
      "Using TensorFlow backend.\n"
     ]
    },
    {
     "name": "stdout",
     "output_type": "stream",
     "text": [
      "[nltk_data] Downloading package stopwords to /root/nltk_data...\n",
      "[nltk_data]   Unzipping corpora/stopwords.zip.\n"
     ]
    }
   ],
   "source": [
    "from keras.preprocessing.text import Tokenizer\n",
    "from keras.preprocessing.sequence import pad_sequences\n",
    "from keras.layers import *\n",
    "from os import listdir\n",
    "import string\n",
    "from keras.models import Model\n",
    "\n",
    "from os import listdir\n",
    "import string\n",
    "\n",
    "from nltk.tokenize import word_tokenize\n",
    "\n",
    "from nltk.stem import PorterStemmer\n",
    "\n",
    "import nltk\n",
    "nltk.download('stopwords')\n",
    "from nltk.corpus import stopwords\n"
   ]
  },
  {
   "cell_type": "code",
   "execution_count": 0,
   "metadata": {
    "colab": {},
    "colab_type": "code",
    "id": "USGXemrkWCq6"
   },
   "outputs": [],
   "source": [
    "title_raw = df['issue_title'].tolist()\n",
    "body_raw = df['body'].tolist()"
   ]
  },
  {
   "cell_type": "code",
   "execution_count": 9,
   "metadata": {
    "colab": {
     "base_uri": "https://localhost:8080/",
     "height": 191
    },
    "colab_type": "code",
    "id": "S18Ol0UEXfGl",
    "outputId": "1e34354b-81ea-47f0-e8ba-f05c5d5f9295"
   },
   "outputs": [
    {
     "name": "stdout",
     "output_type": "stream",
     "text": [
      "not an issue but a suggestion, maybe use customizer api instead of widget\n",
      "https://github.com/redacademy/csl-fall-2017/blob/f5be5230eea6df9e9c3f09d3f2352360fb620f1f/themes/csl/sidebar-header.php l1 i'll leave this one up to you but since it looks like you've already done a bit with the customizer api and since the social icons appear in a couple places, rather than having to create multiple widgets you could have an option for social media fields in the customizer api. one issue that could happen with the widget in the header is... what if the user adds other widgets there? will the layout break? take a look at your footer.php file and stuff like <?php echo get_theme_mod 'weekdays_value' ; ?> also refer back to your file customizer.php for more info and setup\n"
     ]
    }
   ],
   "source": [
    "print(title_raw[100])\n",
    "print(body_raw[100])"
   ]
  },
  {
   "cell_type": "code",
   "execution_count": 10,
   "metadata": {
    "colab": {
     "base_uri": "https://localhost:8080/",
     "height": 68
    },
    "colab_type": "code",
    "id": "uv3-kmIWXMr_",
    "outputId": "e2558f48-7cf4-4709-bd2b-6e1fc9c08443"
   },
   "outputs": [
    {
     "name": "stdout",
     "output_type": "stream",
     "text": [
      "[nltk_data] Downloading package punkt to /root/nltk_data...\n",
      "[nltk_data]   Unzipping tokenizers/punkt.zip.\n"
     ]
    },
    {
     "data": {
      "text/plain": [
       "True"
      ]
     },
     "execution_count": 10,
     "metadata": {
      "tags": []
     },
     "output_type": "execute_result"
    }
   ],
   "source": [
    "nltk.download('punkt')"
   ]
  },
  {
   "cell_type": "code",
   "execution_count": 0,
   "metadata": {
    "colab": {},
    "colab_type": "code",
    "id": "33t6e9tbWg5x"
   },
   "outputs": [],
   "source": [
    "#tokenization\n",
    "title_token = [word_tokenize(x) for x in title_raw]\n",
    "body_token = [word_tokenize(x) for x in body_raw]"
   ]
  },
  {
   "cell_type": "code",
   "execution_count": 12,
   "metadata": {
    "colab": {
     "base_uri": "https://localhost:8080/",
     "height": 191
    },
    "colab_type": "code",
    "id": "BXNLgbF9Wnm9",
    "outputId": "be0c5fb0-ee7b-47fb-d8ad-b862a585f52e"
   },
   "outputs": [
    {
     "name": "stdout",
     "output_type": "stream",
     "text": [
      "['not', 'an', 'issue', 'but', 'a', 'suggestion', ',', 'maybe', 'use', 'customizer', 'api', 'instead', 'of', 'widget']\n",
      "['https', ':', '//github.com/redacademy/csl-fall-2017/blob/f5be5230eea6df9e9c3f09d3f2352360fb620f1f/themes/csl/sidebar-header.php', 'l1', 'i', \"'ll\", 'leave', 'this', 'one', 'up', 'to', 'you', 'but', 'since', 'it', 'looks', 'like', 'you', \"'ve\", 'already', 'done', 'a', 'bit', 'with', 'the', 'customizer', 'api', 'and', 'since', 'the', 'social', 'icons', 'appear', 'in', 'a', 'couple', 'places', ',', 'rather', 'than', 'having', 'to', 'create', 'multiple', 'widgets', 'you', 'could', 'have', 'an', 'option', 'for', 'social', 'media', 'fields', 'in', 'the', 'customizer', 'api', '.', 'one', 'issue', 'that', 'could', 'happen', 'with', 'the', 'widget', 'in', 'the', 'header', 'is', '...', 'what', 'if', 'the', 'user', 'adds', 'other', 'widgets', 'there', '?', 'will', 'the', 'layout', 'break', '?', 'take', 'a', 'look', 'at', 'your', 'footer.php', 'file', 'and', 'stuff', 'like', '<', '?', 'php', 'echo', 'get_theme_mod', \"'weekdays_value\", \"'\", ';', '?', '>', 'also', 'refer', 'back', 'to', 'your', 'file', 'customizer.php', 'for', 'more', 'info', 'and', 'setup']\n"
     ]
    }
   ],
   "source": [
    "print(title_token[100])\n",
    "print(body_token[100])"
   ]
  },
  {
   "cell_type": "code",
   "execution_count": 0,
   "metadata": {
    "colab": {},
    "colab_type": "code",
    "id": "rR4-4eu2Yfrb"
   },
   "outputs": [],
   "source": [
    "#clean up \n",
    "i = 0\n",
    "title_clean = [None]*len(title_token)\n",
    "for x in title_token:\n",
    "    title_clean[i] = [y for y in x if y.isalpha()]\n",
    "    i = i+1\n",
    "\n",
    "i = 0    \n",
    "body_clean = [None]*len(body_token)\n",
    "for x in body_token:\n",
    "    body_clean[i] = [y for y in x if y.isalpha()]\n",
    "    i = i+1"
   ]
  },
  {
   "cell_type": "code",
   "execution_count": 14,
   "metadata": {
    "colab": {
     "base_uri": "https://localhost:8080/",
     "height": 191
    },
    "colab_type": "code",
    "id": "zC-b9E8bYAnP",
    "outputId": "13d1d6bd-5db1-448a-ae3a-a73b74aa0ad6"
   },
   "outputs": [
    {
     "name": "stdout",
     "output_type": "stream",
     "text": [
      "['not', 'an', 'issue', 'but', 'a', 'suggestion', 'maybe', 'use', 'customizer', 'api', 'instead', 'of', 'widget']\n",
      "['https', 'i', 'leave', 'this', 'one', 'up', 'to', 'you', 'but', 'since', 'it', 'looks', 'like', 'you', 'already', 'done', 'a', 'bit', 'with', 'the', 'customizer', 'api', 'and', 'since', 'the', 'social', 'icons', 'appear', 'in', 'a', 'couple', 'places', 'rather', 'than', 'having', 'to', 'create', 'multiple', 'widgets', 'you', 'could', 'have', 'an', 'option', 'for', 'social', 'media', 'fields', 'in', 'the', 'customizer', 'api', 'one', 'issue', 'that', 'could', 'happen', 'with', 'the', 'widget', 'in', 'the', 'header', 'is', 'what', 'if', 'the', 'user', 'adds', 'other', 'widgets', 'there', 'will', 'the', 'layout', 'break', 'take', 'a', 'look', 'at', 'your', 'file', 'and', 'stuff', 'like', 'php', 'echo', 'also', 'refer', 'back', 'to', 'your', 'file', 'for', 'more', 'info', 'and', 'setup']\n"
     ]
    }
   ],
   "source": [
    "print(title_clean[100])\n",
    "print(body_clean[100])"
   ]
  },
  {
   "cell_type": "code",
   "execution_count": 0,
   "metadata": {
    "colab": {},
    "colab_type": "code",
    "id": "E_WyM-IWZzz-"
   },
   "outputs": [],
   "source": [
    "#remove stop words\n",
    "i = 0\n",
    "title_filtered = [None]*len(title_token)\n",
    "for x in title_clean:\n",
    "    title_filtered[i] = [y for y in x if y not in stopwords.words()]\n",
    "    i = i+1\n",
    "\n",
    "i = 0    \n",
    "body_filtered = [None]*len(body_token)\n",
    "for x in body_clean:\n",
    "    body_filtered[i] = [y for y in x if y not in stopwords.words()]\n",
    "    i = i+1"
   ]
  },
  {
   "cell_type": "code",
   "execution_count": 16,
   "metadata": {
    "colab": {
     "base_uri": "https://localhost:8080/",
     "height": 191
    },
    "colab_type": "code",
    "id": "ryocJxV9YHuv",
    "outputId": "9ea44132-a9d2-48ce-e1f2-675450553758"
   },
   "outputs": [
    {
     "name": "stdout",
     "output_type": "stream",
     "text": [
      "['issue', 'suggestion', 'maybe', 'use', 'customizer', 'api', 'instead', 'widget']\n",
      "['https', 'leave', 'one', 'since', 'looks', 'like', 'already', 'done', 'bit', 'customizer', 'api', 'since', 'social', 'icons', 'appear', 'couple', 'places', 'rather', 'create', 'multiple', 'widgets', 'could', 'option', 'social', 'media', 'fields', 'customizer', 'api', 'one', 'issue', 'could', 'happen', 'widget', 'header', 'user', 'adds', 'widgets', 'layout', 'break', 'take', 'look', 'file', 'stuff', 'like', 'php', 'echo', 'refer', 'back', 'file', 'info', 'setup']\n"
     ]
    }
   ],
   "source": [
    "print(title_filtered[100])\n",
    "print(body_filtered[100])"
   ]
  },
  {
   "cell_type": "code",
   "execution_count": 0,
   "metadata": {
    "colab": {},
    "colab_type": "code",
    "id": "izWWxIbZXQAI"
   },
   "outputs": [],
   "source": [
    "#stemming\n",
    "stemmer = PorterStemmer()\n",
    "\n",
    "i = 0\n",
    "title_stemmed = [None]*len(title_token)\n",
    "for x in title_filtered:\n",
    "    title_stemmed[i] = [stemmer.stem(y) for y in x]\n",
    "    i = i+1\n",
    "\n",
    "i = 0    \n",
    "body_stemmed = [None]*len(body_token)\n",
    "for x in body_filtered:\n",
    "    body_stemmed[i] = [stemmer.stem(y) for y in x]\n",
    "    i = i+1"
   ]
  },
  {
   "cell_type": "code",
   "execution_count": 18,
   "metadata": {
    "colab": {
     "base_uri": "https://localhost:8080/",
     "height": 191
    },
    "colab_type": "code",
    "id": "fLoxyQWbd0jM",
    "outputId": "829fc925-e0a7-4d2e-cc48-1de0e2a10321"
   },
   "outputs": [
    {
     "name": "stdout",
     "output_type": "stream",
     "text": [
      "['issu', 'suggest', 'mayb', 'use', 'custom', 'api', 'instead', 'widget']\n",
      "['http', 'leav', 'one', 'sinc', 'look', 'like', 'alreadi', 'done', 'bit', 'custom', 'api', 'sinc', 'social', 'icon', 'appear', 'coupl', 'place', 'rather', 'creat', 'multipl', 'widget', 'could', 'option', 'social', 'media', 'field', 'custom', 'api', 'one', 'issu', 'could', 'happen', 'widget', 'header', 'user', 'add', 'widget', 'layout', 'break', 'take', 'look', 'file', 'stuff', 'like', 'php', 'echo', 'refer', 'back', 'file', 'info', 'setup']\n"
     ]
    }
   ],
   "source": [
    "print(title_stemmed[100])\n",
    "print(body_stemmed[100])"
   ]
  },
  {
   "cell_type": "code",
   "execution_count": 0,
   "metadata": {
    "colab": {},
    "colab_type": "code",
    "id": "ZXLz-jSqf7Wg"
   },
   "outputs": [],
   "source": [
    "#join sentence\n",
    "i = 0\n",
    "title_final = ['']*len(title_token)\n",
    "for x in title_stemmed:\n",
    "    title_final[i]= title_final[i] + ' ' + ' '.join(x)\n",
    "    i = i+1\n",
    "\n",
    "i = 0    \n",
    "body_final = ['']*len(body_token)\n",
    "for x in body_stemmed:\n",
    "    body_final[i]= body_final[i] + ' ' + ' '.join(x)\n",
    "    i = i+1"
   ]
  },
  {
   "cell_type": "code",
   "execution_count": 20,
   "metadata": {
    "colab": {
     "base_uri": "https://localhost:8080/",
     "height": 191
    },
    "colab_type": "code",
    "id": "P8Jgoiubg6wc",
    "outputId": "de68d8a0-f45a-48e0-a8ce-3cf3ac9d90e9"
   },
   "outputs": [
    {
     "name": "stdout",
     "output_type": "stream",
     "text": [
      " issu suggest mayb use custom api instead widget\n",
      " http leav one sinc look like alreadi done bit custom api sinc social icon appear coupl place rather creat multipl widget could option social media field custom api one issu could happen widget header user add widget layout break take look file stuff like php echo refer back file info setup\n"
     ]
    }
   ],
   "source": [
    "print(title_final[100])\n",
    "print(body_final[100])"
   ]
  },
  {
   "cell_type": "code",
   "execution_count": 0,
   "metadata": {
    "colab": {},
    "colab_type": "code",
    "id": "QlfolxM-f3WB"
   },
   "outputs": [],
   "source": [
    "import re\n",
    "from wordcloud import WordCloud\n",
    "import matplotlib.pyplot as plt\n",
    "\n",
    "import random"
   ]
  },
  {
   "cell_type": "code",
   "execution_count": 0,
   "metadata": {
    "colab": {},
    "colab_type": "code",
    "id": "tX0zZOEI6Aoh"
   },
   "outputs": [],
   "source": [
    "from collections import Counter"
   ]
  },
  {
   "cell_type": "code",
   "execution_count": 0,
   "metadata": {
    "colab": {},
    "colab_type": "code",
    "id": "tmoTJt9Y8Jet"
   },
   "outputs": [],
   "source": [
    "import matplotlib.style as style\n",
    "style.use('dark_background')"
   ]
  },
  {
   "cell_type": "code",
   "execution_count": 167,
   "metadata": {
    "colab": {
     "base_uri": "https://localhost:8080/",
     "height": 527
    },
    "colab_type": "code",
    "id": "C1KZ2wyHd1sk",
    "outputId": "3fde4d17-b07f-4d0c-ed4b-68f11e7acffb"
   },
   "outputs": [
    {
     "name": "stdout",
     "output_type": "stream",
     "text": [
      "\u001b[1mIssue number:\u001b[0m #110\n",
      "\u001b[1mTitle: \u001b[0mswiss flag vs. red cross\n",
      "\u001b[1mBody: \u001b[0mcurrently, c.e.r.t. is displayed with a white cross on red background at 34c3. this is the flag of switzerland, not the red cross. please consider inverting the colors red cross on white background or even 'just' the red cross on black\n",
      "==============================================================================================\n"
     ]
    },
    {
     "data": {
      "image/png": "[encoded data removed]",
      "text/plain": [
       "<Figure size 864x432 with 4 Axes>"
      ]
     },
     "metadata": {
      "tags": []
     },
     "output_type": "display_data"
    }
   ],
   "source": [
    "issue_number = random.randint(1,1000)\n",
    "print(\"\\033[1m\"+\"Issue number:\"+\"\\033[0m\"+\" #\" + str(issue_number))\n",
    "print(\"\\033[1m\"+\"Title: \"+\"\\033[0m\" + title_raw[issue_number])\n",
    "print(\"\\033[1m\"+\"Body: \"+\"\\033[0m\" + body_raw[issue_number])\n",
    "print(\"==============================================================================================\")\n",
    "image_story = WordCloud(width= 800,\n",
    "                  height= 800,\n",
    "                  background_color='black',\n",
    "                  max_words=20).generate(title_final[issue_number])\n",
    "\n",
    "image_highlight = WordCloud(width= 800,\n",
    "                  height= 800,\n",
    "                  background_color='black',\n",
    "                  max_words=20).generate(body_final[issue_number])\n",
    "\n",
    "plt.figure(figsize=(12,6))\n",
    "\n",
    "plt.subplot(2, 2, 1).set_title(\"Title\",fontsize=20)\n",
    "plt.imshow(image_story)\n",
    "plt.axis(\"off\")\n",
    "\n",
    "plt.subplot(2, 2, 2).set_title(\"Body\",fontsize=20)\n",
    "plt.imshow(image_highlight)\n",
    "plt.axis(\"off\")\n",
    "\n",
    "plt.subplot(2, 2, 3).set_title(\"Title\",fontsize=20)\n",
    "counts = Counter(title_final[issue_number].split()) \n",
    "labels, values = zip(*counts.items())\n",
    "indSort = np.argsort(values)[::-1]\n",
    "labels = np.array(labels)[indSort][:8]\n",
    "values = np.array(values)[indSort][:8]\n",
    "indexes = np.arange(len(labels))\n",
    "bar_width = 0\n",
    "plt.bar(indexes, values)\n",
    "plt.xticks(indexes + bar_width, labels)\n",
    "\n",
    "plt.subplot(2, 2, 4).set_title(\"Body\",fontsize=20)\n",
    "counts = Counter(body_final[issue_number].split())\n",
    "labels, values = zip(*counts.items())\n",
    "indSort = np.argsort(values)[::-1]\n",
    "labels = np.array(labels)[indSort][:8]\n",
    "values = np.array(values)[indSort][:8]\n",
    "indexes = np.arange(len(labels))\n",
    "bar_width = 0\n",
    "plt.bar(indexes, values)\n",
    "plt.xticks(indexes + bar_width, labels)\n",
    "\n",
    "plt.show()\n",
    "\n"
   ]
  },
  {
   "cell_type": "code",
   "execution_count": 0,
   "metadata": {
    "colab": {},
    "colab_type": "code",
    "id": "ECKfATcvhIRe"
   },
   "outputs": [],
   "source": []
  },
  {
   "cell_type": "code",
   "execution_count": 0,
   "metadata": {
    "colab": {},
    "colab_type": "code",
    "id": "qNYxAAtyhRUT"
   },
   "outputs": [],
   "source": []
  },
  {
   "cell_type": "markdown",
   "metadata": {
    "colab_type": "text",
    "id": "bYTjMFG4iOZ8"
   },
   "source": [
    "## **Text Summarization & Visualization¶**\n",
    "https://github.com/IBM/text-summarization-and-visualization-using-watson-studio/blob/master/notebook/Text_Summarize_and_Visualize.ipynb"
   ]
  },
  {
   "cell_type": "code",
   "execution_count": 32,
   "metadata": {
    "colab": {
     "base_uri": "https://localhost:8080/",
     "height": 492
    },
    "colab_type": "code",
    "id": "pg8GfqXWiUm2",
    "outputId": "48a84866-18d4-425a-afc4-b0d255afa730"
   },
   "outputs": [
    {
     "name": "stdout",
     "output_type": "stream",
     "text": [
      "Requirement already satisfied: gensim in /usr/local/lib/python3.6/dist-packages (3.6.0)\n",
      "Requirement already satisfied: six>=1.5.0 in /usr/local/lib/python3.6/dist-packages (from gensim) (1.11.0)\n",
      "Requirement already satisfied: smart-open>=1.2.1 in /usr/local/lib/python3.6/dist-packages (from gensim) (1.8.0)\n",
      "Requirement already satisfied: numpy>=1.11.3 in /usr/local/lib/python3.6/dist-packages (from gensim) (1.14.6)\n",
      "Requirement already satisfied: scipy>=0.18.1 in /usr/local/lib/python3.6/dist-packages (from gensim) (1.1.0)\n",
      "Requirement already satisfied: boto>=2.32 in /usr/local/lib/python3.6/dist-packages (from smart-open>=1.2.1->gensim) (2.49.0)\n",
      "Requirement already satisfied: bz2file in /usr/local/lib/python3.6/dist-packages (from smart-open>=1.2.1->gensim) (0.98)\n",
      "Requirement already satisfied: requests in /usr/local/lib/python3.6/dist-packages (from smart-open>=1.2.1->gensim) (2.18.4)\n",
      "Requirement already satisfied: boto3 in /usr/local/lib/python3.6/dist-packages (from smart-open>=1.2.1->gensim) (1.9.128)\n",
      "Requirement already satisfied: chardet<3.1.0,>=3.0.2 in /usr/local/lib/python3.6/dist-packages (from requests->smart-open>=1.2.1->gensim) (3.0.4)\n",
      "Requirement already satisfied: certifi>=2017.4.17 in /usr/local/lib/python3.6/dist-packages (from requests->smart-open>=1.2.1->gensim) (2019.3.9)\n",
      "Requirement already satisfied: idna<2.7,>=2.5 in /usr/local/lib/python3.6/dist-packages (from requests->smart-open>=1.2.1->gensim) (2.6)\n",
      "Requirement already satisfied: urllib3<1.23,>=1.21.1 in /usr/local/lib/python3.6/dist-packages (from requests->smart-open>=1.2.1->gensim) (1.22)\n",
      "Requirement already satisfied: s3transfer<0.3.0,>=0.2.0 in /usr/local/lib/python3.6/dist-packages (from boto3->smart-open>=1.2.1->gensim) (0.2.0)\n",
      "Requirement already satisfied: botocore<1.13.0,>=1.12.128 in /usr/local/lib/python3.6/dist-packages (from boto3->smart-open>=1.2.1->gensim) (1.12.128)\n",
      "Requirement already satisfied: jmespath<1.0.0,>=0.7.1 in /usr/local/lib/python3.6/dist-packages (from boto3->smart-open>=1.2.1->gensim) (0.9.4)\n",
      "Requirement already satisfied: python-dateutil<3.0.0,>=2.1; python_version >= \"2.7\" in /usr/local/lib/python3.6/dist-packages (from botocore<1.13.0,>=1.12.128->boto3->smart-open>=1.2.1->gensim) (2.5.3)\n",
      "Requirement already satisfied: docutils>=0.10 in /usr/local/lib/python3.6/dist-packages (from botocore<1.13.0,>=1.12.128->boto3->smart-open>=1.2.1->gensim) (0.14)\n"
     ]
    }
   ],
   "source": [
    "!pip install gensim"
   ]
  },
  {
   "cell_type": "code",
   "execution_count": 33,
   "metadata": {
    "colab": {
     "base_uri": "https://localhost:8080/",
     "height": 1020
    },
    "colab_type": "code",
    "id": "ZW6JLMNJib-S",
    "outputId": "3df81ba4-6973-4669-87d0-e26a2716a51e"
   },
   "outputs": [
    {
     "name": "stdout",
     "output_type": "stream",
     "text": [
      "Collecting watson-developer-cloud==1.5\n",
      "\u001b[?25l  Downloading https://files.pythonhosted.org/packages/57/fc/1a76bd8d60a6912db4c3382d288b10e033548abaa6a55a1292dedfe63e35/watson-developer-cloud-1.5.0.tar.gz (215kB)\n",
      "\u001b[K    100% |████████████████████████████████| 225kB 7.5MB/s \n",
      "\u001b[?25hRequirement already satisfied: requests<3.0,>=2.0 in /usr/local/lib/python3.6/dist-packages (from watson-developer-cloud==1.5) (2.18.4)\n",
      "Requirement already satisfied: python_dateutil>=2.5.3 in /usr/local/lib/python3.6/dist-packages (from watson-developer-cloud==1.5) (2.5.3)\n",
      "Collecting autobahn>=0.10.9 (from watson-developer-cloud==1.5)\n",
      "\u001b[?25l  Downloading https://files.pythonhosted.org/packages/9a/47/229e88fb7fc51b0ddbf7d6eca471dde206775e2f73938590fe89af011fe4/autobahn-19.3.3-py2.py3-none-any.whl (389kB)\n",
      "\u001b[K    100% |████████████████████████████████| 399kB 23.7MB/s \n",
      "\u001b[?25hCollecting Twisted>=13.2.0 (from watson-developer-cloud==1.5)\n",
      "\u001b[?25l  Downloading https://files.pythonhosted.org/packages/f8/2b/a80a70f71eb2b86992ffa5aaae41457791ae67faa70927fd16b76127c2b7/Twisted-19.2.0.tar.bz2 (3.1MB)\n",
      "\u001b[K    100% |████████████████████████████████| 3.1MB 2.7MB/s \n",
      "\u001b[?25hCollecting pyOpenSSL>=16.2.0 (from watson-developer-cloud==1.5)\n",
      "\u001b[?25l  Downloading https://files.pythonhosted.org/packages/01/c8/ceb170d81bd3941cbeb9940fc6cc2ef2ca4288d0ca8929ea4db5905d904d/pyOpenSSL-19.0.0-py2.py3-none-any.whl (53kB)\n",
      "\u001b[K    100% |████████████████████████████████| 61kB 19.1MB/s \n",
      "\u001b[?25hCollecting service-identity>=17.0.0 (from watson-developer-cloud==1.5)\n",
      "  Downloading https://files.pythonhosted.org/packages/e9/7c/2195b890023e098f9618d43ebc337d83c8b38d414326685339eb024db2f6/service_identity-18.1.0-py2.py3-none-any.whl\n",
      "Requirement already satisfied: idna<2.7,>=2.5 in /usr/local/lib/python3.6/dist-packages (from requests<3.0,>=2.0->watson-developer-cloud==1.5) (2.6)\n",
      "Requirement already satisfied: urllib3<1.23,>=1.21.1 in /usr/local/lib/python3.6/dist-packages (from requests<3.0,>=2.0->watson-developer-cloud==1.5) (1.22)\n",
      "Requirement already satisfied: chardet<3.1.0,>=3.0.2 in /usr/local/lib/python3.6/dist-packages (from requests<3.0,>=2.0->watson-developer-cloud==1.5) (3.0.4)\n",
      "Requirement already satisfied: certifi>=2017.4.17 in /usr/local/lib/python3.6/dist-packages (from requests<3.0,>=2.0->watson-developer-cloud==1.5) (2019.3.9)\n",
      "Requirement already satisfied: six>=1.5 in /usr/local/lib/python3.6/dist-packages (from python_dateutil>=2.5.3->watson-developer-cloud==1.5) (1.11.0)\n",
      "Collecting txaio>=18.8.1 (from autobahn>=0.10.9->watson-developer-cloud==1.5)\n",
      "  Downloading https://files.pythonhosted.org/packages/e9/6d/e1a6f7835cde86728e5bb1f577be9b2d7d273fdb33c286e70b087d418ded/txaio-18.8.1-py2.py3-none-any.whl\n",
      "Collecting zope.interface>=4.4.2 (from Twisted>=13.2.0->watson-developer-cloud==1.5)\n",
      "\u001b[?25l  Downloading https://files.pythonhosted.org/packages/19/17/1d198a6aaa9aa4590862fe3d3a2ed7dd808050cab4eebe8a2f2f813c1376/zope.interface-4.6.0-cp36-cp36m-manylinux1_x86_64.whl (167kB)\n",
      "\u001b[K    100% |████████████████████████████████| 174kB 29.0MB/s \n",
      "\u001b[?25hCollecting constantly>=15.1 (from Twisted>=13.2.0->watson-developer-cloud==1.5)\n",
      "  Downloading https://files.pythonhosted.org/packages/b9/65/48c1909d0c0aeae6c10213340ce682db01b48ea900a7d9fce7a7910ff318/constantly-15.1.0-py2.py3-none-any.whl\n",
      "Collecting incremental>=16.10.1 (from Twisted>=13.2.0->watson-developer-cloud==1.5)\n",
      "  Downloading https://files.pythonhosted.org/packages/f5/1d/c98a587dc06e107115cf4a58b49de20b19222c83d75335a192052af4c4b7/incremental-17.5.0-py2.py3-none-any.whl\n",
      "Collecting Automat>=0.3.0 (from Twisted>=13.2.0->watson-developer-cloud==1.5)\n",
      "  Downloading https://files.pythonhosted.org/packages/a3/86/14c16bb98a5a3542ed8fed5d74fb064a902de3bdd98d6584b34553353c45/Automat-0.7.0-py2.py3-none-any.whl\n",
      "Collecting hyperlink>=17.1.1 (from Twisted>=13.2.0->watson-developer-cloud==1.5)\n",
      "  Downloading https://files.pythonhosted.org/packages/7f/91/e916ca10a2de1cb7101a9b24da546fb90ee14629e23160086cf3361c4fb8/hyperlink-19.0.0-py2.py3-none-any.whl\n",
      "Collecting PyHamcrest>=1.9.0 (from Twisted>=13.2.0->watson-developer-cloud==1.5)\n",
      "\u001b[?25l  Downloading https://files.pythonhosted.org/packages/9a/d5/d37fd731b7d0e91afcc84577edeccf4638b4f9b82f5ffe2f8b62e2ddc609/PyHamcrest-1.9.0-py2.py3-none-any.whl (52kB)\n",
      "\u001b[K    100% |████████████████████████████████| 61kB 21.0MB/s \n",
      "\u001b[?25hRequirement already satisfied: attrs>=17.4.0 in /usr/local/lib/python3.6/dist-packages (from Twisted>=13.2.0->watson-developer-cloud==1.5) (19.1.0)\n",
      "Collecting cryptography>=2.3 (from pyOpenSSL>=16.2.0->watson-developer-cloud==1.5)\n",
      "\u001b[?25l  Downloading https://files.pythonhosted.org/packages/5b/12/b0409a94dad366d98a8eee2a77678c7a73aafd8c0e4b835abea634ea3896/cryptography-2.6.1-cp34-abi3-manylinux1_x86_64.whl (2.3MB)\n",
      "\u001b[K    100% |████████████████████████████████| 2.3MB 12.2MB/s \n",
      "\u001b[?25hRequirement already satisfied: pyasn1-modules in /usr/local/lib/python3.6/dist-packages (from service-identity>=17.0.0->watson-developer-cloud==1.5) (0.2.4)\n",
      "Requirement already satisfied: pyasn1 in /usr/local/lib/python3.6/dist-packages (from service-identity>=17.0.0->watson-developer-cloud==1.5) (0.4.5)\n",
      "Requirement already satisfied: setuptools in /usr/local/lib/python3.6/dist-packages (from zope.interface>=4.4.2->Twisted>=13.2.0->watson-developer-cloud==1.5) (40.9.0)\n",
      "Requirement already satisfied: cffi!=1.11.3,>=1.8 in /usr/local/lib/python3.6/dist-packages (from cryptography>=2.3->pyOpenSSL>=16.2.0->watson-developer-cloud==1.5) (1.12.2)\n",
      "Collecting asn1crypto>=0.21.0 (from cryptography>=2.3->pyOpenSSL>=16.2.0->watson-developer-cloud==1.5)\n",
      "\u001b[?25l  Downloading https://files.pythonhosted.org/packages/ea/cd/35485615f45f30a510576f1a56d1e0a7ad7bd8ab5ed7cdc600ef7cd06222/asn1crypto-0.24.0-py2.py3-none-any.whl (101kB)\n",
      "\u001b[K    100% |████████████████████████████████| 102kB 27.3MB/s \n",
      "\u001b[?25hRequirement already satisfied: pycparser in /usr/local/lib/python3.6/dist-packages (from cffi!=1.11.3,>=1.8->cryptography>=2.3->pyOpenSSL>=16.2.0->watson-developer-cloud==1.5) (2.19)\n",
      "Building wheels for collected packages: watson-developer-cloud, Twisted\n",
      "  Building wheel for watson-developer-cloud (setup.py) ... \u001b[?25ldone\n",
      "\u001b[?25h  Stored in directory: /root/.cache/pip/wheels/81/cd/de/4e0916f623c2d125502e493394fd333ed693960264d4b7e524\n",
      "  Building wheel for Twisted (setup.py) ... \u001b[?25ldone\n",
      "\u001b[?25h  Stored in directory: /root/.cache/pip/wheels/57/c0/6c/874eb1b6a5ab9ac5434ab9d2700cf78fed3c151ea33cf668af\n",
      "Successfully built watson-developer-cloud Twisted\n",
      "Installing collected packages: txaio, autobahn, zope.interface, constantly, incremental, Automat, hyperlink, PyHamcrest, Twisted, asn1crypto, cryptography, pyOpenSSL, service-identity, watson-developer-cloud\n",
      "Successfully installed Automat-0.7.0 PyHamcrest-1.9.0 Twisted-19.2.0 asn1crypto-0.24.0 autobahn-19.3.3 constantly-15.1.0 cryptography-2.6.1 hyperlink-19.0.0 incremental-17.5.0 pyOpenSSL-19.0.0 service-identity-18.1.0 txaio-18.8.1 watson-developer-cloud-1.5.0 zope.interface-4.6.0\n"
     ]
    }
   ],
   "source": [
    "!pip install watson-developer-cloud==1.5"
   ]
  },
  {
   "cell_type": "code",
   "execution_count": 34,
   "metadata": {
    "colab": {
     "base_uri": "https://localhost:8080/",
     "height": 702
    },
    "colab_type": "code",
    "id": "vrU_v6NuicCZ",
    "outputId": "a0dd6e1a-d1b7-4f74-9076-2f0d7e1481f0"
   },
   "outputs": [
    {
     "name": "stdout",
     "output_type": "stream",
     "text": [
      "Collecting pyldavis\n",
      "\u001b[?25l  Downloading https://files.pythonhosted.org/packages/a5/3a/af82e070a8a96e13217c8f362f9a73e82d61ac8fff3a2561946a97f96266/pyLDAvis-2.1.2.tar.gz (1.6MB)\n",
      "\u001b[K    100% |████████████████████████████████| 1.6MB 13.1MB/s \n",
      "\u001b[?25hRequirement already satisfied: wheel>=0.23.0 in /usr/local/lib/python3.6/dist-packages (from pyldavis) (0.33.1)\n",
      "Requirement already satisfied: numpy>=1.9.2 in /usr/local/lib/python3.6/dist-packages (from pyldavis) (1.14.6)\n",
      "Requirement already satisfied: scipy>=0.18.0 in /usr/local/lib/python3.6/dist-packages (from pyldavis) (1.1.0)\n",
      "Requirement already satisfied: pandas>=0.17.0 in /usr/local/lib/python3.6/dist-packages (from pyldavis) (0.22.0)\n",
      "Requirement already satisfied: joblib>=0.8.4 in /usr/local/lib/python3.6/dist-packages (from pyldavis) (0.12.5)\n",
      "Requirement already satisfied: jinja2>=2.7.2 in /usr/local/lib/python3.6/dist-packages (from pyldavis) (2.10)\n",
      "Requirement already satisfied: numexpr in /usr/local/lib/python3.6/dist-packages (from pyldavis) (2.6.9)\n",
      "Requirement already satisfied: pytest in /usr/local/lib/python3.6/dist-packages (from pyldavis) (3.6.4)\n",
      "Requirement already satisfied: future in /usr/local/lib/python3.6/dist-packages (from pyldavis) (0.16.0)\n",
      "Collecting funcy (from pyldavis)\n",
      "  Downloading https://files.pythonhosted.org/packages/47/a4/204fa23012e913839c2da4514b92f17da82bf5fc8c2c3d902fa3fa3c6eec/funcy-1.11-py2.py3-none-any.whl\n",
      "Requirement already satisfied: pytz>=2011k in /usr/local/lib/python3.6/dist-packages (from pandas>=0.17.0->pyldavis) (2018.9)\n",
      "Requirement already satisfied: python-dateutil>=2 in /usr/local/lib/python3.6/dist-packages (from pandas>=0.17.0->pyldavis) (2.5.3)\n",
      "Requirement already satisfied: MarkupSafe>=0.23 in /usr/local/lib/python3.6/dist-packages (from jinja2>=2.7.2->pyldavis) (1.1.1)\n",
      "Requirement already satisfied: setuptools in /usr/local/lib/python3.6/dist-packages (from pytest->pyldavis) (40.9.0)\n",
      "Requirement already satisfied: py>=1.5.0 in /usr/local/lib/python3.6/dist-packages (from pytest->pyldavis) (1.8.0)\n",
      "Requirement already satisfied: atomicwrites>=1.0 in /usr/local/lib/python3.6/dist-packages (from pytest->pyldavis) (1.3.0)\n",
      "Requirement already satisfied: six>=1.10.0 in /usr/local/lib/python3.6/dist-packages (from pytest->pyldavis) (1.11.0)\n",
      "Requirement already satisfied: attrs>=17.4.0 in /usr/local/lib/python3.6/dist-packages (from pytest->pyldavis) (19.1.0)\n",
      "Requirement already satisfied: more-itertools>=4.0.0 in /usr/local/lib/python3.6/dist-packages (from pytest->pyldavis) (7.0.0)\n",
      "Requirement already satisfied: pluggy<0.8,>=0.5 in /usr/local/lib/python3.6/dist-packages (from pytest->pyldavis) (0.7.1)\n",
      "Building wheels for collected packages: pyldavis\n",
      "  Building wheel for pyldavis (setup.py) ... \u001b[?25ldone\n",
      "\u001b[?25h  Stored in directory: /root/.cache/pip/wheels/98/71/24/513a99e58bb6b8465bae4d2d5e9dba8f0bef8179e3051ac414\n",
      "Successfully built pyldavis\n",
      "Installing collected packages: funcy, pyldavis\n",
      "Successfully installed funcy-1.11 pyldavis-2.1.2\n"
     ]
    }
   ],
   "source": [
    "!pip install pyldavis"
   ]
  },
  {
   "cell_type": "code",
   "execution_count": 35,
   "metadata": {
    "colab": {
     "base_uri": "https://localhost:8080/",
     "height": 154
    },
    "colab_type": "code",
    "id": "QJQzWbX0icGL",
    "outputId": "17e8fa3e-7b20-4d23-d065-2f050b7736ee"
   },
   "outputs": [
    {
     "name": "stdout",
     "output_type": "stream",
     "text": [
      "Requirement already satisfied: wordcloud in /usr/local/lib/python3.6/dist-packages (1.5.0)\n",
      "Requirement already satisfied: pillow in /usr/local/lib/python3.6/dist-packages (from wordcloud) (4.1.1)\n",
      "Requirement already satisfied: numpy>=1.6.1 in /usr/local/lib/python3.6/dist-packages (from wordcloud) (1.14.6)\n",
      "Requirement already satisfied: olefile in /usr/local/lib/python3.6/dist-packages (from pillow->wordcloud) (0.46)\n"
     ]
    }
   ],
   "source": [
    "!pip install wordcloud"
   ]
  },
  {
   "cell_type": "code",
   "execution_count": 37,
   "metadata": {
    "colab": {
     "base_uri": "https://localhost:8080/",
     "height": 4131
    },
    "colab_type": "code",
    "id": "urKW9dfaicI2",
    "outputId": "eae6b32c-004a-42f1-ee33-ef00ea3257c4"
   },
   "outputs": [
    {
     "name": "stdout",
     "output_type": "stream",
     "text": [
      "[nltk_data] Downloading collection 'all'\n",
      "[nltk_data]    | \n",
      "[nltk_data]    | Downloading package abc to /root/nltk_data...\n",
      "[nltk_data]    |   Unzipping corpora/abc.zip.\n",
      "[nltk_data]    | Downloading package alpino to /root/nltk_data...\n",
      "[nltk_data]    |   Unzipping corpora/alpino.zip.\n",
      "[nltk_data]    | Downloading package biocreative_ppi to\n",
      "[nltk_data]    |     /root/nltk_data...\n",
      "[nltk_data]    |   Unzipping corpora/biocreative_ppi.zip.\n",
      "[nltk_data]    | Downloading package brown to /root/nltk_data...\n",
      "[nltk_data]    |   Unzipping corpora/brown.zip.\n",
      "[nltk_data]    | Downloading package brown_tei to /root/nltk_data...\n",
      "[nltk_data]    |   Unzipping corpora/brown_tei.zip.\n",
      "[nltk_data]    | Downloading package cess_cat to /root/nltk_data...\n",
      "[nltk_data]    |   Unzipping corpora/cess_cat.zip.\n",
      "[nltk_data]    | Downloading package cess_esp to /root/nltk_data...\n",
      "[nltk_data]    |   Unzipping corpora/cess_esp.zip.\n",
      "[nltk_data]    | Downloading package chat80 to /root/nltk_data...\n",
      "[nltk_data]    |   Unzipping corpora/chat80.zip.\n",
      "[nltk_data]    | Downloading package city_database to\n",
      "[nltk_data]    |     /root/nltk_data...\n",
      "[nltk_data]    |   Unzipping corpora/city_database.zip.\n",
      "[nltk_data]    | Downloading package cmudict to /root/nltk_data...\n",
      "[nltk_data]    |   Unzipping corpora/cmudict.zip.\n",
      "[nltk_data]    | Downloading package comparative_sentences to\n",
      "[nltk_data]    |     /root/nltk_data...\n",
      "[nltk_data]    |   Unzipping corpora/comparative_sentences.zip.\n",
      "[nltk_data]    | Downloading package comtrans to /root/nltk_data...\n",
      "[nltk_data]    | Downloading package conll2000 to /root/nltk_data...\n",
      "[nltk_data]    |   Unzipping corpora/conll2000.zip.\n",
      "[nltk_data]    | Downloading package conll2002 to /root/nltk_data...\n",
      "[nltk_data]    |   Unzipping corpora/conll2002.zip.\n",
      "[nltk_data]    | Downloading package conll2007 to /root/nltk_data...\n",
      "[nltk_data]    | Downloading package crubadan to /root/nltk_data...\n",
      "[nltk_data]    |   Unzipping corpora/crubadan.zip.\n",
      "[nltk_data]    | Downloading package dependency_treebank to\n",
      "[nltk_data]    |     /root/nltk_data...\n",
      "[nltk_data]    |   Unzipping corpora/dependency_treebank.zip.\n",
      "[nltk_data]    | Downloading package dolch to /root/nltk_data...\n",
      "[nltk_data]    |   Unzipping corpora/dolch.zip.\n",
      "[nltk_data]    | Downloading package europarl_raw to\n",
      "[nltk_data]    |     /root/nltk_data...\n",
      "[nltk_data]    |   Unzipping corpora/europarl_raw.zip.\n",
      "[nltk_data]    | Downloading package floresta to /root/nltk_data...\n",
      "[nltk_data]    |   Unzipping corpora/floresta.zip.\n",
      "[nltk_data]    | Downloading package framenet_v15 to\n",
      "[nltk_data]    |     /root/nltk_data...\n",
      "[nltk_data]    |   Unzipping corpora/framenet_v15.zip.\n",
      "[nltk_data]    | Downloading package framenet_v17 to\n",
      "[nltk_data]    |     /root/nltk_data...\n",
      "[nltk_data]    |   Unzipping corpora/framenet_v17.zip.\n",
      "[nltk_data]    | Downloading package gazetteers to /root/nltk_data...\n",
      "[nltk_data]    |   Unzipping corpora/gazetteers.zip.\n",
      "[nltk_data]    | Downloading package genesis to /root/nltk_data...\n",
      "[nltk_data]    |   Unzipping corpora/genesis.zip.\n",
      "[nltk_data]    | Downloading package gutenberg to /root/nltk_data...\n",
      "[nltk_data]    |   Unzipping corpora/gutenberg.zip.\n",
      "[nltk_data]    | Downloading package ieer to /root/nltk_data...\n",
      "[nltk_data]    |   Unzipping corpora/ieer.zip.\n",
      "[nltk_data]    | Downloading package inaugural to /root/nltk_data...\n",
      "[nltk_data]    |   Unzipping corpora/inaugural.zip.\n",
      "[nltk_data]    | Downloading package indian to /root/nltk_data...\n",
      "[nltk_data]    |   Unzipping corpora/indian.zip.\n",
      "[nltk_data]    | Downloading package jeita to /root/nltk_data...\n",
      "[nltk_data]    | Downloading package kimmo to /root/nltk_data...\n",
      "[nltk_data]    |   Unzipping corpora/kimmo.zip.\n",
      "[nltk_data]    | Downloading package knbc to /root/nltk_data...\n",
      "[nltk_data]    | Downloading package lin_thesaurus to\n",
      "[nltk_data]    |     /root/nltk_data...\n",
      "[nltk_data]    |   Unzipping corpora/lin_thesaurus.zip.\n",
      "[nltk_data]    | Downloading package mac_morpho to /root/nltk_data...\n",
      "[nltk_data]    |   Unzipping corpora/mac_morpho.zip.\n",
      "[nltk_data]    | Downloading package machado to /root/nltk_data...\n",
      "[nltk_data]    | Downloading package masc_tagged to /root/nltk_data...\n",
      "[nltk_data]    | Downloading package moses_sample to\n",
      "[nltk_data]    |     /root/nltk_data...\n",
      "[nltk_data]    |   Unzipping models/moses_sample.zip.\n",
      "[nltk_data]    | Downloading package movie_reviews to\n",
      "[nltk_data]    |     /root/nltk_data...\n",
      "[nltk_data]    |   Unzipping corpora/movie_reviews.zip.\n",
      "[nltk_data]    | Downloading package names to /root/nltk_data...\n",
      "[nltk_data]    |   Unzipping corpora/names.zip.\n",
      "[nltk_data]    | Downloading package nombank.1.0 to /root/nltk_data...\n",
      "[nltk_data]    | Downloading package nps_chat to /root/nltk_data...\n",
      "[nltk_data]    |   Unzipping corpora/nps_chat.zip.\n",
      "[nltk_data]    | Downloading package omw to /root/nltk_data...\n",
      "[nltk_data]    |   Unzipping corpora/omw.zip.\n",
      "[nltk_data]    | Downloading package opinion_lexicon to\n",
      "[nltk_data]    |     /root/nltk_data...\n",
      "[nltk_data]    |   Unzipping corpora/opinion_lexicon.zip.\n",
      "[nltk_data]    | Downloading package paradigms to /root/nltk_data...\n",
      "[nltk_data]    |   Unzipping corpora/paradigms.zip.\n",
      "[nltk_data]    | Downloading package pil to /root/nltk_data...\n",
      "[nltk_data]    |   Unzipping corpora/pil.zip.\n",
      "[nltk_data]    | Downloading package pl196x to /root/nltk_data...\n",
      "[nltk_data]    |   Unzipping corpora/pl196x.zip.\n",
      "[nltk_data]    | Downloading package ppattach to /root/nltk_data...\n",
      "[nltk_data]    |   Unzipping corpora/ppattach.zip.\n",
      "[nltk_data]    | Downloading package problem_reports to\n",
      "[nltk_data]    |     /root/nltk_data...\n",
      "[nltk_data]    |   Unzipping corpora/problem_reports.zip.\n",
      "[nltk_data]    | Downloading package propbank to /root/nltk_data...\n",
      "[nltk_data]    | Downloading package ptb to /root/nltk_data...\n",
      "[nltk_data]    |   Unzipping corpora/ptb.zip.\n",
      "[nltk_data]    | Downloading package product_reviews_1 to\n",
      "[nltk_data]    |     /root/nltk_data...\n",
      "[nltk_data]    |   Unzipping corpora/product_reviews_1.zip.\n",
      "[nltk_data]    | Downloading package product_reviews_2 to\n",
      "[nltk_data]    |     /root/nltk_data...\n",
      "[nltk_data]    |   Unzipping corpora/product_reviews_2.zip.\n",
      "[nltk_data]    | Downloading package pros_cons to /root/nltk_data...\n",
      "[nltk_data]    |   Unzipping corpora/pros_cons.zip.\n",
      "[nltk_data]    | Downloading package qc to /root/nltk_data...\n",
      "[nltk_data]    |   Unzipping corpora/qc.zip.\n",
      "[nltk_data]    | Downloading package reuters to /root/nltk_data...\n",
      "[nltk_data]    | Downloading package rte to /root/nltk_data...\n",
      "[nltk_data]    |   Unzipping corpora/rte.zip.\n",
      "[nltk_data]    | Downloading package semcor to /root/nltk_data...\n",
      "[nltk_data]    | Downloading package senseval to /root/nltk_data...\n",
      "[nltk_data]    |   Unzipping corpora/senseval.zip.\n",
      "[nltk_data]    | Downloading package sentiwordnet to\n",
      "[nltk_data]    |     /root/nltk_data...\n",
      "[nltk_data]    |   Unzipping corpora/sentiwordnet.zip.\n",
      "[nltk_data]    | Downloading package sentence_polarity to\n",
      "[nltk_data]    |     /root/nltk_data...\n",
      "[nltk_data]    |   Unzipping corpora/sentence_polarity.zip.\n",
      "[nltk_data]    | Downloading package shakespeare to /root/nltk_data...\n",
      "[nltk_data]    |   Unzipping corpora/shakespeare.zip.\n",
      "[nltk_data]    | Downloading package sinica_treebank to\n",
      "[nltk_data]    |     /root/nltk_data...\n",
      "[nltk_data]    |   Unzipping corpora/sinica_treebank.zip.\n",
      "[nltk_data]    | Downloading package smultron to /root/nltk_data...\n",
      "[nltk_data]    |   Unzipping corpora/smultron.zip.\n",
      "[nltk_data]    | Downloading package state_union to /root/nltk_data...\n",
      "[nltk_data]    |   Unzipping corpora/state_union.zip.\n",
      "[nltk_data]    | Downloading package stopwords to /root/nltk_data...\n",
      "[nltk_data]    |   Package stopwords is already up-to-date!\n",
      "[nltk_data]    | Downloading package subjectivity to\n",
      "[nltk_data]    |     /root/nltk_data...\n",
      "[nltk_data]    |   Unzipping corpora/subjectivity.zip.\n",
      "[nltk_data]    | Downloading package swadesh to /root/nltk_data...\n",
      "[nltk_data]    |   Unzipping corpora/swadesh.zip.\n",
      "[nltk_data]    | Downloading package switchboard to /root/nltk_data...\n",
      "[nltk_data]    |   Unzipping corpora/switchboard.zip.\n",
      "[nltk_data]    | Downloading package timit to /root/nltk_data...\n",
      "[nltk_data]    |   Unzipping corpora/timit.zip.\n",
      "[nltk_data]    | Downloading package toolbox to /root/nltk_data...\n",
      "[nltk_data]    |   Unzipping corpora/toolbox.zip.\n",
      "[nltk_data]    | Downloading package treebank to /root/nltk_data...\n",
      "[nltk_data]    |   Unzipping corpora/treebank.zip.\n",
      "[nltk_data]    | Downloading package twitter_samples to\n",
      "[nltk_data]    |     /root/nltk_data...\n",
      "[nltk_data]    |   Unzipping corpora/twitter_samples.zip.\n",
      "[nltk_data]    | Downloading package udhr to /root/nltk_data...\n",
      "[nltk_data]    |   Unzipping corpora/udhr.zip.\n",
      "[nltk_data]    | Downloading package udhr2 to /root/nltk_data...\n",
      "[nltk_data]    |   Unzipping corpora/udhr2.zip.\n",
      "[nltk_data]    | Downloading package unicode_samples to\n",
      "[nltk_data]    |     /root/nltk_data...\n",
      "[nltk_data]    |   Unzipping corpora/unicode_samples.zip.\n",
      "[nltk_data]    | Downloading package universal_treebanks_v20 to\n",
      "[nltk_data]    |     /root/nltk_data...\n",
      "[nltk_data]    | Downloading package verbnet to /root/nltk_data...\n",
      "[nltk_data]    |   Unzipping corpora/verbnet.zip.\n",
      "[nltk_data]    | Downloading package verbnet3 to /root/nltk_data...\n",
      "[nltk_data]    |   Unzipping corpora/verbnet3.zip.\n",
      "[nltk_data]    | Downloading package webtext to /root/nltk_data...\n",
      "[nltk_data]    |   Unzipping corpora/webtext.zip.\n",
      "[nltk_data]    | Downloading package wordnet to /root/nltk_data...\n",
      "[nltk_data]    |   Unzipping corpora/wordnet.zip.\n",
      "[nltk_data]    | Downloading package wordnet_ic to /root/nltk_data...\n",
      "[nltk_data]    |   Unzipping corpora/wordnet_ic.zip.\n",
      "[nltk_data]    | Downloading package words to /root/nltk_data...\n",
      "[nltk_data]    |   Unzipping corpora/words.zip.\n",
      "[nltk_data]    | Downloading package ycoe to /root/nltk_data...\n",
      "[nltk_data]    |   Unzipping corpora/ycoe.zip.\n",
      "[nltk_data]    | Downloading package rslp to /root/nltk_data...\n",
      "[nltk_data]    |   Unzipping stemmers/rslp.zip.\n",
      "[nltk_data]    | Downloading package maxent_treebank_pos_tagger to\n",
      "[nltk_data]    |     /root/nltk_data...\n",
      "[nltk_data]    |   Unzipping taggers/maxent_treebank_pos_tagger.zip.\n",
      "[nltk_data]    | Downloading package universal_tagset to\n",
      "[nltk_data]    |     /root/nltk_data...\n",
      "[nltk_data]    |   Unzipping taggers/universal_tagset.zip.\n",
      "[nltk_data]    | Downloading package maxent_ne_chunker to\n",
      "[nltk_data]    |     /root/nltk_data...\n",
      "[nltk_data]    |   Unzipping chunkers/maxent_ne_chunker.zip.\n",
      "[nltk_data]    | Downloading package punkt to /root/nltk_data...\n",
      "[nltk_data]    |   Package punkt is already up-to-date!\n",
      "[nltk_data]    | Downloading package book_grammars to\n",
      "[nltk_data]    |     /root/nltk_data...\n",
      "[nltk_data]    |   Unzipping grammars/book_grammars.zip.\n",
      "[nltk_data]    | Downloading package sample_grammars to\n",
      "[nltk_data]    |     /root/nltk_data...\n",
      "[nltk_data]    |   Unzipping grammars/sample_grammars.zip.\n",
      "[nltk_data]    | Downloading package spanish_grammars to\n",
      "[nltk_data]    |     /root/nltk_data...\n",
      "[nltk_data]    |   Unzipping grammars/spanish_grammars.zip.\n",
      "[nltk_data]    | Downloading package basque_grammars to\n",
      "[nltk_data]    |     /root/nltk_data...\n",
      "[nltk_data]    |   Unzipping grammars/basque_grammars.zip.\n",
      "[nltk_data]    | Downloading package large_grammars to\n",
      "[nltk_data]    |     /root/nltk_data...\n",
      "[nltk_data]    |   Unzipping grammars/large_grammars.zip.\n",
      "[nltk_data]    | Downloading package tagsets to /root/nltk_data...\n",
      "[nltk_data]    |   Unzipping help/tagsets.zip.\n",
      "[nltk_data]    | Downloading package snowball_data to\n",
      "[nltk_data]    |     /root/nltk_data...\n",
      "[nltk_data]    | Downloading package bllip_wsj_no_aux to\n",
      "[nltk_data]    |     /root/nltk_data...\n",
      "[nltk_data]    |   Unzipping models/bllip_wsj_no_aux.zip.\n",
      "[nltk_data]    | Downloading package word2vec_sample to\n",
      "[nltk_data]    |     /root/nltk_data...\n",
      "[nltk_data]    |   Unzipping models/word2vec_sample.zip.\n",
      "[nltk_data]    | Downloading package panlex_swadesh to\n",
      "[nltk_data]    |     /root/nltk_data...\n",
      "[nltk_data]    | Downloading package mte_teip5 to /root/nltk_data...\n",
      "[nltk_data]    |   Unzipping corpora/mte_teip5.zip.\n",
      "[nltk_data]    | Downloading package averaged_perceptron_tagger to\n",
      "[nltk_data]    |     /root/nltk_data...\n",
      "[nltk_data]    |   Unzipping taggers/averaged_perceptron_tagger.zip.\n",
      "[nltk_data]    | Downloading package averaged_perceptron_tagger_ru to\n",
      "[nltk_data]    |     /root/nltk_data...\n",
      "[nltk_data]    |   Unzipping\n",
      "[nltk_data]    |       taggers/averaged_perceptron_tagger_ru.zip.\n",
      "[nltk_data]    | Downloading package perluniprops to\n",
      "[nltk_data]    |     /root/nltk_data...\n",
      "[nltk_data]    |   Unzipping misc/perluniprops.zip.\n",
      "[nltk_data]    | Downloading package nonbreaking_prefixes to\n",
      "[nltk_data]    |     /root/nltk_data...\n",
      "[nltk_data]    |   Unzipping corpora/nonbreaking_prefixes.zip.\n",
      "[nltk_data]    | Downloading package vader_lexicon to\n",
      "[nltk_data]    |     /root/nltk_data...\n",
      "[nltk_data]    | Downloading package porter_test to /root/nltk_data...\n",
      "[nltk_data]    |   Unzipping stemmers/porter_test.zip.\n",
      "[nltk_data]    | Downloading package wmt15_eval to /root/nltk_data...\n",
      "[nltk_data]    |   Unzipping models/wmt15_eval.zip.\n",
      "[nltk_data]    | Downloading package mwa_ppdb to /root/nltk_data...\n",
      "[nltk_data]    |   Unzipping misc/mwa_ppdb.zip.\n",
      "[nltk_data]    | \n",
      "[nltk_data]  Done downloading collection all\n"
     ]
    },
    {
     "data": {
      "text/plain": [
       "True"
      ]
     },
     "execution_count": 37,
     "metadata": {
      "tags": []
     },
     "output_type": "execute_result"
    }
   ],
   "source": [
    "from gensim.summarization.summarizer import summarize\n",
    "from gensim.summarization import keywords\n",
    "import watson_developer_cloud\n",
    "#import ibm_boto3\n",
    "from botocore.client import Config\n",
    "from nltk.tokenize import word_tokenize\n",
    "from nltk.corpus import stopwords\n",
    "from nltk.stem.wordnet import WordNetLemmatizer\n",
    "import string\n",
    "import gensim\n",
    "import gensim.corpora as corpora\n",
    "from gensim.utils import simple_preprocess\n",
    "from gensim.models import CoherenceModel\n",
    "import pyLDAvis\n",
    "import pyLDAvis.gensim  \n",
    "import matplotlib.pyplot as plt\n",
    "%matplotlib inline\n",
    "import warnings\n",
    "warnings.filterwarnings(\"ignore\")\n",
    "import urllib\n",
    "from bs4 import BeautifulSoup\n",
    "import requests\n",
    "import nltk\n",
    "nltk.download('all')"
   ]
  },
  {
   "cell_type": "code",
   "execution_count": 38,
   "metadata": {
    "colab": {
     "base_uri": "https://localhost:8080/",
     "height": 723
    },
    "colab_type": "code",
    "id": "jEqglZMpicL5",
    "outputId": "77f8aa7b-26ca-422d-ffee-ff677d9b49de"
   },
   "outputs": [
    {
     "data": {
      "text/html": [
       "<div>\n",
       "<style scoped>\n",
       "    .dataframe tbody tr th:only-of-type {\n",
       "        vertical-align: middle;\n",
       "    }\n",
       "\n",
       "    .dataframe tbody tr th {\n",
       "        vertical-align: top;\n",
       "    }\n",
       "\n",
       "    .dataframe thead th {\n",
       "        text-align: right;\n",
       "    }\n",
       "</style>\n",
       "<table border=\"1\" class=\"dataframe\">\n",
       "  <thead>\n",
       "    <tr style=\"text-align: right;\">\n",
       "      <th></th>\n",
       "      <th>issue_url</th>\n",
       "      <th>issue_title</th>\n",
       "      <th>body</th>\n",
       "    </tr>\n",
       "  </thead>\n",
       "  <tbody>\n",
       "    <tr>\n",
       "      <th>722809</th>\n",
       "      <td>\"https://github.com/jiggzson/nerdamer/issues/248\"</td>\n",
       "      <td>how to replace builtin functions?</td>\n",
       "      <td>during my custom implementation of 154, i needed custom implementations of sin, cos, tan, asin, acos and atan. i started with js nerdamer.setfunction 'sin', 'x', 'sin x pi/180 ' ; document.writeln nerdamer 'sin pi ' ; //=&gt; 0 then js var _ = nerdamer.getcore .parser; var f = _.functions.sin; _.functions.sin = function sin s {return f _.divide _.multiply s,math.pi ,180 ,1 ;} ; alert nerdamer 'sin pi ' .tostring ; //=&gt; 'allowed_args' is undefined finally js nerdamer.register { name: 'sin', numa...</td>\n",
       "    </tr>\n",
       "    <tr>\n",
       "      <th>3420098</th>\n",
       "      <td>\"https://github.com/Dispader/manifesto/issues/45\"</td>\n",
       "      <td>add coveralls code coverage to build</td>\n",
       "      <td>looks like there's a good example here https://github.com/cjstehno/gradle-webpreview-plugin/blob/master/build.gradle .</td>\n",
       "    </tr>\n",
       "    <tr>\n",
       "      <th>4035097</th>\n",
       "      <td>\"https://github.com/njase/xtperf/issues/5\"</td>\n",
       "      <td>graphically plot the external stats results</td>\n",
       "      <td>support for new command - perf plot</td>\n",
       "    </tr>\n",
       "    <tr>\n",
       "      <th>1612411</th>\n",
       "      <td>\"https://github.com/rdzz6832/ba-1/issues/1\"</td>\n",
       "      <td>add more comments</td>\n",
       "      <td>there is only one comment in these articles, master, we need more...</td>\n",
       "    </tr>\n",
       "    <tr>\n",
       "      <th>235859</th>\n",
       "      <td>\"https://github.com/facebookresearch/faiss/issues/50\"</td>\n",
       "      <td>does anyone have dockerfile for this?</td>\n",
       "      <td>i think a dockerfile is much more convenient for build and utilization for this library.</td>\n",
       "    </tr>\n",
       "  </tbody>\n",
       "</table>\n",
       "</div>"
      ],
      "text/plain": [
       "                                                     issue_url  \\\n",
       "722809       \"https://github.com/jiggzson/nerdamer/issues/248\"   \n",
       "3420098      \"https://github.com/Dispader/manifesto/issues/45\"   \n",
       "4035097             \"https://github.com/njase/xtperf/issues/5\"   \n",
       "1612411            \"https://github.com/rdzz6832/ba-1/issues/1\"   \n",
       "235859   \"https://github.com/facebookresearch/faiss/issues/50\"   \n",
       "\n",
       "                                         issue_title  \\\n",
       "722809             how to replace builtin functions?   \n",
       "3420098         add coveralls code coverage to build   \n",
       "4035097  graphically plot the external stats results   \n",
       "1612411                            add more comments   \n",
       "235859         does anyone have dockerfile for this?   \n",
       "\n",
       "                                                                                                                                                                                                                                                                                                                                                                                                                                                                                                                        body  \n",
       "722809   during my custom implementation of 154, i needed custom implementations of sin, cos, tan, asin, acos and atan. i started with js nerdamer.setfunction 'sin', 'x', 'sin x pi/180 ' ; document.writeln nerdamer 'sin pi ' ; //=> 0 then js var _ = nerdamer.getcore .parser; var f = _.functions.sin; _.functions.sin = function sin s {return f _.divide _.multiply s,math.pi ,180 ,1 ;} ; alert nerdamer 'sin pi ' .tostring ; //=> 'allowed_args' is undefined finally js nerdamer.register { name: 'sin', numa...  \n",
       "3420098                                                                                                                                                                                                                                                                                                                                                                                               looks like there's a good example here https://github.com/cjstehno/gradle-webpreview-plugin/blob/master/build.gradle .  \n",
       "4035097                                                                                                                                                                                                                                                                                                                                                                                                                                                                                  support for new command - perf plot  \n",
       "1612411                                                                                                                                                                                                                                                                                                                                                                                                                                                 there is only one comment in these articles, master, we need more...  \n",
       "235859                                                                                                                                                                                                                                                                                                                                                                                                                              i think a dockerfile is much more convenient for build and utilization for this library.  "
      ]
     },
     "execution_count": 38,
     "metadata": {
      "tags": []
     },
     "output_type": "execute_result"
    }
   ],
   "source": [
    "df.head(5)"
   ]
  },
  {
   "cell_type": "code",
   "execution_count": 0,
   "metadata": {
    "colab": {},
    "colab_type": "code",
    "id": "350Lq-HEicO4"
   },
   "outputs": [],
   "source": [
    "# Helper functions to extract summary and keywords\n",
    "\n",
    "'''Get the summary of the text'''\n",
    "\n",
    "def get_summary(text, pct):\n",
    "    summary = summarize(text,ratio=pct,split=True)\n",
    "    return summary\n",
    "\n",
    "'''Get the keywords of the text'''\n",
    "\n",
    "def get_keywords(text):\n",
    "    res = keywords(text, ratio=0.1, words=None, split=False, scores=False, pos_filter=('NN', 'JJ'), lemmatize=False, deacc=False)\n",
    "    res = res.split('\\n')\n",
    "    return res\n",
    "\n",
    "'''Tokenize the sentence into words & remove punctuation'''\n",
    "\n",
    "def sent_to_words(sentences):\n",
    "    for sentence in sentences:\n",
    "        yield(gensim.utils.simple_preprocess(str(sentence), deacc=True))\n",
    "        \n",
    "def split_sentences(text):\n",
    "    \"\"\" Split text into sentences.\n",
    "    \"\"\"\n",
    "    sentence_delimiters = re.compile(u'[\\\\[\\\\]\\n.!?]')\n",
    "    sentences = sentence_delimiters.split(text)\n",
    "    return sentences\n",
    "\n",
    "def split_into_tokens(text):\n",
    "    \"\"\" Split text into tokens.\n",
    "    \"\"\"\n",
    "    tokens = nltk.word_tokenize(text)\n",
    "    return tokens\n",
    "    \n",
    "def POS_tagging(text):\n",
    "    \"\"\" Generate Part of speech tagging of the text.\n",
    "    \"\"\"\n",
    "    POSofText = nltk.tag.pos_tag(text)\n",
    "    return POSofText\n",
    "\n",
    "def extract_title_text(url):\n",
    "    page = urllib.request.urlopen(url).read().decode('utf8')\n",
    "    soup = BeautifulSoup(page,'lxml')\n",
    "    text = ' '.join(map(lambda p: p.text, soup.find_all('p')))\n",
    "    return soup.title.text, text"
   ]
  },
  {
   "cell_type": "code",
   "execution_count": 0,
   "metadata": {
    "colab": {},
    "colab_type": "code",
    "id": "_WJfaRIe0f2n"
   },
   "outputs": [],
   "source": [
    "issue_number = random.randint(1,1000)\n",
    "text = df.iloc[issue_number]['body']\n",
    "\n",
    "#print('Printing Summary')\n",
    "#print('--------------------------')\n",
    "#print(get_summary(text, 0.3))\n",
    "#print ('-------------------------')\n",
    "#print('Printing Keywords')\n",
    "#print('--------------------------')\n",
    "#print(get_keywords(text))"
   ]
  },
  {
   "cell_type": "code",
   "execution_count": 0,
   "metadata": {
    "colab": {},
    "colab_type": "code",
    "id": "66BBg94A0hWy"
   },
   "outputs": [],
   "source": [
    "import re\n",
    "my_new_text = re.sub('[^ a-zA-Z0-9]', '', text)\n",
    "\n",
    "stop_words = set(stopwords.words('english'))\n",
    "lemma = WordNetLemmatizer()\n",
    "word_tokens = word_tokenize(str(my_new_text)) \n",
    "filtered_sentence = [w for w in word_tokens if not w in stop_words]\n",
    "normalized = \" \".join(lemma.lemmatize(word) for word in filtered_sentence)"
   ]
  },
  {
   "cell_type": "code",
   "execution_count": 0,
   "metadata": {
    "colab": {},
    "colab_type": "code",
    "id": "dbhj9jsn0hZx"
   },
   "outputs": [],
   "source": [
    "from nltk import ngrams\n",
    "n = 7\n",
    "total_grams = []\n",
    "number_of_grams = ngrams(normalized.split(), n)\n",
    "for grams in number_of_grams:\n",
    "    total_grams.append(grams)"
   ]
  },
  {
   "cell_type": "code",
   "execution_count": 84,
   "metadata": {
    "colab": {
     "base_uri": "https://localhost:8080/",
     "height": 74
    },
    "colab_type": "code",
    "id": "IaqZiDon0hcu",
    "outputId": "916edda9-08da-4e0c-dfb8-dc19a6eb83e4"
   },
   "outputs": [
    {
     "name": "stdout",
     "output_type": "stream",
     "text": [
      "[('might', 'nice', 'trait', 'assigned', 'token', 'there', 'already'), ('nice', 'trait', 'assigned', 'token', 'there', 'already', 'trait'), ('trait', 'assigned', 'token', 'there', 'already', 'trait', 'monster'), ('assigned', 'token', 'there', 'already', 'trait', 'monster', 'token'), ('token', 'there', 'already', 'trait', 'monster', 'token', 'would'), ('there', 'already', 'trait', 'monster', 'token', 'would', 'nice'), ('already', 'trait', 'monster', 'token', 'would', 'nice', 'trait'), ('trait', 'monster', 'token', 'would', 'nice', 'trait', 'generic'), ('monster', 'token', 'would', 'nice', 'trait', 'generic', 'people'), ('token', 'would', 'nice', 'trait', 'generic', 'people', 'token')]\n"
     ]
    }
   ],
   "source": [
    "print(total_grams[:10])"
   ]
  },
  {
   "cell_type": "code",
   "execution_count": 85,
   "metadata": {
    "colab": {
     "base_uri": "https://localhost:8080/",
     "height": 497
    },
    "colab_type": "code",
    "id": "PCmIOgnk0hf4",
    "outputId": "6947cd09-9481-4d18-f0b3-d088dfbff708"
   },
   "outputs": [
    {
     "data": {
      "image/png": "[encoded data removed]",
      "text/plain": [
       "<Figure size 1152x864 with 1 Axes>"
      ]
     },
     "metadata": {
      "tags": []
     },
     "output_type": "display_data"
    }
   ],
   "source": [
    "from wordcloud import WordCloud\n",
    "wordcloud = WordCloud(max_font_size=60).generate(normalized)\n",
    "plt.figure(figsize=(16,12))\n",
    "\n",
    "'''plot wordcloud in matplotlib'''\n",
    "\n",
    "plt.imshow(wordcloud, interpolation=\"bilinear\")\n",
    "plt.axis(\"off\")\n",
    "plt.show()"
   ]
  },
  {
   "cell_type": "code",
   "execution_count": 86,
   "metadata": {
    "colab": {
     "base_uri": "https://localhost:8080/",
     "height": 51
    },
    "colab_type": "code",
    "id": "MnsYy-7i0hi9",
    "outputId": "456cc908-d6ba-4e29-faa2-02f004d95b71"
   },
   "outputs": [
    {
     "name": "stdout",
     "output_type": "stream",
     "text": [
      "trait was found 4 times\n",
      "token was found 4 times\n"
     ]
    }
   ],
   "source": [
    "count = {}\n",
    "for w in normalized.split():\n",
    "    if w in count:\n",
    "        count[w] += 1\n",
    "    else:\n",
    "        count[w] = 1\n",
    "for word, times in count.items():\n",
    "    if times > 2:\n",
    "        print(\"%s was found %d times\" % (word, times))"
   ]
  },
  {
   "cell_type": "code",
   "execution_count": 0,
   "metadata": {
    "colab": {},
    "colab_type": "code",
    "id": "4NzyTn-h0hoW"
   },
   "outputs": [],
   "source": [
    "import gensim\n",
    "from gensim import corpora\n",
    "\n",
    "tokenized_sents = list(sent_to_words(filtered_sentence))\n",
    "\n",
    "# Creating the term dictionary of our corpus, where every unique term is assigned an index. \n",
    "dictionary = corpora.Dictionary(tokenized_sents)\n",
    "\n",
    "# Converting list of documents (corpus) into Document Term Matrix using dictionary prepared above.\n",
    "doc_term_matrix = [dictionary.doc2bow(doc) for doc in tokenized_sents]"
   ]
  },
  {
   "cell_type": "code",
   "execution_count": 0,
   "metadata": {
    "colab": {},
    "colab_type": "code",
    "id": "sYn5ETfU0hmB"
   },
   "outputs": [],
   "source": [
    "Lda = gensim.models.ldamodel.LdaModel\n",
    "\n",
    "# Running and Training LDA model on the document term matrix by selecting minimum parameters required.\n",
    "ldamodel = Lda(doc_term_matrix, num_topics=2, id2word = dictionary, passes=100)"
   ]
  },
  {
   "cell_type": "code",
   "execution_count": 89,
   "metadata": {
    "colab": {
     "base_uri": "https://localhost:8080/",
     "height": 74
    },
    "colab_type": "code",
    "id": "Fyz2sPDC3gUB",
    "outputId": "74725671-0781-4e1b-e8a9-f41a3d94a640"
   },
   "outputs": [
    {
     "name": "stdout",
     "output_type": "stream",
     "text": [
      "[(0, '0.097*\"might\" + 0.097*\"nice\" + 0.097*\"would\" + 0.097*\"traits\" + 0.058*\"generic\" + 0.058*\"named\" + 0.058*\"assigned\" + 0.058*\"theres\" + 0.058*\"define\" + 0.058*\"us\" + 0.058*\"especially\" + 0.021*\"grows\" + 0.021*\"already\" + 0.021*\"etc\" + 0.021*\"game\" + 0.021*\"thought\" + 0.021*\"useful\" + 0.021*\"monster\" + 0.021*\"trait\" + 0.021*\"people\"'), (1, '0.175*\"tokens\" + 0.097*\"people\" + 0.097*\"trait\" + 0.058*\"monster\" + 0.058*\"useful\" + 0.058*\"thought\" + 0.058*\"game\" + 0.058*\"etc\" + 0.058*\"already\" + 0.058*\"grows\" + 0.021*\"especially\" + 0.021*\"us\" + 0.021*\"define\" + 0.021*\"theres\" + 0.021*\"assigned\" + 0.021*\"named\" + 0.021*\"generic\" + 0.020*\"traits\" + 0.020*\"might\" + 0.020*\"would\"')]\n"
     ]
    }
   ],
   "source": [
    "print(ldamodel.print_topics(num_topics=2, num_words=20))"
   ]
  },
  {
   "cell_type": "code",
   "execution_count": 90,
   "metadata": {
    "colab": {
     "base_uri": "https://localhost:8080/",
     "height": 85
    },
    "colab_type": "code",
    "id": "QtJprR8E3hEX",
    "outputId": "676aac3d-b696-4df9-8d2a-6b1b78e84ec5"
   },
   "outputs": [
    {
     "name": "stdout",
     "output_type": "stream",
     "text": [
      "\n",
      "Perplexity:  -3.826999959042806\n",
      "\n",
      "Coherence Score:  0.8702767130442934\n"
     ]
    }
   ],
   "source": [
    "'''Compute Perplexity'''\n",
    "\n",
    "# a measure of how good the model is. lower the better.\n",
    "\n",
    "print('\\nPerplexity: ', ldamodel.log_perplexity(doc_term_matrix))\n",
    "\n",
    "'''Compute Coherence Score'''\n",
    "\n",
    "coherence_model_lda = CoherenceModel(model=ldamodel, texts=tokenized_sents, dictionary=dictionary, coherence='c_v')\n",
    "coherence_lda = coherence_model_lda.get_coherence()\n",
    "print('\\nCoherence Score: ', coherence_lda)"
   ]
  },
  {
   "cell_type": "code",
   "execution_count": 91,
   "metadata": {
    "colab": {
     "base_uri": "https://localhost:8080/",
     "height": 901
    },
    "colab_type": "code",
    "id": "3KYvpSCJ3hBt",
    "outputId": "007caa51-ac7e-4d8d-8c27-1ba30f121f4e"
   },
   "outputs": [
    {
     "data": {
      "text/html": [
       "\n",
       "<link rel=\"stylesheet\" type=\"text/css\" href=\"https://cdn.rawgit.com/bmabey/pyLDAvis/files/ldavis.v1.0.0.css\">\n",
       "\n",
       "\n",
       "<div id=\"ldavis_el1441405648699545607440056187\"></div>\n",
       "<script type=\"text/javascript\">\n",
       "\n",
       "var ldavis_el1441405648699545607440056187_data = {\"mdsDat\": {\"Freq\": [50.03654861450195, 49.963443756103516], \"cluster\": [1, 1], \"topics\": [1, 2], \"x\": [0.09080425649881363, -0.09080425649881363], \"y\": [0.0, 0.0]}, \"tinfo\": {\"Category\": [\"Default\", \"Default\", \"Default\", \"Default\", \"Default\", \"Default\", \"Default\", \"Default\", \"Default\", \"Default\", \"Default\", \"Default\", \"Default\", \"Default\", \"Default\", \"Default\", \"Default\", \"Default\", \"Default\", \"Default\", \"Default\", \"Topic1\", \"Topic1\", \"Topic1\", \"Topic1\", \"Topic1\", \"Topic1\", \"Topic1\", \"Topic1\", \"Topic1\", \"Topic1\", \"Topic1\", \"Topic1\", \"Topic1\", \"Topic1\", \"Topic1\", \"Topic1\", \"Topic1\", \"Topic1\", \"Topic1\", \"Topic1\", \"Topic1\", \"Topic2\", \"Topic2\", \"Topic2\", \"Topic2\", \"Topic2\", \"Topic2\", \"Topic2\", \"Topic2\", \"Topic2\", \"Topic2\", \"Topic2\", \"Topic2\", \"Topic2\", \"Topic2\", \"Topic2\", \"Topic2\", \"Topic2\", \"Topic2\", \"Topic2\", \"Topic2\", \"Topic2\"], \"Freq\": [2.0, 1.0, 1.0, 1.0, 1.0, 1.0, 1.0, 1.0, 1.0, 1.0, 1.0, 1.0, 1.0, 1.0, 1.0, 1.0, 1.0, 1.0, 1.0, 1.0, 1.0, 2.6339476108551025, 1.4572595357894897, 1.4572595357894897, 0.8684866428375244, 0.8684864044189453, 0.8684863448143005, 0.868486225605011, 0.8684861063957214, 0.8684859275817871, 0.8684852719306946, 0.30777424573898315, 0.30777424573898315, 0.3077740967273712, 0.3077739477157593, 0.30777376890182495, 0.307773619890213, 0.30777356028556824, 0.3071697950363159, 0.30716973543167114, 0.30716970562934875, 0.30716973543167114, 1.4576810598373413, 1.4576810598373413, 1.4576807022094727, 1.4576807022094727, 0.8687676191329956, 0.8687676191329956, 0.8687673807144165, 0.8687673807144165, 0.8687670826911926, 0.8687670826911926, 0.8687669038772583, 0.30791497230529785, 0.30791425704956055, 0.3079140782356262, 0.3079139292240143, 0.3079138994216919, 0.3079138398170471, 0.30791357159614563, 0.30730193853378296, 0.30730190873146057, 0.30693650245666504], \"Term\": [\"tokens\", \"might\", \"nice\", \"would\", \"traits\", \"people\", \"trait\", \"named\", \"generic\", \"assigned\", \"theres\", \"define\", \"us\", \"especially\", \"monster\", \"thought\", \"useful\", \"game\", \"etc\", \"already\", \"grows\", \"tokens\", \"people\", \"trait\", \"monster\", \"useful\", \"thought\", \"game\", \"etc\", \"already\", \"grows\", \"especially\", \"us\", \"define\", \"theres\", \"assigned\", \"named\", \"generic\", \"traits\", \"would\", \"nice\", \"might\", \"nice\", \"might\", \"would\", \"traits\", \"named\", \"generic\", \"assigned\", \"theres\", \"define\", \"us\", \"especially\", \"grows\", \"already\", \"etc\", \"game\", \"thought\", \"useful\", \"monster\", \"trait\", \"people\", \"tokens\"], \"Total\": [2.0, 1.0, 1.0, 1.0, 1.0, 1.0, 1.0, 1.0, 1.0, 1.0, 1.0, 1.0, 1.0, 1.0, 1.0, 1.0, 1.0, 1.0, 1.0, 1.0, 1.0, 2.9408841133117676, 1.764561414718628, 1.764561414718628, 1.1764001846313477, 1.1764001846313477, 1.1764001846313477, 1.1764001846313477, 1.1764001846313477, 1.1764001846313477, 1.1764001846313477, 1.1765410900115967, 1.1765413284301758, 1.1765412092208862, 1.1765413284301758, 1.1765410900115967, 1.1765412092208862, 1.1765412092208862, 1.7648504972457886, 1.764850378036499, 1.7648507356643677, 1.7648508548736572, 1.7648507356643677, 1.7648508548736572, 1.764850378036499, 1.7648504972457886, 1.1765412092208862, 1.1765412092208862, 1.1765410900115967, 1.1765413284301758, 1.1765412092208862, 1.1765413284301758, 1.1765410900115967, 1.1764001846313477, 1.1764001846313477, 1.1764001846313477, 1.1764001846313477, 1.1764001846313477, 1.1764001846313477, 1.1764001846313477, 1.764561414718628, 1.764561414718628, 2.9408841133117676], \"loglift\": [21.0, 20.0, 19.0, 18.0, 17.0, 16.0, 15.0, 14.0, 13.0, 12.0, 11.0, 10.0, 9.0, 8.0, 7.0, 6.0, 5.0, 4.0, 3.0, 2.0, 1.0, 0.5821999907493591, 0.5011000037193298, 0.5011000037193298, 0.3889999985694885, 0.3889999985694885, 0.3889999985694885, 0.3889999985694885, 0.3889999985694885, 0.3889999985694885, 0.3889999985694885, -0.6485999822616577, -0.6485999822616577, -0.6485999822616577, -0.6485999822616577, -0.6485999822616577, -0.6485999822616577, -0.6485999822616577, -1.055999994277954, -1.055999994277954, -1.055999994277954, -1.055999994277954, 0.5026999711990356, 0.5026999711990356, 0.5026999711990356, 0.5026999711990356, 0.3905999958515167, 0.3905999958515167, 0.3905999958515167, 0.3905999958515167, 0.3905999958515167, 0.3905999958515167, 0.3905999958515167, -0.6464999914169312, -0.6464999914169312, -0.6464999914169312, -0.6464999914169312, -0.6464999914169312, -0.6464999914169312, -0.6464999914169312, -1.0539000034332275, -1.0539000034332275, -1.5658999681472778], \"logprob\": [21.0, 20.0, 19.0, 18.0, 17.0, 16.0, 15.0, 14.0, 13.0, 12.0, 11.0, 10.0, 9.0, 8.0, 7.0, 6.0, 5.0, 4.0, 3.0, 2.0, 1.0, -1.7403000593185425, -2.332200050354004, -2.332200050354004, -2.8498001098632812, -2.8498001098632812, -2.8498001098632812, -2.8498001098632812, -2.8498001098632812, -2.8498001098632812, -2.8498001098632812, -3.887200117111206, -3.887200117111206, -3.887200117111206, -3.887200117111206, -3.887200117111206, -3.887200117111206, -3.887200117111206, -3.8891000747680664, -3.8891000747680664, -3.8891000747680664, -3.8891000747680664, -2.3304998874664307, -2.3304998874664307, -2.3304998874664307, -2.3304998874664307, -2.8480000495910645, -2.8480000495910645, -2.8480000495910645, -2.8480000495910645, -2.8480000495910645, -2.8480000495910645, -2.8480000495910645, -3.8852999210357666, -3.8852999210357666, -3.8852999210357666, -3.8852999210357666, -3.8852999210357666, -3.8852999210357666, -3.8852999210357666, -3.887200117111206, -3.887200117111206, -3.888400077819824]}, \"token.table\": {\"Topic\": [1, 2, 2, 2, 1, 1, 2, 1, 2, 1, 2, 2, 1, 2, 1, 1, 1, 2, 2, 1, 2], \"Freq\": [0.8500508666038513, 0.849949061870575, 0.8499490022659302, 0.849949061870575, 0.8500508666038513, 0.8500508666038513, 0.8499490022659302, 0.8500508666038513, 0.5666201114654541, 0.8500508666038513, 0.8499490022659302, 0.5666201710700989, 0.5667130351066589, 0.8499488830566406, 0.8500508666038513, 1.0201014280319214, 0.5667130351066589, 0.5666202306747437, 0.8499488830566406, 0.8500508666038513, 0.5666202902793884], \"Term\": [\"already\", \"assigned\", \"define\", \"especially\", \"etc\", \"game\", \"generic\", \"grows\", \"might\", \"monster\", \"named\", \"nice\", \"people\", \"theres\", \"thought\", \"tokens\", \"trait\", \"traits\", \"us\", \"useful\", \"would\"]}, \"R\": 21, \"lambda.step\": 0.01, \"plot.opts\": {\"xlab\": \"PC1\", \"ylab\": \"PC2\"}, \"topic.order\": [2, 1]};\n",
       "\n",
       "function LDAvis_load_lib(url, callback){\n",
       "  var s = document.createElement('script');\n",
       "  s.src = url;\n",
       "  s.async = true;\n",
       "  s.onreadystatechange = s.onload = callback;\n",
       "  s.onerror = function(){console.warn(\"failed to load library \" + url);};\n",
       "  document.getElementsByTagName(\"head\")[0].appendChild(s);\n",
       "}\n",
       "\n",
       "if(typeof(LDAvis) !== \"undefined\"){\n",
       "   // already loaded: just create the visualization\n",
       "   !function(LDAvis){\n",
       "       new LDAvis(\"#\" + \"ldavis_el1441405648699545607440056187\", ldavis_el1441405648699545607440056187_data);\n",
       "   }(LDAvis);\n",
       "}else if(typeof define === \"function\" && define.amd){\n",
       "   // require.js is available: use it to load d3/LDAvis\n",
       "   require.config({paths: {d3: \"https://cdnjs.cloudflare.com/ajax/libs/d3/3.5.5/d3.min\"}});\n",
       "   require([\"d3\"], function(d3){\n",
       "      window.d3 = d3;\n",
       "      LDAvis_load_lib(\"https://cdn.rawgit.com/bmabey/pyLDAvis/files/ldavis.v1.0.0.js\", function(){\n",
       "        new LDAvis(\"#\" + \"ldavis_el1441405648699545607440056187\", ldavis_el1441405648699545607440056187_data);\n",
       "      });\n",
       "    });\n",
       "}else{\n",
       "    // require.js not available: dynamically load d3 & LDAvis\n",
       "    LDAvis_load_lib(\"https://cdnjs.cloudflare.com/ajax/libs/d3/3.5.5/d3.min.js\", function(){\n",
       "         LDAvis_load_lib(\"https://cdn.rawgit.com/bmabey/pyLDAvis/files/ldavis.v1.0.0.js\", function(){\n",
       "                 new LDAvis(\"#\" + \"ldavis_el1441405648699545607440056187\", ldavis_el1441405648699545607440056187_data);\n",
       "            })\n",
       "         });\n",
       "}\n",
       "</script>"
      ],
      "text/plain": [
       "PreparedData(topic_coordinates=            Freq  cluster  topics         x    y\n",
       "topic                                           \n",
       "1      50.036549        1       1  0.090804  0.0\n",
       "0      49.963444        1       2 -0.090804  0.0, topic_info=     Category      Freq        Term     Total  loglift  logprob\n",
       "term                                                           \n",
       "4     Default  2.000000      tokens  2.000000  21.0000  21.0000\n",
       "0     Default  1.000000       might  1.000000  20.0000  20.0000\n",
       "1     Default  1.000000        nice  1.000000  19.0000  19.0000\n",
       "9     Default  1.000000       would  1.000000  18.0000  18.0000\n",
       "2     Default  1.000000      traits  1.000000  17.0000  17.0000\n",
       "11    Default  1.000000      people  1.000000  16.0000  16.0000\n",
       "7     Default  1.000000       trait  1.000000  15.0000  15.0000\n",
       "12    Default  1.000000       named  1.000000  14.0000  14.0000\n",
       "10    Default  1.000000     generic  1.000000  13.0000  13.0000\n",
       "3     Default  1.000000    assigned  1.000000  12.0000  12.0000\n",
       "5     Default  1.000000      theres  1.000000  11.0000  11.0000\n",
       "15    Default  1.000000      define  1.000000  10.0000  10.0000\n",
       "14    Default  1.000000          us  1.000000   9.0000   9.0000\n",
       "18    Default  1.000000  especially  1.000000   8.0000   8.0000\n",
       "8     Default  1.000000     monster  1.000000   7.0000   7.0000\n",
       "16    Default  1.000000     thought  1.000000   6.0000   6.0000\n",
       "17    Default  1.000000      useful  1.000000   5.0000   5.0000\n",
       "19    Default  1.000000        game  1.000000   4.0000   4.0000\n",
       "13    Default  1.000000         etc  1.000000   3.0000   3.0000\n",
       "6     Default  1.000000     already  1.000000   2.0000   2.0000\n",
       "20    Default  1.000000       grows  1.000000   1.0000   1.0000\n",
       "4      Topic1  2.633948      tokens  2.940884   0.5822  -1.7403\n",
       "11     Topic1  1.457260      people  1.764561   0.5011  -2.3322\n",
       "7      Topic1  1.457260       trait  1.764561   0.5011  -2.3322\n",
       "8      Topic1  0.868487     monster  1.176400   0.3890  -2.8498\n",
       "17     Topic1  0.868486      useful  1.176400   0.3890  -2.8498\n",
       "16     Topic1  0.868486     thought  1.176400   0.3890  -2.8498\n",
       "19     Topic1  0.868486        game  1.176400   0.3890  -2.8498\n",
       "13     Topic1  0.868486         etc  1.176400   0.3890  -2.8498\n",
       "6      Topic1  0.868486     already  1.176400   0.3890  -2.8498\n",
       "...       ...       ...         ...       ...      ...      ...\n",
       "15     Topic1  0.307774      define  1.176541  -0.6486  -3.8872\n",
       "5      Topic1  0.307774      theres  1.176541  -0.6486  -3.8872\n",
       "3      Topic1  0.307774    assigned  1.176541  -0.6486  -3.8872\n",
       "12     Topic1  0.307774       named  1.176541  -0.6486  -3.8872\n",
       "10     Topic1  0.307774     generic  1.176541  -0.6486  -3.8872\n",
       "2      Topic1  0.307170      traits  1.764850  -1.0560  -3.8891\n",
       "9      Topic1  0.307170       would  1.764850  -1.0560  -3.8891\n",
       "1      Topic1  0.307170        nice  1.764851  -1.0560  -3.8891\n",
       "0      Topic1  0.307170       might  1.764851  -1.0560  -3.8891\n",
       "1      Topic2  1.457681        nice  1.764851   0.5027  -2.3305\n",
       "0      Topic2  1.457681       might  1.764851   0.5027  -2.3305\n",
       "9      Topic2  1.457681       would  1.764850   0.5027  -2.3305\n",
       "2      Topic2  1.457681      traits  1.764850   0.5027  -2.3305\n",
       "12     Topic2  0.868768       named  1.176541   0.3906  -2.8480\n",
       "10     Topic2  0.868768     generic  1.176541   0.3906  -2.8480\n",
       "3      Topic2  0.868767    assigned  1.176541   0.3906  -2.8480\n",
       "5      Topic2  0.868767      theres  1.176541   0.3906  -2.8480\n",
       "15     Topic2  0.868767      define  1.176541   0.3906  -2.8480\n",
       "14     Topic2  0.868767          us  1.176541   0.3906  -2.8480\n",
       "18     Topic2  0.868767  especially  1.176541   0.3906  -2.8480\n",
       "20     Topic2  0.307915       grows  1.176400  -0.6465  -3.8853\n",
       "6      Topic2  0.307914     already  1.176400  -0.6465  -3.8853\n",
       "13     Topic2  0.307914         etc  1.176400  -0.6465  -3.8853\n",
       "19     Topic2  0.307914        game  1.176400  -0.6465  -3.8853\n",
       "16     Topic2  0.307914     thought  1.176400  -0.6465  -3.8853\n",
       "17     Topic2  0.307914      useful  1.176400  -0.6465  -3.8853\n",
       "8      Topic2  0.307914     monster  1.176400  -0.6465  -3.8853\n",
       "7      Topic2  0.307302       trait  1.764561  -1.0539  -3.8872\n",
       "11     Topic2  0.307302      people  1.764561  -1.0539  -3.8872\n",
       "4      Topic2  0.306937      tokens  2.940884  -1.5659  -3.8884\n",
       "\n",
       "[63 rows x 6 columns], token_table=      Topic      Freq        Term\n",
       "term                             \n",
       "6         1  0.850051     already\n",
       "3         2  0.849949    assigned\n",
       "15        2  0.849949      define\n",
       "18        2  0.849949  especially\n",
       "13        1  0.850051         etc\n",
       "19        1  0.850051        game\n",
       "10        2  0.849949     generic\n",
       "20        1  0.850051       grows\n",
       "0         2  0.566620       might\n",
       "8         1  0.850051     monster\n",
       "12        2  0.849949       named\n",
       "1         2  0.566620        nice\n",
       "11        1  0.566713      people\n",
       "5         2  0.849949      theres\n",
       "16        1  0.850051     thought\n",
       "4         1  1.020101      tokens\n",
       "7         1  0.566713       trait\n",
       "2         2  0.566620      traits\n",
       "14        2  0.849949          us\n",
       "17        1  0.850051      useful\n",
       "9         2  0.566620       would, R=21, lambda_step=0.01, plot_opts={'xlab': 'PC1', 'ylab': 'PC2'}, topic_order=[2, 1])"
      ]
     },
     "execution_count": 91,
     "metadata": {
      "tags": []
     },
     "output_type": "execute_result"
    }
   ],
   "source": [
    "'''Visualize the topics'''\n",
    "# pyLDAvis tool to visualize the fit of our LDA model across topics and their top words. \n",
    "pyLDAvis.enable_notebook()\n",
    "vis = pyLDAvis.gensim.prepare(ldamodel, doc_term_matrix, dictionary)\n",
    "vis"
   ]
  },
  {
   "cell_type": "code",
   "execution_count": 0,
   "metadata": {
    "colab": {},
    "colab_type": "code",
    "id": "2r35ACMZ3g98"
   },
   "outputs": [],
   "source": []
  },
  {
   "cell_type": "code",
   "execution_count": 0,
   "metadata": {
    "colab": {},
    "colab_type": "code",
    "id": "qGH-FWF4368N"
   },
   "outputs": [],
   "source": []
  }
 ],
 "metadata": {
  "colab": {
   "include_colab_link": true,
   "name": "Wordcloud.ipynb",
   "provenance": [],
   "version": "0.3.2"
  },
  "kernelspec": {
   "display_name": "Python 3",
   "language": "python",
   "name": "python3"
  },
  "language_info": {
   "codemirror_mode": {
    "name": "ipython",
    "version": 3
   },
   "file_extension": ".py",
   "mimetype": "text/x-python",
   "name": "python",
   "nbconvert_exporter": "python",
   "pygments_lexer": "ipython3",
   "version": "3.7.1"
  }
 },
 "nbformat": 4,
 "nbformat_minor": 1
}
