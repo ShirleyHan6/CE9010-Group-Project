{
 "cells": [
  {
   "cell_type": "code",
   "execution_count": 2,
   "metadata": {},
   "outputs": [
    {
     "name": "stdout",
     "output_type": "stream",
     "text": [
      "Collecting rouge\n",
      "  Downloading https://files.pythonhosted.org/packages/8f/89/af359c22e1d858e0299d4cc9219f36b504817c9797acad23081247867845/rouge-0.3.1-py3-none-any.whl\n",
      "Installing collected packages: rouge\n",
      "Successfully installed rouge-0.3.1\n"
     ]
    }
   ],
   "source": [
    "!pip install rouge"
   ]
  },
  {
   "cell_type": "markdown",
   "metadata": {},
   "source": [
    "ROUGE Example\n",
    "* R = overlap / length of reference summary\n",
    "* P = overlap / length of generated summary"
   ]
  },
  {
   "cell_type": "code",
   "execution_count": 46,
   "metadata": {},
   "outputs": [
    {
     "name": "stdout",
     "output_type": "stream",
     "text": [
      "[{'rouge-1': {'f': 0.6666666619135801, 'p': 0.8571428571428571, 'r': 0.5454545454545454}, 'rouge-2': {'f': 0.24999999531250006, 'p': 0.3333333333333333, 'r': 0.2}, 'rouge-l': {'f': 0.5077658303464327, 'p': 0.7142857142857143, 'r': 0.45454545454545453}}]\n"
     ]
    }
   ],
   "source": [
    "from rouge import Rouge \n",
    "\n",
    "hypothesis = \"add a way to disable image detection\"\n",
    "\n",
    "reference = \"add a new property to disable detection of image stream files\"\n",
    "\n",
    "rouge = Rouge()\n",
    "scores = rouge.get_scores(hypothesis, reference)\n",
    "print(scores)"
   ]
  },
  {
   "cell_type": "code",
   "execution_count": 40,
   "metadata": {},
   "outputs": [
    {
     "name": "stdout",
     "output_type": "stream",
     "text": [
      "{'rouge-1': {'f': 0.6666666619135801, 'p': 0.8571428571428571, 'r': 0.5454545454545454}, 'rouge-2': {'f': 0.24999999531250006, 'p': 0.3333333333333333, 'r': 0.2}, 'rouge-l': {'f': 0.5077658303464327, 'p': 0.7142857142857143, 'r': 0.45454545454545453}}\n",
      "\n",
      "0.8571428571428571\n",
      "0.8571428571428571\n"
     ]
    }
   ],
   "source": [
    "rouge_1_p = 0\n",
    "rouge_1_r = 0\n",
    "rouge_1_f = 0\n",
    "\n",
    "rouge_2_p = 0\n",
    "rouge_2_r = 0\n",
    "rouge_2_f = 0\n",
    "\n",
    "rouge_l_p = 0\n",
    "rouge_l_r = 0\n",
    "rouge_l_f = 0\n",
    "\n",
    "for i in range(len(ref_title)):\n",
    "    rouge = Rouge()\n",
    "    scores = rouge.get_scores(gen_title[i], ref_title[i])\n",
    "    \n",
    "    rouge_1_p = rouge_1_p + scores['rouge-1']['p']\n",
    "    rouge_1_r = rouge_1_r + scores['rouge-1']['r']\n",
    "    rouge_1_f = rouge_1_f + scores['rouge-1']['f']\n",
    "\n",
    "    rouge_2_p = rouge_2_p + scores['rouge-2']['p']\n",
    "    rouge_2_r = rouge_2_r + scores['rouge-2']['r']\n",
    "    rouge_2_f = rouge_2_f + scores['rouge-2']['f']\n",
    "\n",
    "    rouge_l_p = rouge_l_p + scores['rouge-l']['p']\n",
    "    rouge_l_r = rouge_l_r + scores['rouge-l']['r']\n",
    "    rouge_l_f = rouge_l_f + scores['rouge-l']['f']"
   ]
  },
  {
   "cell_type": "code",
   "execution_count": 47,
   "metadata": {},
   "outputs": [],
   "source": [
    "rouge_1_p = rouge_1_p/len(ref_title)\n",
    "rouge_1_r = rouge_1_r/len(ref_title)\n",
    "rouge_1_f = rouge_1_f/len(ref_title)\n",
    "\n",
    "rouge_2_p = rouge_1_p/len(ref_title)\n",
    "rouge_2_r = rouge_1_r/len(ref_title)\n",
    "rouge_2_f = rouge_1_f/len(ref_title)\n",
    "\n",
    "rouge_l_p = rouge_1_p/len(ref_title)\n",
    "rouge_l_r = rouge_1_r/len(ref_title)\n",
    "rouge_l_f = rouge_1_f/len(ref_title)"
   ]
  },
  {
   "cell_type": "markdown",
   "metadata": {},
   "source": [
    "* True_Positive = R\n",
    "* False_Positive = 1-R\n"
   ]
  },
  {
   "cell_type": "code",
   "execution_count": null,
   "metadata": {},
   "outputs": [],
   "source": []
  }
 ],
 "metadata": {
  "kernelspec": {
   "display_name": "Python 3",
   "language": "python",
   "name": "python3"
  },
  "language_info": {
   "codemirror_mode": {
    "name": "ipython",
    "version": 3
   },
   "file_extension": ".py",
   "mimetype": "text/x-python",
   "name": "python",
   "nbconvert_exporter": "python",
   "pygments_lexer": "ipython3",
   "version": "3.6.7"
  }
 },
 "nbformat": 4,
 "nbformat_minor": 2
}
