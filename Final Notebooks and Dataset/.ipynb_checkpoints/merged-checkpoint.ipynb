{
 "cells": [
  {
   "cell_type": "markdown",
   "metadata": {
    "colab_type": "text",
    "id": "WF3Ht6CzRAaB",
    "toc": true
   },
   "source": [
    "# CE9010 Group Project: Github Issue Title Generation\n",
    "1. [Introduction](#introduction)\n",
    "2. [Step1: Identify data problem ](#step1)\n",
    "    * [Sub paragraph](#subparagraph1)\n",
    "3. [Step2: Data Acquisition](#step2)\n",
    "    * [Sub paragraph](#subparagraph1)\n",
    "4. [Step3: Data Exploration](#step3)\n",
    "5. [Step4: Data Pre-Processing](#step4)\n",
    "6. [Step5: Data Analysis](#step5)\n",
    "    * [Load issue body and issue title](#load_data)\n",
    "    * [Sequence to sequence model for text summarization](#model)\n",
    "      + [Encoder](#encoder)\n",
    "      + [Decoder](#decoder)\n",
    "      + [Model compilation](#compile)\n",
    "      + [Model architecture summary](#summary)\n",
    "      + [Model training](#train)\n",
    "     * [A few examples](#examples)\n",
    "     * [ROUGE scores](#ROUGE)\n",
    "6. [Step6: Hyper-Parameter Tuning](#step6)\n",
    "6. [Step7: Result Analysis](#step7)\n",
    "6. [Conclusion](#Conclusion)"
   ]
  },
  {
   "cell_type": "code",
   "execution_count": 0,
   "metadata": {
    "colab": {},
    "colab_type": "code",
    "id": "Q0HqWw57d2Mv"
   },
   "outputs": [],
   "source": [
    "# Note: \n",
    "# Install the libraries: \n",
    "# Machine Learning & Deep Learning: \n",
    "!pip install sklearn, pandas, keras, tensorflow\n",
    "\n",
    "# Data pre-processing. Note: ktext can only build with Python 3.6!\n",
    "!pip install ktext\n",
    "# Model Visualization\n",
    "!pip install pydot\n",
    "!pip install pydotplus\n",
    "!pip install graphviz\n",
    "!brew install graphviz\n",
    "\n"
   ]
  },
  {
   "cell_type": "markdown",
   "metadata": {
    "colab_type": "text",
    "id": "xENg5ULpYfz9"
   },
   "source": [
    "## Step1: Identify Data Problem<a name=\"step1\"></a>"
   ]
  },
  {
   "cell_type": "code",
   "execution_count": 0,
   "metadata": {
    "colab": {},
    "colab_type": "code",
    "id": "uCiSwevSRAaC"
   },
   "outputs": [],
   "source": [
    "import pandas as pd\n",
    "import logging\n",
    "import glob\n",
    "from sklearn.model_selection import train_test_split\n",
    "pd.set_option('display.max_colwidth', 500)\n",
    "logger = logging.getLogger()\n",
    "logger.setLevel(logging.WARNING)"
   ]
  },
  {
   "cell_type": "markdown",
   "metadata": {
    "colab_type": "text",
    "id": "S-VpHHP_z9sO"
   },
   "source": [
    "There are **2.5 quintillion** bytes of data created each day at our current pace, and one of the most valuable parts is the natural language part. Thousands of millions of text information is generated every second, including news articles, analysis reports, even your review on Yelp about a movie, or your review on IMDB regarding a movie. \n",
    "\n",
    "However, extracting useful information from these natural human languages has always been difficult since they can hardly be transformed into digital data or at least, they cannot be transformed in an efficient and informative way. \n",
    "\n",
    "Thankfully, Long Short-Term Memory algorithm which is a branch of natural language processing can mimic human recognition processes and effectively address the problem. \n",
    "\n",
    "In this project, we aim to use machines to summarise a piece of article. To put it simply, we would like to devise an algorithm that can generate a title for an essay, no matter in what language it is written,  no matter how long it is and no matter what genre it is.\n",
    "\n",
    "This application is profound and able to shape a better future for human beings. For example, it can make our communication efficient. People do not need to spend hours on thinking a proper title for their emails. Editors can also use the titles done by machines for references. More importantly, the researchers in academia could use this to read papers faster."
   ]
  },
  {
   "cell_type": "markdown",
   "metadata": {
    "colab_type": "text",
    "id": "Maun_qYcRAaF"
   },
   "source": [
    "## Step2: Data Acquisition<a name=\"step2\"></a>"
   ]
  },
  {
   "cell_type": "markdown",
   "metadata": {
    "colab_type": "text",
    "id": "9uZHy-OeRAaG"
   },
   "source": [
    "Look at filesystem to see files extracted from BigQuery (or Kaggle: https://www.kaggle.com/davidshinn/github-issues/)"
   ]
  },
  {
   "cell_type": "code",
   "execution_count": 0,
   "metadata": {
    "colab": {},
    "colab_type": "code",
    "id": "9tcupk2sRSil"
   },
   "outputs": [],
   "source": [
    "!ls -lah | grep github_issues.csv"
   ]
  },
  {
   "cell_type": "markdown",
   "metadata": {
    "colab_type": "text",
    "id": "Afss-qfTRAaJ"
   },
   "source": [
    "Split data into train and test set and preview data"
   ]
  },
  {
   "cell_type": "code",
   "execution_count": 6,
   "metadata": {
    "colab": {},
    "colab_type": "code",
    "id": "oEZf1xUVp10l"
   },
   "outputs": [],
   "source": [
    "import pandas as pd"
   ]
  },
  {
   "cell_type": "markdown",
   "metadata": {},
   "source": [
    "# Obtaining Github Issues"
   ]
  },
  {
   "cell_type": "code",
   "execution_count": 7,
   "metadata": {
    "colab": {},
    "colab_type": "code",
    "id": "9ZvFAJ0Yaprd"
   },
   "outputs": [],
   "source": [
    "GITHUB_TOKEN = '8c238857c68a2160ba6988889c2e85b4aee567cb'\n",
    "#A Github token can be obtained from https://github.com/settings/tokens/new"
   ]
  },
  {
   "cell_type": "code",
   "execution_count": 8,
   "metadata": {
    "colab": {},
    "colab_type": "code",
    "id": "bw8L4H_CZCoh"
   },
   "outputs": [],
   "source": [
    "import csv\n",
    "import requests\n",
    "\n",
    "params_payload = {'filter' : 'all', 'state' : 'open', 'type': 'issue' }\n",
    "\n",
    "def write_issues(response, csvout):\n",
    "    print (\"Writing %s issues\" % len(response.json()))\n",
    "    for issue in response.json():\n",
    "        labels = issue['labels']\n",
    "        label_string = ''\n",
    "        for label in labels:\n",
    "            label_string = \"%s, %s\" % (label_string, label['name'])\n",
    "        label_string = label_string[2:]\n",
    "\n",
    "        csvout.writerow([issue['number'], issue['title'], issue['body'], label_string, issue['created_at'], issue['updated_at']])\n",
    "        \n",
    "def get_issues(url):\n",
    "    kwargs = {\n",
    "        'headers': {\n",
    "            'Content-Type': 'application/vnd.github.v3.raw+json',\n",
    "            'User-Agent': 'GitHub issue exporter'\n",
    "        },\n",
    "        'params': params_payload\n",
    "    }\n",
    "    kwargs['headers']['Authorization'] = 'token %s' % GITHUB_TOKEN\n",
    "    \n",
    "    print (\"GET %s\" % url)\n",
    "    resp = requests.get(url, **kwargs)\n",
    "\n",
    "    if resp.status_code != 200:\n",
    "        raise Exception(resp.status_code)\n",
    "\n",
    "    return resp\n",
    "\n",
    "\n",
    "def next_page(response):\n",
    "    if 'link' in response.headers:\n",
    "        pages = dict(\n",
    "            [(rel[6:-1], url[url.index('<')+1:-1]) for url, rel in\n",
    "                [link.split(';') for link in\n",
    "                    response.headers['link'].split(',')]])\n",
    "        if 'last' in pages and 'next' in pages:\n",
    "            return pages['next']\n",
    "    return None\n",
    "\n",
    "\n",
    "def process(csvout, url):\n",
    "    resp = get_issues(url)\n",
    "    write_issues(resp, csvout)\n",
    "    next_ = next_page(resp)\n",
    "    if next_ is not None:\n",
    "        process(csvout, next_)\n",
    "\n",
    "\n",
    "def run_data_scraper(url):\n",
    "    csvfile = '%s-issues.csv' % (REPO.replace('/', '-'))\n",
    "    with open(csvfile, 'w') as f:\n",
    "        csvout = csv.writer(f)\n",
    "        csvout.writerow(('id', 'Title', 'Body', 'Labels', 'Created At', 'Updated At'))\n",
    "        process(csvout, url)"
   ]
  },
  {
   "cell_type": "code",
   "execution_count": 9,
   "metadata": {
    "colab": {},
    "colab_type": "code",
    "id": "UwIzo5iopNMV"
   },
   "outputs": [],
   "source": [
    "import csv\n",
    "import requests\n",
    "\n",
    "params_payload = {'filter' : 'all', 'state' : 'open', 'type': 'issue' }\n",
    "\n",
    "def write_issues(response, csvout):\n",
    "    print (\"Writing %s issues\" % len(response.json()))\n",
    "    for issue in response.json():\n",
    "        labels = issue['labels']\n",
    "        label_string = ''\n",
    "        for label in labels:\n",
    "            label_string = \"%s, %s\" % (label_string, label['name'])\n",
    "        label_string = label_string[2:]\n",
    "\n",
    "        csvout.writerow([issue['title'], issue['body']])\n",
    "        \n",
    "def get_issues(url):\n",
    "    kwargs = {\n",
    "        'headers': {\n",
    "            'Content-Type': 'application/vnd.github.v3.raw+json',\n",
    "            'User-Agent': 'GitHub issue exporter'\n",
    "        },\n",
    "        'params': params_payload\n",
    "    }\n",
    "    kwargs['headers']['Authorization'] = 'token %s' % GITHUB_TOKEN\n",
    "    \n",
    "    print (\"GET %s\" % url)\n",
    "    resp = requests.get(url, **kwargs)\n",
    "\n",
    "    if resp.status_code != 200:\n",
    "        raise Exception(resp.status_code)\n",
    "\n",
    "    return resp\n",
    "\n",
    "\n",
    "def next_page(response):\n",
    "    if 'link' in response.headers:\n",
    "        pages = dict(\n",
    "            [(rel[6:-1], url[url.index('<')+1:-1]) for url, rel in\n",
    "                [link.split(';') for link in\n",
    "                    response.headers['link'].split(',')]])\n",
    "        if 'last' in pages and 'next' in pages:\n",
    "            return pages['next']\n",
    "    return None\n",
    "\n",
    "\n",
    "def process(csvout, url):\n",
    "    resp = get_issues(url)\n",
    "    write_issues(resp, csvout)\n",
    "    next_ = next_page(resp)\n",
    "    if next_ is not None:\n",
    "        process(csvout, next_)\n",
    "\n",
    "\n",
    "def run_data_scraper(url):\n",
    "    csvfile = '%s-issues.csv' % (REPO.replace('/', '-'))\n",
    "    with open(csvfile, 'w') as f:\n",
    "        csvout = csv.writer(f)\n",
    "        csvout.writerow(('issue_title', 'body'))\n",
    "        process(csvout, url)"
   ]
  },
  {
   "cell_type": "code",
   "execution_count": 10,
   "metadata": {
    "colab": {
     "base_uri": "https://localhost:8080/",
     "height": 295
    },
    "colab_type": "code",
    "id": "RwYE6rKcaKai",
    "outputId": "aad934d8-aa3f-49d6-829c-7bdb286d9e30"
   },
   "outputs": [
    {
     "name": "stdout",
     "output_type": "stream",
     "text": [
      "GET https://api.github.com/repos/github/hub/issues\n",
      "Writing 30 issues\n",
      "GET https://api.github.com/repositories/401025/issues?filter=all&state=open&type=issue&page=2\n",
      "Writing 30 issues\n",
      "GET https://api.github.com/repositories/401025/issues?filter=all&state=open&type=issue&page=3\n",
      "Writing 30 issues\n",
      "GET https://api.github.com/repositories/401025/issues?filter=all&state=open&type=issue&page=4\n",
      "Writing 30 issues\n",
      "GET https://api.github.com/repositories/401025/issues?filter=all&state=open&type=issue&page=5\n",
      "Writing 30 issues\n",
      "GET https://api.github.com/repositories/401025/issues?filter=all&state=open&type=issue&page=6\n",
      "Writing 30 issues\n",
      "GET https://api.github.com/repositories/401025/issues?filter=all&state=open&type=issue&page=7\n",
      "Writing 7 issues\n"
     ]
    }
   ],
   "source": [
    "REPO = 'github/hub'  #format is username/repo e.g. 'github/hub'\n",
    "URL_ISSUES = 'https://api.github.com/repos/%s/issues' % REPO\n",
    "\n",
    "run_data_scraper(URL_ISSUES)"
   ]
  },
  {
   "cell_type": "code",
   "execution_count": 11,
   "metadata": {
    "colab": {
     "base_uri": "https://localhost:8080/",
     "height": 748
    },
    "colab_type": "code",
    "id": "jyfoJXVunojb",
    "outputId": "ad196000-9bf8-4d1c-92ba-5710a1dcdfb9"
   },
   "outputs": [
    {
     "data": {
      "text/html": [
       "<div>\n",
       "<style scoped>\n",
       "    .dataframe tbody tr th:only-of-type {\n",
       "        vertical-align: middle;\n",
       "    }\n",
       "\n",
       "    .dataframe tbody tr th {\n",
       "        vertical-align: top;\n",
       "    }\n",
       "\n",
       "    .dataframe thead th {\n",
       "        text-align: right;\n",
       "    }\n",
       "</style>\n",
       "<table border=\"1\" class=\"dataframe\">\n",
       "  <thead>\n",
       "    <tr style=\"text-align: right;\">\n",
       "      <th></th>\n",
       "      <th>issue_title</th>\n",
       "      <th>body</th>\n",
       "    </tr>\n",
       "  </thead>\n",
       "  <tbody>\n",
       "    <tr>\n",
       "      <th>182</th>\n",
       "      <td>Fork and clone in one command</td>\n",
       "      <td>Examples:\\n\\n```\\nhub clone -f user/repo\\nhub ...</td>\n",
       "    </tr>\n",
       "    <tr>\n",
       "      <th>111</th>\n",
       "      <td>Support for no_proxy environment variable</td>\n",
       "      <td>It looks like https://github.com/github/hub/bl...</td>\n",
       "    </tr>\n",
       "    <tr>\n",
       "      <th>105</th>\n",
       "      <td>no output for `hub` commands in linux subsyste...</td>\n",
       "      <td>For some reason I'm not seeing any output from...</td>\n",
       "    </tr>\n",
       "    <tr>\n",
       "      <th>175</th>\n",
       "      <td>Enhance ci-status</td>\n",
       "      <td>- Get rid of `-v` switch, should be default\\n-...</td>\n",
       "    </tr>\n",
       "    <tr>\n",
       "      <th>168</th>\n",
       "      <td>Would like to open user page</td>\n",
       "      <td>I thought this command, `hub browse camelmasa`...</td>\n",
       "    </tr>\n",
       "  </tbody>\n",
       "</table>\n",
       "</div>"
      ],
      "text/plain": [
       "                                           issue_title  \\\n",
       "182                      Fork and clone in one command   \n",
       "111          Support for no_proxy environment variable   \n",
       "105  no output for `hub` commands in linux subsyste...   \n",
       "175                                  Enhance ci-status   \n",
       "168                       Would like to open user page   \n",
       "\n",
       "                                                  body  \n",
       "182  Examples:\\n\\n```\\nhub clone -f user/repo\\nhub ...  \n",
       "111  It looks like https://github.com/github/hub/bl...  \n",
       "105  For some reason I'm not seeing any output from...  \n",
       "175  - Get rid of `-v` switch, should be default\\n-...  \n",
       "168  I thought this command, `hub browse camelmasa`...  "
      ]
     },
     "execution_count": 11,
     "metadata": {},
     "output_type": "execute_result"
    }
   ],
   "source": [
    "df = pd.read_csv('github-hub-issues.csv')\n",
    "df.sample(5)"
   ]
  },
  {
   "cell_type": "markdown",
   "metadata": {
    "colab_type": "text",
    "id": "Y6vJlGj-YBWP"
   },
   "source": [
    "## Obtaining Dataset from Google Drive (provided in Kaggle)\n",
    "However, since the problem set found in Kaggle already provided a cleaned and substantial dataset, we have proceed to use this instead due to computational and timing limitations. The dataset can be found [here](https://drive.google.com/open?id=1FdLlJ1RB77dF4kSzSWF9WXmoDZx5bdPL).\n",
    "\n",
    "The following code reads the data uploaded in a Google Drive file."
   ]
  },
  {
   "cell_type": "code",
   "execution_count": 13,
   "metadata": {
    "colab": {},
    "colab_type": "code",
    "id": "67yNuG1fReHz"
   },
   "outputs": [],
   "source": [
    "# !pip install -U -q PyDrive\n",
    "# from pydrive.auth import GoogleAuth\n",
    "# from pydrive.drive import GoogleDrive\n",
    "# from google.colab import auth\n",
    "# from oauth2client.client import GoogleCredentials\n",
    "# # Authenticate and create the PyDrive client.\n",
    "# auth.authenticate_user()\n",
    "# gauth = GoogleAuth()\n",
    "# gauth.credentials = GoogleCredentials.get_application_default()\n",
    "# drive = GoogleDrive(gauth)"
   ]
  },
  {
   "cell_type": "code",
   "execution_count": 14,
   "metadata": {
    "colab": {},
    "colab_type": "code",
    "id": "ouzdqqd5RkM3"
   },
   "outputs": [],
   "source": [
    "import pandas as pd\n",
    "import logging\n",
    "import glob\n",
    "pd.set_option('display.max_colwidth', 500)\n",
    "logger = logging.getLogger()\n",
    "logger.setLevel(logging.WARNING)\n",
    "\n",
    "# link = 'https://drive.google.com/open?id=1FdLlJ1RB77dF4kSzSWF9WXmoDZx5bdPL'\n",
    "# fluff, id = link.split('=')\n",
    "\n",
    "# downloaded = drive.CreateFile({'id':id}) \n",
    "# downloaded.GetContentFile('github_issues.csv')  \n",
    "\n",
    "df = pd.read_csv('github_issues.csv')\n",
    "\n",
    "# Dataset is now stored in a Pandas Dataframe"
   ]
  },
  {
   "cell_type": "code",
   "execution_count": 15,
   "metadata": {
    "colab": {
     "base_uri": "https://localhost:8080/",
     "height": 51
    },
    "colab_type": "code",
    "id": "-lTc0dQPUwzP",
    "outputId": "5feed593-daa9-4a43-e1c5-1d0525bb9a04"
   },
   "outputs": [
    {
     "name": "stdout",
     "output_type": "stream",
     "text": [
      "Number of data rows: 5332153\n",
      "Data headers: ['issue_url', 'issue_title', 'body']\n"
     ]
    }
   ],
   "source": [
    "print(\"Number of data rows:\",df.shape[0])\n",
    "print(\"Data headers:\", df.columns.tolist())"
   ]
  },
  {
   "cell_type": "code",
   "execution_count": 16,
   "metadata": {
    "colab": {
     "base_uri": "https://localhost:8080/",
     "height": 1000
    },
    "colab_type": "code",
    "id": "eSs6GmbrVB-A",
    "outputId": "30c7160c-1340-4157-f3ba-75f6d991ad8d"
   },
   "outputs": [
    {
     "data": {
      "text/html": [
       "<div>\n",
       "<style scoped>\n",
       "    .dataframe tbody tr th:only-of-type {\n",
       "        vertical-align: middle;\n",
       "    }\n",
       "\n",
       "    .dataframe tbody tr th {\n",
       "        vertical-align: top;\n",
       "    }\n",
       "\n",
       "    .dataframe thead th {\n",
       "        text-align: right;\n",
       "    }\n",
       "</style>\n",
       "<table border=\"1\" class=\"dataframe\">\n",
       "  <thead>\n",
       "    <tr style=\"text-align: right;\">\n",
       "      <th></th>\n",
       "      <th>issue_url</th>\n",
       "      <th>issue_title</th>\n",
       "      <th>body</th>\n",
       "    </tr>\n",
       "  </thead>\n",
       "  <tbody>\n",
       "    <tr>\n",
       "      <th>4369945</th>\n",
       "      <td>\"https://github.com/hihi-2017/hihi-2017/issues/2207\"</td>\n",
       "      <td>5.6 cultural blog ~ 1.5 hrs</td>\n",
       "      <td>5.6 cultural blog ~ 1.5 hrs this assignment might require you to use an app that can read .epub format e-books. you can download the e-book to read on your local epub reader or use an free online reader. &gt; it takes profound self-confidence to be humble enough to recognize your own limitations without self-blame. - norman fischer - start toggl. write the blog post - create a new blog post username.github.io/blogs/c5-self-confidence.html .\\n- read or watch chapter 4 of search inside yourself h...</td>\n",
       "    </tr>\n",
       "    <tr>\n",
       "      <th>3427191</th>\n",
       "      <td>\"https://github.com/tmbdev/ocropy/issues/203\"</td>\n",
       "      <td>ocropus-hocr without recognized text</td>\n",
       "      <td>it should be possible to run ocropus-hocr without any recognized text just based on the page segmentationen. i suggest to add this possibility with some parameter.</td>\n",
       "    </tr>\n",
       "    <tr>\n",
       "      <th>3717733</th>\n",
       "      <td>\"https://github.com/analytics-ufcg/licitacoes-pb/issues/37\"</td>\n",
       "      <td>em distribuição geográfica dos licitantes de merenda por grupo conferir que isso é verdade</td>\n",
       "      <td>vento todos os grupos, é difícil avaliar se os licitantes de cada grupo não estão concentrados em diferentes partes do estado. precisamos conferir com um plot que permita isso. sugiro um plot do estado da pb por grupo de licitantes.</td>\n",
       "    </tr>\n",
       "    <tr>\n",
       "      <th>1066215</th>\n",
       "      <td>\"https://github.com/dalaranwow/dalaran-wow/issues/5169\"</td>\n",
       "      <td>lay on hands</td>\n",
       "      <td>// : information about tags // : the black and yellow tag is unique. there can only be one label assigned to them - one black and one yellow // : priority - ... tags are assigned by team members // : your issue will be reviewed by testers and the developers will fix it in the future. // : only once the issue got the label fixed - on live server you can find the fix on your gameserver. // : you can increase the relevance of your issue by adding a thumb-up emote http://i.imgur.com/rfouvvi.png ...</td>\n",
       "    </tr>\n",
       "    <tr>\n",
       "      <th>5199083</th>\n",
       "      <td>\"https://github.com/linuxdeepin/developer-center/issues/370\"</td>\n",
       "      <td>menu use more ram than everything loaded after startup</td>\n",
       "      <td>i restarted a system and see this in terminal. deepin-menu use more ram resources than deepin-terminal itself and more than everything else. something wrong with that app ! deepinscreenshot https://user-images.githubusercontent.com/7953703/31584439-6748757e-b1b7-11e7-82fd-4a91d16e2167.png</td>\n",
       "    </tr>\n",
       "  </tbody>\n",
       "</table>\n",
       "</div>"
      ],
      "text/plain": [
       "                                                            issue_url  \\\n",
       "4369945          \"https://github.com/hihi-2017/hihi-2017/issues/2207\"   \n",
       "3427191                 \"https://github.com/tmbdev/ocropy/issues/203\"   \n",
       "3717733   \"https://github.com/analytics-ufcg/licitacoes-pb/issues/37\"   \n",
       "1066215       \"https://github.com/dalaranwow/dalaran-wow/issues/5169\"   \n",
       "5199083  \"https://github.com/linuxdeepin/developer-center/issues/370\"   \n",
       "\n",
       "                                                                                        issue_title  \\\n",
       "4369945                                                                 5.6 cultural blog ~ 1.5 hrs   \n",
       "3427191                                                        ocropus-hocr without recognized text   \n",
       "3717733  em distribuição geográfica dos licitantes de merenda por grupo conferir que isso é verdade   \n",
       "1066215                                                                                lay on hands   \n",
       "5199083                                      menu use more ram than everything loaded after startup   \n",
       "\n",
       "                                                                                                                                                                                                                                                                                                                                                                                                                                                                                                                        body  \n",
       "4369945  5.6 cultural blog ~ 1.5 hrs this assignment might require you to use an app that can read .epub format e-books. you can download the e-book to read on your local epub reader or use an free online reader. > it takes profound self-confidence to be humble enough to recognize your own limitations without self-blame. - norman fischer - start toggl. write the blog post - create a new blog post username.github.io/blogs/c5-self-confidence.html .\\n- read or watch chapter 4 of search inside yourself h...  \n",
       "3427191                                                                                                                                                                                                                                                                                                                                                  it should be possible to run ocropus-hocr without any recognized text just based on the page segmentationen. i suggest to add this possibility with some parameter.  \n",
       "3717733                                                                                                                                                                                                                                                                             vento todos os grupos, é difícil avaliar se os licitantes de cada grupo não estão concentrados em diferentes partes do estado. precisamos conferir com um plot que permita isso. sugiro um plot do estado da pb por grupo de licitantes.  \n",
       "1066215  // : information about tags // : the black and yellow tag is unique. there can only be one label assigned to them - one black and one yellow // : priority - ... tags are assigned by team members // : your issue will be reviewed by testers and the developers will fix it in the future. // : only once the issue got the label fixed - on live server you can find the fix on your gameserver. // : you can increase the relevance of your issue by adding a thumb-up emote http://i.imgur.com/rfouvvi.png ...  \n",
       "5199083                                                                                                                                                                                                                    i restarted a system and see this in terminal. deepin-menu use more ram resources than deepin-terminal itself and more than everything else. something wrong with that app ! deepinscreenshot https://user-images.githubusercontent.com/7953703/31584439-6748757e-b1b7-11e7-82fd-4a91d16e2167.png  "
      ]
     },
     "execution_count": 16,
     "metadata": {},
     "output_type": "execute_result"
    }
   ],
   "source": [
    "df.sample(5)"
   ]
  },
  {
   "cell_type": "markdown",
   "metadata": {
    "colab_type": "text",
    "id": "9TO0NF04TBBn"
   },
   "source": [
    "#3. Data Exploration\n",
    "In this part of our project, we will be visualizing our data to get a better understanding of our dataset. Since our data involves texts, this greatly limits the possible visualization techniques which we can perform. \n",
    "\n",
    "## Data Pre-processing\n",
    "To get a more accurate representation of our data, we will be performing some pre-processing of the data which includes:\n",
    "1. Tokenization\n",
    "2. Removing of non-words (e.g. emojis)\n",
    "3. Removing of stop-words\n",
    "4. Stemming\n",
    "5. Rejoining sentences\n"
   ]
  },
  {
   "cell_type": "code",
   "execution_count": 17,
   "metadata": {
    "colab": {
     "base_uri": "https://localhost:8080/",
     "height": 102
    },
    "colab_type": "code",
    "id": "ufLcHaOcVKG_",
    "outputId": "26df6edf-3deb-48dd-ff0d-ea57bcc6d33a"
   },
   "outputs": [
    {
     "name": "stderr",
     "output_type": "stream",
     "text": [
      "Using TensorFlow backend.\n",
      "[nltk_data] Downloading package stopwords to\n",
      "[nltk_data]     /Users/shirley/nltk_data...\n",
      "[nltk_data]   Package stopwords is already up-to-date!\n",
      "[nltk_data] Downloading package punkt to /Users/shirley/nltk_data...\n",
      "[nltk_data]   Package punkt is already up-to-date!\n"
     ]
    },
    {
     "data": {
      "text/plain": [
       "True"
      ]
     },
     "execution_count": 17,
     "metadata": {},
     "output_type": "execute_result"
    }
   ],
   "source": [
    "from keras.preprocessing.text import Tokenizer\n",
    "from keras.preprocessing.sequence import pad_sequences\n",
    "from keras.layers import *\n",
    "from keras.models import Model\n",
    "from os import listdir\n",
    "import string\n",
    "import nltk\n",
    "from nltk.tokenize import word_tokenize\n",
    "from nltk.stem import PorterStemmer\n",
    "from nltk.corpus import stopwords\n",
    "nltk.download('stopwords')\n",
    "nltk.download('punkt')\n"
   ]
  },
  {
   "cell_type": "code",
   "execution_count": 18,
   "metadata": {
    "colab": {},
    "colab_type": "code",
    "id": "USGXemrkWCq6"
   },
   "outputs": [],
   "source": [
    "#obtain a sample of df\n",
    "#we will be obtaining a sample of the dataset to reduce runtime\n",
    "sample_size = 100\n",
    "\n",
    "df_sample = df.sample(sample_size)\n",
    "\n",
    "title_raw = df_sample['issue_title'].tolist()\n",
    "body_raw = df_sample['body'].tolist()\n",
    "\n",
    "#tokenization\n",
    "title_token = [word_tokenize(x) for x in title_raw]\n",
    "body_token = [word_tokenize(x) for x in body_raw]\n",
    "\n",
    "#clean up \n",
    "i = 0\n",
    "title_clean = [None]*len(title_token)\n",
    "for x in title_token:\n",
    "    title_clean[i] = [y for y in x if y.isalpha()]\n",
    "    i = i+1\n",
    "\n",
    "i = 0    \n",
    "body_clean = [None]*len(body_token)\n",
    "for x in body_token:\n",
    "    body_clean[i] = [y for y in x if y.isalpha()]\n",
    "    i = i+1\n",
    "    \n",
    "#remove stop words\n",
    "i = 0\n",
    "title_filtered = [None]*len(title_token)\n",
    "for x in title_clean:\n",
    "    title_filtered[i] = [y for y in x if y not in stopwords.words()]\n",
    "    i = i+1\n",
    "\n",
    "i = 0    \n",
    "body_filtered = [None]*len(body_token)\n",
    "for x in body_clean:\n",
    "    body_filtered[i] = [y for y in x if y not in stopwords.words()]\n",
    "    i = i+1\n",
    "    \n",
    "#stemming\n",
    "stemmer = PorterStemmer()\n",
    "\n",
    "i = 0\n",
    "title_stemmed = [None]*len(title_token)\n",
    "for x in title_filtered:\n",
    "    title_stemmed[i] = [stemmer.stem(y) for y in x]\n",
    "    i = i+1\n",
    "\n",
    "i = 0    \n",
    "body_stemmed = [None]*len(body_token)\n",
    "for x in body_filtered:\n",
    "    body_stemmed[i] = [stemmer.stem(y) for y in x]\n",
    "    i = i+1\n",
    "    \n",
    "#join sentence\n",
    "i = 0\n",
    "title_final = ['']*len(title_token)\n",
    "for x in title_stemmed:\n",
    "    title_final[i]= title_final[i] + ' ' + ' '.join(x)\n",
    "    i = i+1\n",
    "\n",
    "i = 0    \n",
    "body_final = ['']*len(body_token)\n",
    "for x in body_stemmed:\n",
    "    body_final[i]= body_final[i] + ' ' + ' '.join(x)\n",
    "    i = i+1"
   ]
  },
  {
   "cell_type": "code",
   "execution_count": 19,
   "metadata": {
    "colab": {
     "base_uri": "https://localhost:8080/",
     "height": 239
    },
    "colab_type": "code",
    "id": "jhZnOFpSs9rD",
    "outputId": "17627d01-c37e-4f4f-8a79-7a3f72bf209c"
   },
   "outputs": [
    {
     "name": "stdout",
     "output_type": "stream",
     "text": [
      "\u001b[1m============== SAMPLE # 73  =================\u001b[0m\n",
      "Title before clean up: col and row in nggriditem getting by the angular-grid.\n",
      "Title after clean up:  row nggriditem get\n",
      "\n",
      "Body before clean up: is there a way to disable change in col and row. i'm trying to set the col and row values with is getting overwritten by angular2-grid module. can you please suggest me a way to fully control col and row values. thanks, shiraz\n",
      "Body after clean up:  way disabl chang row tri set row valu get overwritten modul pleas suggest way fulli control row valu thank shiraz\n"
     ]
    }
   ],
   "source": [
    "import random\n",
    "issue_number = random.randint(1,sample_size)\n",
    "\n",
    "print(\"\\033[1m\"+\"============== SAMPLE #\",issue_number,\" =================\"+\"\\033[0m\")\n",
    "\n",
    "print(\"Title before clean up:\", title_raw[issue_number])\n",
    "print(\"Title after clean up:\", title_final[issue_number])\n",
    "print()\n",
    "print(\"Body before clean up:\", body_raw[issue_number])\n",
    "print(\"Body after clean up:\", body_final[issue_number])"
   ]
  },
  {
   "cell_type": "markdown",
   "metadata": {
    "colab_type": "text",
    "id": "wDhC-q2ZvWHx"
   },
   "source": [
    "## Data Visualization using Word Cloud and Bar Chart\n",
    "We performed a simple visualization of the frequency of the words in both the **Title** and **Body** to give us a better understand of the relationship between the input and expected output of our model. This is done through the use of a *Word Cloud* and a *Bar Chart*."
   ]
  },
  {
   "cell_type": "code",
   "execution_count": 3,
   "metadata": {},
   "outputs": [],
   "source": [
    "# !pip install wordcloud"
   ]
  },
  {
   "cell_type": "code",
   "execution_count": 24,
   "metadata": {
    "colab": {},
    "colab_type": "code",
    "id": "QlfolxM-f3WB"
   },
   "outputs": [],
   "source": [
    "import re\n",
    "from wordcloud import WordCloud\n",
    "import matplotlib.pyplot as plt\n",
    "\n",
    "from collections import Counter\n",
    "\n",
    "import random\n",
    "\n",
    "import matplotlib.style as style\n",
    "style.use('dark_background')"
   ]
  },
  {
   "cell_type": "code",
   "execution_count": 25,
   "metadata": {
    "colab": {
     "base_uri": "https://localhost:8080/",
     "height": 583
    },
    "colab_type": "code",
    "id": "C1KZ2wyHd1sk",
    "outputId": "2481b87d-d243-4a14-b128-b4aeb17951ac"
   },
   "outputs": [
    {
     "name": "stdout",
     "output_type": "stream",
     "text": [
      "\u001b[1m============== SAMPLE # 85  =================\u001b[0m\n",
      "\u001b[1mTitle: \u001b[0mlint scripts in git hook.\n",
      "\u001b[1mBody: \u001b[0mshellcheck seems to do the job and it would probably be in a pre-commit hook. need to work out how to get the git hook installed across all dev machines.\n",
      "==============================================================================================\n"
     ]
    },
    {
     "data": {
      "image/png": "[encoded data removed]",
      "text/plain": [
       "<Figure size 864x432 with 4 Axes>"
      ]
     },
     "metadata": {
      "needs_background": "dark"
     },
     "output_type": "display_data"
    }
   ],
   "source": [
    "issue_number = random.randint(1,sample_size)\n",
    "print(\"\\033[1m\"+\"============== SAMPLE #\",issue_number,\" =================\"+\"\\033[0m\")\n",
    "print(\"\\033[1m\"+\"Title: \"+\"\\033[0m\" + title_raw[issue_number])\n",
    "print(\"\\033[1m\"+\"Body: \"+\"\\033[0m\" + body_raw[issue_number])\n",
    "print(\"==============================================================================================\")\n",
    "image_story = WordCloud(width= 800,\n",
    "                  height= 800,\n",
    "                  background_color='black',\n",
    "                  max_words=20).generate(title_final[issue_number])\n",
    "\n",
    "image_highlight = WordCloud(width= 800,\n",
    "                  height= 800,\n",
    "                  background_color='black',\n",
    "                  max_words=20).generate(body_final[issue_number])\n",
    "\n",
    "plt.figure(figsize=(12,6))\n",
    "\n",
    "plt.subplot(2, 2, 1).set_title(\"Title\",fontsize=20)\n",
    "plt.imshow(image_story)\n",
    "plt.axis(\"off\")\n",
    "\n",
    "plt.subplot(2, 2, 2).set_title(\"Body\",fontsize=20)\n",
    "plt.imshow(image_highlight)\n",
    "plt.axis(\"off\")\n",
    "\n",
    "plt.subplot(2, 2, 3).set_title(\"Title\",fontsize=20)\n",
    "counts = Counter(title_final[issue_number].split()) \n",
    "labels, values = zip(*counts.items())\n",
    "indSort = np.argsort(values)[::-1]\n",
    "labels = np.array(labels)[indSort][:8]\n",
    "values = np.array(values)[indSort][:8]\n",
    "indexes = np.arange(len(labels))\n",
    "bar_width = 0\n",
    "plt.bar(indexes, values)\n",
    "plt.xticks(indexes + bar_width, labels)\n",
    "\n",
    "plt.subplot(2, 2, 4).set_title(\"Body\",fontsize=20)\n",
    "counts = Counter(body_final[issue_number].split())\n",
    "labels, values = zip(*counts.items())\n",
    "indSort = np.argsort(values)[::-1]\n",
    "labels = np.array(labels)[indSort][:8]\n",
    "values = np.array(values)[indSort][:8]\n",
    "indexes = np.arange(len(labels))\n",
    "bar_width = 0\n",
    "plt.bar(indexes, values)\n",
    "plt.xticks(indexes + bar_width, labels)\n",
    "\n",
    "plt.show()\n",
    "\n"
   ]
  },
  {
   "cell_type": "markdown",
   "metadata": {
    "colab_type": "text",
    "id": "KAC0yD3wxKvr"
   },
   "source": [
    "The above example gives us an understanding of the data we have at hand. The Title and Body bears little resembelence in terms of the frequency of words observed. In order words, to predict the Title of a Body would involve more sophisticated measures on top of just looking at the most frequent words."
   ]
  },
  {
   "cell_type": "markdown",
   "metadata": {
    "colab_type": "text",
    "id": "bYTjMFG4iOZ8"
   },
   "source": [
    "## Dynamic Visualization of Topics using pyLDAvis\n",
    "To give us a greater understanding of our dataset, we did some Topic Modelling to identify some of the key topics in the large amount of text that we have. We have compiled a list of Bodys from a sample dataset and utilized the Latent Dirichlet Allocation (LDA) technique to help us identify important topics. We then used pyLDAvis to provide a dynamic visualization of the results. \n",
    "\n",
    "pyLDAvis is designed to help users interpret the topics in a topic model that has been fit to a corpus of text data. The package extracts information from a fitted LDA topic model to inform an interactive web-based visualization.\n",
    "\n",
    "We have used this notebook as our reference to assist us in generating this visualization and understanding this new concept to us:\n",
    "https://github.com/IBM/text-summarization-and-visualization-using-watson-studio/blob/master/notebook/Text_Summarize_and_Visualize.ipynb"
   ]
  },
  {
   "cell_type": "code",
   "execution_count": 1,
   "metadata": {
    "colab": {},
    "colab_type": "code",
    "id": "pg8GfqXWiUm2"
   },
   "outputs": [],
   "source": [
    "# !pip install gensim"
   ]
  },
  {
   "cell_type": "code",
   "execution_count": 2,
   "metadata": {
    "colab": {},
    "colab_type": "code",
    "id": "vrU_v6NuicCZ"
   },
   "outputs": [],
   "source": [
    "# !pip install pyldavis"
   ]
  },
  {
   "cell_type": "code",
   "execution_count": 28,
   "metadata": {
    "colab": {},
    "colab_type": "code",
    "id": "urKW9dfaicI2"
   },
   "outputs": [],
   "source": [
    "from gensim.summarization.summarizer import summarize\n",
    "from gensim.summarization import keywords\n",
    "#import watson_developer_cloud\n",
    "#import ibm_boto3\n",
    "from botocore.client import Config\n",
    "from nltk.tokenize import word_tokenize\n",
    "from nltk.corpus import stopwords\n",
    "from nltk.stem.wordnet import WordNetLemmatizer\n",
    "import string\n",
    "import gensim\n",
    "import gensim.corpora as corpora\n",
    "from gensim.utils import simple_preprocess\n",
    "from gensim.models import CoherenceModel\n",
    "import pyLDAvis\n",
    "import pyLDAvis.gensim  \n",
    "import matplotlib.pyplot as plt\n",
    "%matplotlib inline\n",
    "import warnings\n",
    "warnings.filterwarnings(\"ignore\")\n",
    "import urllib\n",
    "from bs4 import BeautifulSoup\n",
    "import requests\n",
    "import nltk\n",
    "#nltk.download('all')"
   ]
  },
  {
   "cell_type": "code",
   "execution_count": 29,
   "metadata": {
    "colab": {},
    "colab_type": "code",
    "id": "ULuSssUl1jKy"
   },
   "outputs": [],
   "source": [
    "'''Get the summary of the text'''\n",
    "\n",
    "def get_summary(text, pct):\n",
    "    summary = summarize(text,ratio=pct,split=True)\n",
    "    return summary\n",
    "\n",
    "'''Get the keywords of the text'''\n",
    "\n",
    "def get_keywords(text):\n",
    "    res = keywords(text, ratio=0.1, words=None, split=False, scores=False, pos_filter=('NN', 'JJ'), lemmatize=False, deacc=False)\n",
    "    res = res.split('\\n')\n",
    "    return res\n",
    "\n",
    "'''Tokenize the sentence into words & remove punctuation'''\n",
    "\n",
    "def sent_to_words(sentences):\n",
    "    for sentence in sentences:\n",
    "        yield(gensim.utils.simple_preprocess(str(sentence), deacc=True))\n",
    "        \n",
    "def split_sentences(text):\n",
    "    \"\"\" Split text into sentences.\n",
    "    \"\"\"\n",
    "    sentence_delimiters = re.compile(u'[\\\\[\\\\]\\n.!?]')\n",
    "    sentences = sentence_delimiters.split(text)\n",
    "    return sentences\n",
    "\n",
    "def split_into_tokens(text):\n",
    "    \"\"\" Split text into tokens.\n",
    "    \"\"\"\n",
    "    tokens = nltk.word_tokenize(text)\n",
    "    return tokens\n",
    "    \n",
    "def POS_tagging(text):\n",
    "    \"\"\" Generate Part of speech tagging of the text.\n",
    "    \"\"\"\n",
    "    POSofText = nltk.tag.pos_tag(text)\n",
    "    return POSofText\n",
    "\n",
    "def extract_title_text(url):\n",
    "    page = urllib.request.urlopen(url).read().decode('utf8')\n",
    "    soup = BeautifulSoup(page,'lxml')\n",
    "    text = ' '.join(map(lambda p: p.text, soup.find_all('p')))\n",
    "    return soup.title.text, text"
   ]
  },
  {
   "cell_type": "code",
   "execution_count": 30,
   "metadata": {
    "colab": {},
    "colab_type": "code",
    "id": "ccoSdEAEzuhb"
   },
   "outputs": [],
   "source": [
    "#compile a sample size of Body and perform cleaning up of data\n",
    "\n",
    "sample_size = 100\n",
    "df_sample = df.sample(sample_size)\n",
    "\n",
    "text = ''\n",
    "for x in df_sample['body']:\n",
    "  text = text + ' ' + x\n",
    "\n",
    "import re\n",
    "my_new_text = re.sub('[^ a-zA-Z0-9]', '', text)\n",
    "\n",
    "stop_words = set(stopwords.words('english'))\n",
    "lemma = WordNetLemmatizer()\n",
    "word_tokens = word_tokenize(str(my_new_text)) \n",
    "filtered_sentence = [w for w in word_tokens if not w in stop_words]\n",
    "normalized = \" \".join(lemma.lemmatize(word) for word in filtered_sentence)"
   ]
  },
  {
   "cell_type": "code",
   "execution_count": 31,
   "metadata": {
    "colab": {
     "base_uri": "https://localhost:8080/",
     "height": 170
    },
    "colab_type": "code",
    "id": "x2EocyynC_Fz",
    "outputId": "ea7948b8-0433-4551-eab4-b60ae93d3657"
   },
   "outputs": [
    {
     "name": "stdout",
     "output_type": "stream",
     "text": [
      "1 was found 26 times\n",
      "get was found 23 times\n",
      "value was found 25 times\n",
      "file was found 36 times\n",
      "code was found 24 times\n",
      "version was found 23 times\n",
      "name was found 21 times\n",
      "error was found 21 times\n",
      "div was found 21 times\n",
      "style was found 27 times\n"
     ]
    }
   ],
   "source": [
    "count = {}\n",
    "for w in normalized.split():\n",
    "    if w in count:\n",
    "        count[w] += 1\n",
    "    else:\n",
    "        count[w] = 1\n",
    "for word, times in count.items():\n",
    "    if times > sample_size/5:\n",
    "        print(\"%s was found %d times\" % (word, times))"
   ]
  },
  {
   "cell_type": "code",
   "execution_count": 32,
   "metadata": {
    "colab": {
     "base_uri": "https://localhost:8080/",
     "height": 94
    },
    "colab_type": "code",
    "id": "gMVhnhtA6cKW",
    "outputId": "6551f0eb-447d-4b39-bf71-455b96309755"
   },
   "outputs": [
    {
     "name": "stdout",
     "output_type": "stream",
     "text": [
      "[(0, '0.022*\"get\" + 0.017*\"behavior\" + 0.012*\"image\" + 0.011*\"name\" + 0.011*\"seems\" + 0.009*\"also\" + 0.009*\"que\" + 0.009*\"could\" + 0.008*\"output\" + 0.008*\"would\" + 0.008*\"system\" + 0.007*\"debug\" + 0.007*\"time\" + 0.007*\"hi\" + 0.006*\"continuous\" + 0.006*\"know\" + 0.006*\"one\" + 0.006*\"job\" + 0.006*\"wont\" + 0.006*\"text\"'), (1, '0.028*\"script\" + 0.023*\"run\" + 0.022*\"build\" + 0.016*\"currently\" + 0.013*\"hello\" + 0.012*\"still\" + 0.012*\"may\" + 0.012*\"need\" + 0.011*\"link\" + 0.010*\"bug\" + 0.010*\"started\" + 0.009*\"pipeline\" + 0.008*\"instead\" + 0.008*\"work\" + 0.008*\"case\" + 0.008*\"plugin\" + 0.007*\"something\" + 0.006*\"process\" + 0.006*\"well\" + 0.006*\"support\"'), (2, '0.029*\"version\" + 0.019*\"new\" + 0.018*\"problem\" + 0.017*\"current\" + 0.016*\"like\" + 0.014*\"source\" + 0.012*\"call\" + 0.011*\"create\" + 0.010*\"use\" + 0.008*\"user\" + 0.008*\"value\" + 0.007*\"set\" + 0.006*\"please\" + 0.006*\"always\" + 0.006*\"possible\" + 0.006*\"available\" + 0.006*\"index\" + 0.005*\"rather\" + 0.005*\"allow\" + 0.005*\"semantics\"'), (3, '0.021*\"see\" + 0.018*\"request\" + 0.016*\"id\" + 0.016*\"users\" + 0.014*\"using\" + 0.013*\"de\" + 0.011*\"thanks\" + 0.010*\"ive\" + 0.010*\"im\" + 0.009*\"instructions\" + 0.009*\"think\" + 0.008*\"files\" + 0.008*\"command\" + 0.007*\"style\" + 0.007*\"span\" + 0.006*\"creating\" + 0.006*\"steps\" + 0.006*\"reproduce\" + 0.006*\"operating\" + 0.006*\"client\"'), (4, '0.027*\"type\" + 0.020*\"error\" + 0.018*\"code\" + 0.015*\"move\" + 0.012*\"release\" + 0.012*\"expected\" + 0.012*\"report\" + 0.011*\"description\" + 0.011*\"feature\" + 0.011*\"file\" + 0.009*\"div\" + 0.008*\"epng\" + 0.008*\"commit\" + 0.007*\"first\" + 0.007*\"module\" + 0.007*\"look\" + 0.006*\"crash\" + 0.006*\"able\" + 0.006*\"following\" + 0.005*\"fa\"')]\n"
     ]
    }
   ],
   "source": [
    "import gensim\n",
    "from gensim import corpora\n",
    "\n",
    "tokenized_sents = list(sent_to_words(filtered_sentence))\n",
    "\n",
    "# Creating the term dictionary of our corpus, where every unique term is assigned an index. \n",
    "dictionary = corpora.Dictionary(tokenized_sents)\n",
    "\n",
    "# Converting list of documents (corpus) into Document Term Matrix using dictionary prepared above.\n",
    "doc_term_matrix = [dictionary.doc2bow(doc) for doc in tokenized_sents]\n",
    "\n",
    "Lda = gensim.models.ldamodel.LdaModel\n",
    "\n",
    "# Running and Training LDA model on the document term matrix by selecting minimum parameters required.\n",
    "ldamodel = Lda(doc_term_matrix, \n",
    "               id2word = dictionary, \n",
    "               num_topics=5, \n",
    "               random_state=100,\n",
    "               update_every=1,\n",
    "               chunksize=100,\n",
    "               passes=10,\n",
    "               alpha='auto',\n",
    "               per_word_topics=True)\n",
    "\n",
    "print(ldamodel.print_topics(num_topics=5, num_words=20))"
   ]
  },
  {
   "cell_type": "code",
   "execution_count": 33,
   "metadata": {
    "colab": {
     "base_uri": "https://localhost:8080/",
     "height": 1020
    },
    "colab_type": "code",
    "id": "WB2TP-lkCbnK",
    "outputId": "7ca303da-85b9-4de9-e949-b93bff4edb0d"
   },
   "outputs": [
    {
     "data": {
      "text/html": [
       "\n",
       "<link rel=\"stylesheet\" type=\"text/css\" href=\"https://cdn.rawgit.com/bmabey/pyLDAvis/files/ldavis.v1.0.0.css\">\n",
       "\n",
       "\n",
       "<div id=\"ldavis_el4327365502531442268407281\"></div>\n",
       "<script type=\"text/javascript\">\n",
       "\n",
       "var ldavis_el4327365502531442268407281_data = {\"mdsDat\": {\"x\": [0.10960995716558541, -0.008364053509328347, -0.011949779906211865, -0.031546779682913036, -0.05774934406713223], \"y\": [0.028879051767994993, -0.0994915112587622, -0.007282193906510263, 0.015790842773256535, 0.06210381062402082], \"topics\": [1, 2, 3, 4, 5], \"cluster\": [1, 1, 1, 1, 1], \"Freq\": [25.19662094116211, 24.660383224487305, 20.464519500732422, 17.71160888671875, 11.966862678527832]}, \"tinfo\": {\"Category\": [\"Default\", \"Default\", \"Default\", \"Default\", \"Default\", \"Default\", \"Default\", \"Default\", \"Default\", \"Default\", \"Default\", \"Default\", \"Default\", \"Default\", \"Default\", \"Default\", \"Default\", \"Default\", \"Default\", \"Default\", \"Default\", \"Default\", \"Default\", \"Default\", \"Default\", \"Default\", \"Default\", \"Default\", \"Default\", \"Default\", \"Topic1\", \"Topic1\", \"Topic1\", \"Topic1\", \"Topic1\", \"Topic1\", \"Topic1\", \"Topic1\", \"Topic1\", \"Topic1\", \"Topic1\", \"Topic1\", \"Topic1\", \"Topic1\", \"Topic1\", \"Topic1\", \"Topic1\", \"Topic1\", \"Topic1\", \"Topic1\", \"Topic1\", \"Topic1\", \"Topic1\", \"Topic1\", \"Topic1\", \"Topic1\", \"Topic1\", \"Topic1\", \"Topic1\", \"Topic1\", \"Topic1\", \"Topic1\", \"Topic1\", \"Topic2\", \"Topic2\", \"Topic2\", \"Topic2\", \"Topic2\", \"Topic2\", \"Topic2\", \"Topic2\", \"Topic2\", \"Topic2\", \"Topic2\", \"Topic2\", \"Topic2\", \"Topic2\", \"Topic2\", \"Topic2\", \"Topic2\", \"Topic2\", \"Topic2\", \"Topic2\", \"Topic2\", \"Topic2\", \"Topic2\", \"Topic2\", \"Topic2\", \"Topic2\", \"Topic2\", \"Topic2\", \"Topic2\", \"Topic2\", \"Topic2\", \"Topic2\", \"Topic2\", \"Topic2\", \"Topic2\", \"Topic2\", \"Topic3\", \"Topic3\", \"Topic3\", \"Topic3\", \"Topic3\", \"Topic3\", \"Topic3\", \"Topic3\", \"Topic3\", \"Topic3\", \"Topic3\", \"Topic3\", \"Topic3\", \"Topic3\", \"Topic3\", \"Topic3\", \"Topic3\", \"Topic3\", \"Topic3\", \"Topic3\", \"Topic3\", \"Topic3\", \"Topic3\", \"Topic3\", \"Topic3\", \"Topic3\", \"Topic3\", \"Topic3\", \"Topic3\", \"Topic3\", \"Topic3\", \"Topic3\", \"Topic3\", \"Topic3\", \"Topic3\", \"Topic3\", \"Topic3\", \"Topic4\", \"Topic4\", \"Topic4\", \"Topic4\", \"Topic4\", \"Topic4\", \"Topic4\", \"Topic4\", \"Topic4\", \"Topic4\", \"Topic4\", \"Topic4\", \"Topic4\", \"Topic4\", \"Topic4\", \"Topic4\", \"Topic4\", \"Topic4\", \"Topic4\", \"Topic4\", \"Topic4\", \"Topic4\", \"Topic4\", \"Topic4\", \"Topic4\", \"Topic4\", \"Topic4\", \"Topic4\", \"Topic4\", \"Topic4\", \"Topic4\", \"Topic5\", \"Topic5\", \"Topic5\", \"Topic5\", \"Topic5\", \"Topic5\", \"Topic5\", \"Topic5\", \"Topic5\", \"Topic5\", \"Topic5\", \"Topic5\", \"Topic5\", \"Topic5\", \"Topic5\", \"Topic5\", \"Topic5\", \"Topic5\", \"Topic5\", \"Topic5\", \"Topic5\", \"Topic5\", \"Topic5\", \"Topic5\", \"Topic5\", \"Topic5\", \"Topic5\", \"Topic5\", \"Topic5\", \"Topic5\", \"Topic5\", \"Topic5\", \"Topic5\"], \"Freq\": [21.0, 17.0, 19.0, 12.0, 18.0, 10.0, 12.0, 14.0, 16.0, 9.0, 13.0, 11.0, 15.0, 14.0, 12.0, 12.0, 14.0, 13.0, 10.0, 7.0, 11.0, 11.0, 11.0, 8.0, 9.0, 10.0, 7.0, 7.0, 5.0, 9.0, 18.22859764099121, 16.04711151123047, 14.424276351928711, 12.480504035949707, 13.710721969604492, 11.29372501373291, 8.484280586242676, 8.589018821716309, 9.277294158935547, 8.245457649230957, 7.824695587158203, 7.388727188110352, 7.111260890960693, 6.140557765960693, 6.5528459548950195, 5.559396266937256, 5.362647533416748, 5.362647533416748, 5.0689592361450195, 5.191014766693115, 4.238768100738525, 4.675424098968506, 4.019211769104004, 4.886290073394775, 3.8268463611602783, 3.5960872173309326, 3.9352846145629883, 3.835322618484497, 4.111935615539551, 5.06087064743042, 4.668513774871826, 3.8786582946777344, 3.876711368560791, 19.0969295501709, 14.613931655883789, 9.797821998596191, 9.382889747619629, 10.670711517333984, 7.795478820800781, 7.4275312423706055, 7.155006408691406, 6.520442962646484, 6.214791297912598, 7.220117568969727, 6.083121299743652, 7.778946399688721, 5.264655590057373, 5.350849151611328, 4.9727888107299805, 4.917454719543457, 4.615521430969238, 5.590351581573486, 6.394474029541016, 3.9236838817596436, 3.8079605102539062, 3.6160645484924316, 4.991632461547852, 4.0181779861450195, 3.4335508346557617, 3.7646610736846924, 2.989417314529419, 2.792989730834961, 2.8052754402160645, 4.478601932525635, 5.152183532714844, 3.462877035140991, 3.910966634750366, 4.213382720947266, 4.210994243621826, 20.98128318786621, 13.535572052001953, 12.654267311096191, 11.498510360717773, 11.83678913116455, 7.518002033233643, 6.988532543182373, 8.59721851348877, 5.741159915924072, 5.895508289337158, 4.794788837432861, 4.6037726402282715, 4.569715976715088, 4.1675214767456055, 4.635313034057617, 3.723785638809204, 10.045469284057617, 2.983071804046631, 3.426217555999756, 3.2167813777923584, 3.194955348968506, 2.4739959239959717, 1.8451021909713745, 1.920986533164978, 4.005630016326904, 1.6340420246124268, 2.3637514114379883, 1.5803743600845337, 1.67990243434906, 1.7765482664108276, 2.9265940189361572, 2.9189610481262207, 2.66243577003479, 2.112107276916504, 2.9030072689056396, 2.9027230739593506, 2.375826358795166, 16.74567222595215, 12.12834644317627, 11.299051284790039, 7.332481861114502, 7.3721723556518555, 7.609714984893799, 6.761012077331543, 6.505341529846191, 9.513960838317871, 5.231564521789551, 5.723814010620117, 4.935461521148682, 4.3049540519714355, 6.605777263641357, 3.635106325149536, 3.6376333236694336, 3.8865444660186768, 2.9506168365478516, 4.305277347564697, 2.9156718254089355, 2.942626476287842, 2.468996047973633, 2.092041015625, 3.0248589515686035, 2.2431681156158447, 2.2131123542785645, 2.7584245204925537, 1.8312549591064453, 4.467440128326416, 1.8548158407211304, 1.837026596069336, 11.544360160827637, 9.803561210632324, 9.089751243591309, 6.605419158935547, 5.354025840759277, 5.217831134796143, 4.837734222412109, 4.4300384521484375, 4.314545631408691, 4.042520523071289, 3.2412664890289307, 3.4042809009552, 4.87702751159668, 3.2325613498687744, 3.14566707611084, 3.7294933795928955, 2.6023271083831787, 3.0101428031921387, 2.661625385284424, 2.0762064456939697, 2.063925266265869, 2.3033664226531982, 2.2143216133117676, 2.6907167434692383, 1.6266309022903442, 1.4594768285751343, 0.8462958335876465, 2.258545398712158, 0.8001981377601624, 0.7032397389411926, 1.183769702911377, 0.9148373007774353, 0.8969175219535828], \"Term\": [\"version\", \"type\", \"get\", \"script\", \"see\", \"run\", \"error\", \"new\", \"request\", \"build\", \"problem\", \"code\", \"behavior\", \"id\", \"current\", \"like\", \"users\", \"using\", \"move\", \"currently\", \"de\", \"image\", \"source\", \"release\", \"call\", \"name\", \"expected\", \"report\", \"hello\", \"seems\", \"see\", \"request\", \"id\", \"using\", \"users\", \"de\", \"im\", \"ive\", \"thanks\", \"instructions\", \"think\", \"files\", \"command\", \"span\", \"style\", \"creating\", \"steps\", \"reproduce\", \"client\", \"operating\", \"scroll\", \"include\", \"missing\", \"happening\", \"url\", \"tried\", \"email\", \"example\", \"installation\", \"check\", \"used\", \"dsc\", \"progress\", \"get\", \"behavior\", \"name\", \"seems\", \"image\", \"also\", \"could\", \"would\", \"system\", \"time\", \"output\", \"hi\", \"que\", \"one\", \"know\", \"text\", \"issue\", \"return\", \"continuous\", \"debug\", \"running\", \"class\", \"doesnt\", \"wont\", \"branches\", \"push\", \"config\", \"mode\", \"already\", \"github\", \"seem\", \"job\", \"everything\", \"php\", \"progress\", \"dsc\", \"version\", \"new\", \"problem\", \"like\", \"current\", \"create\", \"use\", \"call\", \"value\", \"user\", \"set\", \"always\", \"possible\", \"available\", \"please\", \"rather\", \"source\", \"http\", \"allow\", \"semantics\", \"apng\", \"tags\", \"never\", \"messages\", \"index\", \"page\", \"backend\", \"give\", \"windows\", \"parameters\", \"rgb\", \"color\", \"previously\", \"render\", \"dsc\", \"progress\", \"je\", \"type\", \"error\", \"code\", \"report\", \"expected\", \"release\", \"description\", \"file\", \"move\", \"epng\", \"div\", \"commit\", \"look\", \"feature\", \"following\", \"able\", \"crash\", \"another\", \"module\", \"message\", \"table\", \"added\", \"way\", \"fa\", \"status\", \"import\", \"png\", \"test\", \"first\", \"cd\", \"je\", \"script\", \"run\", \"build\", \"currently\", \"hello\", \"still\", \"need\", \"link\", \"bug\", \"started\", \"work\", \"instead\", \"may\", \"case\", \"plugin\", \"pipeline\", \"support\", \"something\", \"well\", \"sure\", \"submitting\", \"browser\", \"pm\", \"process\", \"server\", \"function\", \"included\", \"la\", \"init\", \"full\", \"json\", \"writing\", \"dsc\"], \"Total\": [21.0, 17.0, 19.0, 12.0, 18.0, 10.0, 12.0, 14.0, 16.0, 9.0, 13.0, 11.0, 15.0, 14.0, 12.0, 12.0, 14.0, 13.0, 10.0, 7.0, 11.0, 11.0, 11.0, 8.0, 9.0, 10.0, 7.0, 7.0, 5.0, 9.0, 18.76836585998535, 16.64509391784668, 14.9737548828125, 13.004878044128418, 14.449953079223633, 11.976701736450195, 9.015178680419922, 9.133238792419434, 9.87191104888916, 8.82724666595459, 8.379159927368164, 7.922338962554932, 7.694635391235352, 6.681219100952148, 7.153461933135986, 6.120731830596924, 5.929478168487549, 5.929478168487549, 5.63702917098999, 5.7729597091674805, 4.775562763214111, 5.287393569946289, 4.556447505950928, 5.560612201690674, 4.355727672576904, 4.122835159301758, 4.52225399017334, 4.442546367645264, 4.77103853225708, 5.898918628692627, 6.304890155792236, 13.68556022644043, 13.685625076293945, 19.632522583007812, 15.154296875, 10.31386661529541, 9.916440963745117, 11.302637100219727, 8.318965911865234, 7.953010559082031, 7.693406105041504, 7.059161186218262, 6.733933925628662, 7.823541164398193, 6.643658638000488, 8.503129005432129, 5.779858112335205, 5.898595333099365, 5.496158123016357, 5.436915874481201, 5.153424263000488, 6.30646276473999, 7.241578578948975, 4.4691691398620605, 4.347385883331299, 4.140225410461426, 5.730803489685059, 4.620454788208008, 3.9867753982543945, 4.373388767242432, 3.5439159870147705, 3.313849449157715, 3.340823173522949, 5.375868797302246, 6.4110331535339355, 4.470931053161621, 5.516972541809082, 13.685625076293945, 13.68556022644043, 21.522096633911133, 14.103652954101562, 13.203950881958008, 12.03953742980957, 12.397171020507812, 8.051969528198242, 7.513964653015137, 9.246868133544922, 6.272871017456055, 6.444849491119385, 5.328171730041504, 5.1544976234436035, 5.1717848777771, 4.717766761779785, 5.368317127227783, 4.347267150878906, 11.760479927062988, 3.5348973274230957, 4.101198673248291, 4.024833679199219, 4.074101448059082, 3.1798057556152344, 2.4069955348968506, 2.546870231628418, 5.321660041809082, 2.175553798675537, 3.157571315765381, 2.1770195960998535, 2.3941922187805176, 2.532620668411255, 4.18333101272583, 4.183422565460205, 3.911843776702881, 3.3999035358428955, 13.68556022644043, 13.685625076293945, 10.755428314208984, 17.297359466552734, 12.672240257263184, 11.847640991210938, 7.887884616851807, 7.953650951385498, 8.214875221252441, 7.308629035949707, 7.041022777557373, 10.507122039794922, 5.843722820281982, 6.45404577255249, 5.574814319610596, 4.892220497131348, 7.541383743286133, 4.180765151977539, 4.196903228759766, 4.598796367645264, 3.516998767852783, 5.134783744812012, 3.4810314178466797, 3.5545544624328613, 3.0097463130950928, 2.623861312866211, 3.809699296951294, 2.8400723934173584, 2.8403191566467285, 3.5617361068725586, 2.3671481609344482, 5.858559608459473, 2.4924874305725098, 10.755428314208984, 12.199565887451172, 10.383641242980957, 9.73103141784668, 7.264882564544678, 5.957220554351807, 5.833209991455078, 5.416268348693848, 5.004275798797607, 4.932377338409424, 4.717976093292236, 3.806424140930176, 4.0267839431762695, 5.782005786895752, 3.865147590637207, 3.763205051422119, 4.671943664550781, 3.267446756362915, 3.7820398807525635, 3.3912503719329834, 2.6567013263702393, 2.6721572875976562, 3.0318055152893066, 2.9229226112365723, 3.5871124267578125, 2.1955933570861816, 2.229207754135132, 1.4475599527359009, 3.950369358062744, 1.4200292825698853, 1.2791798114776611, 2.690119743347168, 2.2305216789245605, 13.68556022644043], \"loglift\": [30.0, 29.0, 28.0, 27.0, 26.0, 25.0, 24.0, 23.0, 22.0, 21.0, 20.0, 19.0, 18.0, 17.0, 16.0, 15.0, 14.0, 13.0, 12.0, 11.0, 10.0, 9.0, 8.0, 7.0, 6.0, 5.0, 4.0, 3.0, 2.0, 1.0, 1.3493000268936157, 1.3418999910354614, 1.3410999774932861, 1.3372999429702759, 1.3258999586105347, 1.319700002670288, 1.3178000450134277, 1.3170000314712524, 1.3163000345230103, 1.3102999925613403, 1.309999942779541, 1.3086999654769897, 1.2996000051498413, 1.294100046157837, 1.2907999753952026, 1.2822999954223633, 1.277999997138977, 1.277999997138977, 1.2721999883651733, 1.2721999883651733, 1.2591999769210815, 1.2554999589920044, 1.253000020980835, 1.2491999864578247, 1.2489999532699585, 1.2417999505996704, 1.239400029182434, 1.2315000295639038, 1.2297999858856201, 1.2252000570297241, 1.0779999494552612, 0.11760000139474869, 0.11710000038146973, 1.3723000288009644, 1.363700032234192, 1.3486000299453735, 1.3446999788284302, 1.3423999547958374, 1.3350000381469727, 1.3315999507904053, 1.3273999691009521, 1.3206000328063965, 1.319700002670288, 1.319700002670288, 1.3118000030517578, 1.3109999895095825, 1.3065999746322632, 1.3025000095367432, 1.2999000549316406, 1.2996000051498413, 1.2897000312805176, 1.2793999910354614, 1.2755999565124512, 1.2697999477386475, 1.2675000429153442, 1.2646000385284424, 1.2618999481201172, 1.2603000402450562, 1.250599980354309, 1.250100016593933, 1.2297999858856201, 1.2289999723434448, 1.2252999544143677, 1.2173999547958374, 1.181399941444397, 1.1445000171661377, 1.055899977684021, 0.22190000116825104, 0.22130000591278076, 1.5609999895095825, 1.5454000234603882, 1.5440000295639038, 1.5405000448226929, 1.5401999950408936, 1.517899990081787, 1.5140000581741333, 1.5135999917984009, 1.4979000091552734, 1.4974000453948975, 1.4809999465942383, 1.4735000133514404, 1.4627000093460083, 1.462499976158142, 1.4397000074386597, 1.4316999912261963, 1.4289000034332275, 1.416700005531311, 1.4067000150680542, 1.3624000549316406, 1.343400001525879, 1.3355000019073486, 1.3206000328063965, 1.3044999837875366, 1.30239999294281, 1.3003000020980835, 1.2969000339508057, 1.2661999464035034, 1.232200026512146, 1.2318999767303467, 1.229200005531311, 1.2266000509262085, 1.20169997215271, 1.1103999614715576, 0.03590000048279762, 0.03579999879002571, 0.07639999687671661, 1.6985000371932983, 1.6871000528335571, 1.683500051498413, 1.6578999757766724, 1.6549999713897705, 1.6543999910354614, 1.6531000137329102, 1.6518000364303589, 1.631700038909912, 1.620300054550171, 1.6109000444412231, 1.6090999841690063, 1.6030999422073364, 1.5985000133514404, 1.5910999774932861, 1.5879000425338745, 1.5627000331878662, 1.555400013923645, 1.554800033569336, 1.5536999702453613, 1.5420000553131104, 1.5328999757766724, 1.5044000148773193, 1.5003000497817993, 1.4950000047683716, 1.4814000129699707, 1.4753999710083008, 1.4743000268936157, 1.4599000215530396, 1.4355000257492065, -0.03629999980330467, 2.0678000450134277, 2.065500020980835, 2.0548999309539795, 2.027899980545044, 2.0162999629974365, 2.0114998817443848, 2.0100998878479004, 2.0011000633239746, 1.9891999959945679, 1.968500018119812, 1.9622999429702759, 1.9551000595092773, 1.9528000354766846, 1.9443000555038452, 1.9437999725341797, 1.8976999521255493, 1.895400047302246, 1.8947999477386475, 1.8808000087738037, 1.8765000104904175, 1.864799976348877, 1.8481999635696411, 1.8453999757766724, 1.8355000019073486, 1.823099970817566, 1.6994999647140503, 1.586300015449524, 1.5638999938964844, 1.5494999885559082, 1.5247999429702759, 1.3020999431610107, 1.2317999601364136, -0.6021000146865845], \"logprob\": [30.0, 29.0, 28.0, 27.0, 26.0, 25.0, 24.0, 23.0, 22.0, 21.0, 20.0, 19.0, 18.0, 17.0, 16.0, 15.0, 14.0, 13.0, 12.0, 11.0, 10.0, 9.0, 8.0, 7.0, 6.0, 5.0, 4.0, 3.0, 2.0, 1.0, -3.8759000301361084, -4.003399848937988, -4.110000133514404, -4.254700183868408, -4.160699844360352, -4.354700088500977, -4.640699863433838, -4.628399848937988, -4.551300048828125, -4.6691999435424805, -4.72160005569458, -4.7789998054504395, -4.817200183868408, -4.964000225067139, -4.89900016784668, -5.063399791717529, -5.099400043487549, -5.099400043487549, -5.155799865722656, -5.131999969482422, -5.33459997177124, -5.236599922180176, -5.387800216674805, -5.192500114440918, -5.4369001388549805, -5.499100208282471, -5.408899784088135, -5.434700012207031, -5.364999771118164, -5.157400131225586, -5.238100051879883, -5.423399925231934, -5.423900127410889, -3.8078999519348145, -4.075399875640869, -4.475200176239014, -4.518499851226807, -4.389900207519531, -4.70389986038208, -4.752200126647949, -4.789599895477295, -4.882500171661377, -4.930500030517578, -4.7804999351501465, -4.951900005340576, -4.705999851226807, -5.096399784088135, -5.080100059509277, -5.15339994430542, -5.164599895477295, -5.228000164031982, -5.036399841308594, -4.9019999504089355, -5.390399932861328, -5.420300006866455, -5.4720001220703125, -5.149600028991699, -5.366600036621094, -5.523799896240234, -5.431700229644775, -5.662300109863281, -5.730299949645996, -5.725900173187256, -5.2581000328063965, -5.118000030517578, -5.5152997970581055, -5.393599987030029, -5.3190999031066895, -5.319699764251709, -3.5272998809814453, -3.96560001373291, -4.032899856567383, -4.128699779510498, -4.099699974060059, -4.553599834442139, -4.6265997886657715, -4.41949987411499, -4.823200225830078, -4.7967000007629395, -5.003399848937988, -5.044000148773193, -5.051400184631348, -5.143599987030029, -5.037199974060059, -5.256100177764893, -4.263800144195557, -5.47790002822876, -5.339399814605713, -5.402500152587891, -5.409299850463867, -5.66510009765625, -5.958399772644043, -5.918099880218506, -5.183199882507324, -6.079800128936768, -5.710599899291992, -6.1132001876831055, -6.052199840545654, -5.996200084686279, -5.497000217437744, -5.49970006942749, -5.591599941253662, -5.823200225830078, -5.505099773406982, -5.505199909210205, -5.70550012588501, -3.608299970626831, -3.9309000968933105, -4.001699924468994, -4.434100151062012, -4.428699970245361, -4.396999835968018, -4.515200138092041, -4.553800106048584, -4.173699855804443, -4.771699905395508, -4.68179988861084, -4.829999923706055, -4.966700077056885, -4.53849983215332, -5.135799884796143, -5.1350998878479, -5.068900108337402, -5.344399929046631, -4.966599941253662, -5.356299877166748, -5.347099781036377, -5.522600173950195, -5.688300132751465, -5.3196001052856445, -5.618500232696533, -5.631999969482422, -5.411799907684326, -5.821400165557861, -4.929599761962891, -5.808599948883057, -5.818299770355225, -3.588099956512451, -3.7516000270843506, -3.827199935913086, -4.146399974822998, -4.356500148773193, -4.382299900054932, -4.457900047302246, -4.545899868011475, -4.572299957275391, -4.637499809265137, -4.858399868011475, -4.809299945831299, -4.44980001449585, -4.861100196838379, -4.888299942016602, -4.718100070953369, -5.077899932861328, -4.932400226593018, -5.0553998947143555, -5.303800106048584, -5.309700012207031, -5.199999809265137, -5.2393999099731445, -5.04449987411499, -5.547800064086914, -5.656300067901611, -6.201200008392334, -5.219600200653076, -6.257199764251709, -6.38640022277832, -5.865600109100342, -6.123300075531006, -6.143099784851074]}, \"token.table\": {\"Topic\": [4, 4, 3, 2, 2, 3, 4, 3, 3, 3, 2, 2, 5, 5, 5, 3, 5, 4, 1, 2, 1, 4, 3, 1, 4, 2, 2, 2, 4, 3, 1, 3, 5, 1, 2, 4, 4, 2, 1, 2, 3, 4, 5, 1, 4, 4, 2, 1, 4, 4, 4, 4, 1, 4, 4, 5, 5, 2, 2, 3, 1, 5, 2, 3, 1, 1, 2, 4, 1, 5, 3, 5, 1, 5, 1, 2, 1, 1, 2, 3, 4, 5, 2, 5, 2, 5, 3, 5, 4, 5, 4, 3, 1, 2, 4, 4, 2, 5, 3, 3, 2, 1, 2, 3, 3, 1, 2, 5, 3, 5, 5, 4, 3, 3, 3, 5, 1, 2, 3, 4, 5, 2, 2, 3, 4, 3, 4, 1, 1, 2, 3, 5, 2, 5, 1, 1, 2, 2, 3, 5, 3, 5, 1, 2, 3, 1, 5, 4, 1, 5, 1, 5, 5, 5, 2, 4, 3, 4, 2, 1, 1, 2, 1, 4, 1, 3, 1, 2, 3, 1, 1, 3, 3, 4, 5, 3, 2, 5, 2, 5], \"Freq\": [0.9530836939811707, 0.6645078063011169, 0.7314934730529785, 0.9052915573120117, 0.9616580009460449, 0.9700266122817993, 0.8529999852180481, 0.7363587021827698, 0.8478587865829468, 0.633398175239563, 0.989818274974823, 0.8657156229019165, 0.6596729159355164, 0.8109679818153381, 0.9248762726783752, 0.9733025431632996, 0.7761669754981995, 0.8024112582206726, 0.8476129770278931, 0.9200931787490845, 0.8869920372962952, 0.9284548759460449, 0.7171161770820618, 0.9097247123718262, 0.8968908786773682, 0.9146225452423096, 0.9514049887657166, 0.8801698088645935, 0.8697928190231323, 0.9935457110404968, 0.9802749156951904, 0.9679627418518066, 0.9635393023490906, 0.918449878692627, 0.8285486102104187, 0.9577719569206238, 0.9296494126319885, 0.9661309719085693, 0.29227885603904724, 0.29227885603904724, 0.21920914947986603, 0.14613942801952362, 0.07306971400976181, 0.8845146894454956, 0.855618953704834, 0.9469517469406128, 0.6710011959075928, 0.9003845453262329, 0.8800989389419556, 0.7874637246131897, 0.9282116293907166, 0.9941737651824951, 0.8835774660110474, 0.6827616691589355, 0.9567626714706421, 0.7817509174346924, 0.44858986139297485, 0.9677819013595581, 0.8979822993278503, 0.9186871647834778, 0.8991815447807312, 0.8393176198005676, 0.9031168222427368, 0.8486809730529785, 0.9349692463874817, 0.8873922824859619, 0.9732242226600647, 0.7041462063789368, 0.9456455111503601, 0.690817654132843, 0.7516451478004456, 0.7042108178138733, 0.838391900062561, 0.7450113892555237, 0.9062848687171936, 0.9196390509605408, 0.9854116439819336, 0.2789289057254791, 0.2789289057254791, 0.18595261871814728, 0.18595261871814728, 0.09297630935907364, 0.7799054980278015, 0.37173065543174744, 0.8476594090461731, 0.5062817931175232, 0.9136563539505005, 0.7993164658546448, 0.8176246285438538, 0.8647518157958984, 0.8618135452270508, 0.7852775454521179, 0.877876877784729, 0.8465211987495422, 0.7790006995201111, 0.9517353773117065, 0.9695684909820557, 0.9231448173522949, 0.83091139793396, 0.9926506280899048, 0.8650731444358826, 0.8661068677902222, 0.8947355151176453, 0.9193061590194702, 0.7896958589553833, 0.18125882744789124, 0.7250353097915649, 0.8561747074127197, 0.9313905835151672, 0.7971928119659424, 0.6842466592788696, 0.8422858715057373, 0.9667842388153076, 0.7669017910957336, 0.9845538139343262, 0.836327314376831, 0.2922774851322174, 0.2922774851322174, 0.21920810639858246, 0.1461387425661087, 0.07306937128305435, 0.75248783826828, 0.9408301115036011, 0.9201182723045349, 0.9738431572914124, 0.5882520079612732, 0.8874369263648987, 0.8432445526123047, 0.9612442255020142, 0.9702286720275879, 0.7171318531036377, 0.963053286075592, 0.8950209617614746, 0.9836415648460388, 0.8375976085662842, 0.9590606093406677, 0.7440657615661621, 0.9075836539268494, 0.7453724145889282, 0.9109154939651489, 0.9384081959724426, 0.7932227253913879, 0.08503054082393646, 0.08503054082393646, 0.850305438041687, 0.898039698600769, 0.8478211760520935, 0.7042074203491211, 0.8432445526123047, 0.8571609854698181, 0.9785471558570862, 0.7484589219093323, 0.9181481003761292, 0.7528132796287537, 0.9916192293167114, 0.8439876437187195, 0.6289692521095276, 0.844898521900177, 0.9097263813018799, 0.9116775989532471, 0.9547496438026428, 0.8910096287727356, 0.9702061414718628, 0.9828089475631714, 0.9183310866355896, 0.9315987229347229, 0.7930352091789246, 0.15860705077648163, 0.9309759736061096, 0.9688612818717957, 0.9227306842803955, 0.9564998149871826, 0.9757413864135742, 0.7622354030609131, 0.884629487991333, 0.8353548049926758, 0.8724780082702637, 0.7881413102149963, 0.9098700881004333, 0.44832560420036316], \"Term\": [\"able\", \"added\", \"allow\", \"already\", \"also\", \"always\", \"another\", \"apng\", \"available\", \"backend\", \"behavior\", \"branches\", \"browser\", \"bug\", \"build\", \"call\", \"case\", \"cd\", \"check\", \"class\", \"client\", \"code\", \"color\", \"command\", \"commit\", \"config\", \"continuous\", \"could\", \"crash\", \"create\", \"creating\", \"current\", \"currently\", \"de\", \"debug\", \"description\", \"div\", \"doesnt\", \"dsc\", \"dsc\", \"dsc\", \"dsc\", \"dsc\", \"email\", \"epng\", \"error\", \"everything\", \"example\", \"expected\", \"fa\", \"feature\", \"file\", \"files\", \"first\", \"following\", \"full\", \"function\", \"get\", \"github\", \"give\", \"happening\", \"hello\", \"hi\", \"http\", \"id\", \"im\", \"image\", \"import\", \"include\", \"included\", \"index\", \"init\", \"installation\", \"instead\", \"instructions\", \"issue\", \"ive\", \"je\", \"je\", \"je\", \"je\", \"je\", \"job\", \"json\", \"know\", \"la\", \"like\", \"link\", \"look\", \"may\", \"message\", \"messages\", \"missing\", \"mode\", \"module\", \"move\", \"name\", \"need\", \"never\", \"new\", \"one\", \"operating\", \"output\", \"page\", \"parameters\", \"php\", \"php\", \"pipeline\", \"please\", \"plugin\", \"pm\", \"png\", \"possible\", \"previously\", \"problem\", \"process\", \"progress\", \"progress\", \"progress\", \"progress\", \"progress\", \"push\", \"que\", \"rather\", \"release\", \"render\", \"report\", \"reproduce\", \"request\", \"return\", \"rgb\", \"run\", \"running\", \"script\", \"scroll\", \"see\", \"seem\", \"seems\", \"semantics\", \"server\", \"set\", \"something\", \"source\", \"source\", \"source\", \"span\", \"started\", \"status\", \"steps\", \"still\", \"style\", \"submitting\", \"support\", \"sure\", \"system\", \"table\", \"tags\", \"test\", \"text\", \"thanks\", \"think\", \"time\", \"tried\", \"type\", \"url\", \"use\", \"used\", \"used\", \"user\", \"users\", \"using\", \"value\", \"version\", \"way\", \"well\", \"windows\", \"wont\", \"work\", \"would\", \"writing\"]}, \"R\": 30, \"lambda.step\": 0.01, \"plot.opts\": {\"xlab\": \"PC1\", \"ylab\": \"PC2\"}, \"topic.order\": [4, 1, 3, 5, 2]};\n",
       "\n",
       "function LDAvis_load_lib(url, callback){\n",
       "  var s = document.createElement('script');\n",
       "  s.src = url;\n",
       "  s.async = true;\n",
       "  s.onreadystatechange = s.onload = callback;\n",
       "  s.onerror = function(){console.warn(\"failed to load library \" + url);};\n",
       "  document.getElementsByTagName(\"head\")[0].appendChild(s);\n",
       "}\n",
       "\n",
       "if(typeof(LDAvis) !== \"undefined\"){\n",
       "   // already loaded: just create the visualization\n",
       "   !function(LDAvis){\n",
       "       new LDAvis(\"#\" + \"ldavis_el4327365502531442268407281\", ldavis_el4327365502531442268407281_data);\n",
       "   }(LDAvis);\n",
       "}else if(typeof define === \"function\" && define.amd){\n",
       "   // require.js is available: use it to load d3/LDAvis\n",
       "   require.config({paths: {d3: \"https://cdnjs.cloudflare.com/ajax/libs/d3/3.5.5/d3.min\"}});\n",
       "   require([\"d3\"], function(d3){\n",
       "      window.d3 = d3;\n",
       "      LDAvis_load_lib(\"https://cdn.rawgit.com/bmabey/pyLDAvis/files/ldavis.v1.0.0.js\", function(){\n",
       "        new LDAvis(\"#\" + \"ldavis_el4327365502531442268407281\", ldavis_el4327365502531442268407281_data);\n",
       "      });\n",
       "    });\n",
       "}else{\n",
       "    // require.js not available: dynamically load d3 & LDAvis\n",
       "    LDAvis_load_lib(\"https://cdnjs.cloudflare.com/ajax/libs/d3/3.5.5/d3.min.js\", function(){\n",
       "         LDAvis_load_lib(\"https://cdn.rawgit.com/bmabey/pyLDAvis/files/ldavis.v1.0.0.js\", function(){\n",
       "                 new LDAvis(\"#\" + \"ldavis_el4327365502531442268407281\", ldavis_el4327365502531442268407281_data);\n",
       "            })\n",
       "         });\n",
       "}\n",
       "</script>"
      ],
      "text/plain": [
       "PreparedData(topic_coordinates=              x         y  topics  cluster       Freq\n",
       "topic                                                \n",
       "3      0.109610  0.028879       1        1  25.196621\n",
       "0     -0.008364 -0.099492       2        1  24.660383\n",
       "2     -0.011950 -0.007282       3        1  20.464520\n",
       "4     -0.031547  0.015791       4        1  17.711609\n",
       "1     -0.057749  0.062104       5        1  11.966863, topic_info=     Category       Freq        Term      Total  loglift  logprob\n",
       "term                                                             \n",
       "63    Default  21.000000     version  21.000000  30.0000  30.0000\n",
       "301   Default  17.000000        type  17.000000  29.0000  29.0000\n",
       "36    Default  19.000000         get  19.000000  28.0000  28.0000\n",
       "1133  Default  12.000000      script  12.000000  27.0000  27.0000\n",
       "807   Default  18.000000         see  18.000000  26.0000  26.0000\n",
       "738   Default  10.000000         run  10.000000  25.0000  25.0000\n",
       "288   Default  12.000000       error  12.000000  24.0000  24.0000\n",
       "238   Default  14.000000         new  14.000000  23.0000  23.0000\n",
       "8     Default  16.000000     request  16.000000  22.0000  22.0000\n",
       "740   Default   9.000000       build   9.000000  21.0000  21.0000\n",
       "914   Default  13.000000     problem  13.000000  20.0000  20.0000\n",
       "55    Default  11.000000        code  11.000000  19.0000  19.0000\n",
       "921   Default  15.000000    behavior  15.000000  18.0000  18.0000\n",
       "138   Default  14.000000          id  14.000000  17.0000  17.0000\n",
       "252   Default  12.000000     current  12.000000  16.0000  16.0000\n",
       "227   Default  12.000000        like  12.000000  15.0000  15.0000\n",
       "438   Default  14.000000       users  14.000000  14.0000  14.0000\n",
       "56    Default  13.000000       using  13.000000  13.0000  13.0000\n",
       "316   Default  10.000000        move  10.000000  12.0000  12.0000\n",
       "1033  Default   7.000000   currently   7.000000  11.0000  11.0000\n",
       "896   Default  11.000000          de  11.000000  10.0000  10.0000\n",
       "180   Default  11.000000       image  11.000000   9.0000   9.0000\n",
       "1258  Default  11.000000      source  11.000000   8.0000   8.0000\n",
       "929   Default   8.000000     release   8.000000   7.0000   7.0000\n",
       "1090  Default   9.000000        call   9.000000   6.0000   6.0000\n",
       "417   Default  10.000000        name  10.000000   5.0000   5.0000\n",
       "920   Default   7.000000    expected   7.000000   4.0000   4.0000\n",
       "33    Default   7.000000      report   7.000000   3.0000   3.0000\n",
       "334   Default   5.000000       hello   5.000000   2.0000   2.0000\n",
       "392   Default   9.000000       seems   9.000000   1.0000   1.0000\n",
       "...       ...        ...         ...        ...      ...      ...\n",
       "1033   Topic5   6.605419   currently   7.264883   2.0279  -4.1464\n",
       "334    Topic5   5.354026       hello   5.957221   2.0163  -4.3565\n",
       "170    Topic5   5.217831       still   5.833210   2.0115  -4.3823\n",
       "179    Topic5   4.837734        need   5.416268   2.0101  -4.4579\n",
       "489    Topic5   4.430038        link   5.004276   2.0011  -4.5459\n",
       "32     Topic5   4.314546         bug   4.932377   1.9892  -4.5723\n",
       "346    Topic5   4.042521     started   4.717976   1.9685  -4.6375\n",
       "183    Topic5   3.241266        work   3.806424   1.9623  -4.8584\n",
       "956    Topic5   3.404281     instead   4.026784   1.9551  -4.8093\n",
       "1149   Topic5   4.877028         may   5.782006   1.9528  -4.4498\n",
       "176    Topic5   3.232561        case   3.865148   1.9443  -4.8611\n",
       "54     Topic5   3.145667      plugin   3.763205   1.9438  -4.8883\n",
       "761    Topic5   3.729493    pipeline   4.671944   1.8977  -4.7181\n",
       "197    Topic5   2.602327     support   3.267447   1.8954  -5.0779\n",
       "25     Topic5   3.010143   something   3.782040   1.8948  -4.9324\n",
       "30     Topic5   2.661625        well   3.391250   1.8808  -5.0554\n",
       "213    Topic5   2.076206        sure   2.656701   1.8765  -5.3038\n",
       "676    Topic5   2.063925  submitting   2.672157   1.8648  -5.3097\n",
       "898    Topic5   2.303366     browser   3.031806   1.8482  -5.2000\n",
       "478    Topic5   2.214322          pm   2.922923   1.8454  -5.2394\n",
       "477    Topic5   2.690717     process   3.587112   1.8355  -5.0445\n",
       "500    Topic5   1.626631      server   2.195593   1.8231  -5.5478\n",
       "863    Topic5   1.459477    function   2.229208   1.6995  -5.6563\n",
       "368    Topic5   0.846296    included   1.447560   1.5863  -6.2012\n",
       "894    Topic5   2.258545          la   3.950369   1.5639  -5.2196\n",
       "466    Topic5   0.800198        init   1.420029   1.5495  -6.2572\n",
       "341    Topic5   0.703240        full   1.279180   1.5248  -6.3864\n",
       "654    Topic5   1.183770        json   2.690120   1.3021  -5.8656\n",
       "342    Topic5   0.914837     writing   2.230522   1.2318  -6.1233\n",
       "1529   Topic5   0.896918         dsc  13.685560  -0.6021  -6.1431\n",
       "\n",
       "[200 rows x 6 columns], token_table=      Topic      Freq        Term\n",
       "term                             \n",
       "153       4  0.953084        able\n",
       "323       4  0.664508       added\n",
       "265       3  0.731493       allow\n",
       "13        2  0.905292     already\n",
       "184       2  0.961658        also\n",
       "725       3  0.970027      always\n",
       "263       4  0.853000     another\n",
       "977       3  0.736359        apng\n",
       "707       3  0.847859   available\n",
       "886       3  0.633398     backend\n",
       "921       2  0.989818    behavior\n",
       "757       2  0.865716    branches\n",
       "898       5  0.659673     browser\n",
       "32        5  0.810968         bug\n",
       "740       5  0.924876       build\n",
       "1090      3  0.973303        call\n",
       "176       5  0.776167        case\n",
       "814       4  0.802411          cd\n",
       "11        1  0.847613       check\n",
       "401       2  0.920093       class\n",
       "135       1  0.886992      client\n",
       "55        4  0.928455        code\n",
       "980       3  0.717116       color\n",
       "112       1  0.909725     command\n",
       "319       4  0.896891      commit\n",
       "50        2  0.914623      config\n",
       "759       2  0.951405  continuous\n",
       "185       2  0.880170       could\n",
       "272       4  0.869793       crash\n",
       "428       3  0.993546      create\n",
       "...     ...       ...         ...\n",
       "967       1  0.978547       style\n",
       "676       5  0.748459  submitting\n",
       "197       5  0.918148     support\n",
       "213       5  0.752813        sure\n",
       "619       2  0.991619      system\n",
       "548       4  0.843988       table\n",
       "3         3  0.628969        tags\n",
       "285       4  0.844899        test\n",
       "608       2  0.909726        text\n",
       "347       1  0.911678      thanks\n",
       "147       1  0.954750       think\n",
       "178       2  0.891010        time\n",
       "385       1  0.970206       tried\n",
       "301       4  0.982809        type\n",
       "109       1  0.918331         url\n",
       "225       3  0.931599         use\n",
       "114       1  0.793035        used\n",
       "114       2  0.158607        used\n",
       "256       3  0.930976        user\n",
       "438       1  0.968861       users\n",
       "56        1  0.922731       using\n",
       "38        3  0.956500       value\n",
       "63        3  0.975741     version\n",
       "326       4  0.762235         way\n",
       "30        5  0.884629        well\n",
       "903       3  0.835355     windows\n",
       "1140      2  0.872478        wont\n",
       "183       5  0.788141        work\n",
       "168       2  0.909870       would\n",
       "342       5  0.448326     writing\n",
       "\n",
       "[180 rows x 3 columns], R=30, lambda_step=0.01, plot_opts={'xlab': 'PC1', 'ylab': 'PC2'}, topic_order=[4, 1, 3, 5, 2])"
      ]
     },
     "execution_count": 33,
     "metadata": {},
     "output_type": "execute_result"
    }
   ],
   "source": [
    "'''Visualize the topics'''\n",
    "# pyLDAvis tool to visualize the fit of our LDA model across topics and their top words. \n",
    "pyLDAvis.enable_notebook()\n",
    "vis = pyLDAvis.gensim.prepare(ldamodel, doc_term_matrix, dictionary)\n",
    "vis"
   ]
  },
  {
   "cell_type": "markdown",
   "metadata": {
    "colab_type": "text",
    "id": "xphIaSjFDfOE"
   },
   "source": [
    "The above shows a dynamic visualization of 5 possible topics from the sample dataset. However, due to the nature of the content being centred around similar coding issues, it is difficult for us to decipher the possible topics. The bar chart on the right shows the frequency relevant terms based on the topic chosen, where the blue bar represents overall frequency of that term while red bar represents the estimated frequency based on topic selected. "
   ]
  },
  {
   "cell_type": "code",
   "execution_count": null,
   "metadata": {},
   "outputs": [],
   "source": []
  }
 ],
 "metadata": {
  "colab": {
   "collapsed_sections": [
    "JTWAo-B8RAad"
   ],
   "name": "summarizer.ipynb",
   "provenance": [],
   "version": "0.3.2"
  },
  "kernelspec": {
   "display_name": "Python 3",
   "language": "python",
   "name": "python3"
  },
  "language_info": {
   "codemirror_mode": {
    "name": "ipython",
    "version": 3
   },
   "file_extension": ".py",
   "mimetype": "text/x-python",
   "name": "python",
   "nbconvert_exporter": "python",
   "pygments_lexer": "ipython3",
   "version": "3.7.1"
  }
 },
 "nbformat": 4,
 "nbformat_minor": 1
}
